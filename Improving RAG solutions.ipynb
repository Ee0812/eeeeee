{
 "cells": [
  {
   "cell_type": "markdown",
   "id": "bd36ebad-6502-4ad3-beeb-e5ea9514842a",
   "metadata": {},
   "source": [
    "## Setting up a RAG solution"
   ]
  },
  {
   "cell_type": "markdown",
   "id": "ae04afc5-f7cc-487b-8598-b4769c550da0",
   "metadata": {},
   "source": [
    "In this first task, we will setup the Workbench environment, create a RAG solution from Alphabets 2022 financial annual report and perform some queries to the report. To store the embeddings we use Chroma, an open-source embeddings database that makes it straightforward to store embeddings."
   ]
  },
  {
   "cell_type": "code",
   "execution_count": 1,
   "id": "8ea83468-45e4-490d-9304-19b8e43e0d84",
   "metadata": {
    "tags": []
   },
   "outputs": [
    {
     "name": "stdout",
     "output_type": "stream",
     "text": [
      "Requirement already satisfied: google-cloud-aiplatform in ./.local/lib/python3.10/site-packages (1.73.0)\n",
      "Collecting umap-learn\n",
      "  Downloading umap_learn-0.5.7-py3-none-any.whl.metadata (21 kB)\n",
      "Requirement already satisfied: tqdm in /opt/conda/lib/python3.10/site-packages (4.67.0)\n",
      "Collecting tqdm\n",
      "  Downloading tqdm-4.67.1-py3-none-any.whl.metadata (57 kB)\n",
      "Collecting pypdf\n",
      "  Downloading pypdf-5.1.0-py3-none-any.whl.metadata (7.2 kB)\n",
      "Requirement already satisfied: google-api-core!=2.0.*,!=2.1.*,!=2.2.*,!=2.3.*,!=2.4.*,!=2.5.*,!=2.6.*,!=2.7.*,<3.0.0dev,>=1.34.1 in ./.local/lib/python3.10/site-packages (from google-api-core[grpc]!=2.0.*,!=2.1.*,!=2.2.*,!=2.3.*,!=2.4.*,!=2.5.*,!=2.6.*,!=2.7.*,<3.0.0dev,>=1.34.1->google-cloud-aiplatform) (2.23.0)\n",
      "Requirement already satisfied: google-auth<3.0.0dev,>=2.14.1 in /opt/conda/lib/python3.10/site-packages (from google-cloud-aiplatform) (2.36.0)\n",
      "Requirement already satisfied: proto-plus<2.0.0dev,>=1.22.3 in /opt/conda/lib/python3.10/site-packages (from google-cloud-aiplatform) (1.25.0)\n",
      "Requirement already satisfied: protobuf!=4.21.0,!=4.21.1,!=4.21.2,!=4.21.3,!=4.21.4,!=4.21.5,<6.0.0dev,>=3.20.2 in /opt/conda/lib/python3.10/site-packages (from google-cloud-aiplatform) (3.20.3)\n",
      "Requirement already satisfied: packaging>=14.3 in /opt/conda/lib/python3.10/site-packages (from google-cloud-aiplatform) (24.1)\n",
      "Requirement already satisfied: google-cloud-storage<3.0.0dev,>=1.32.0 in /opt/conda/lib/python3.10/site-packages (from google-cloud-aiplatform) (2.14.0)\n",
      "Requirement already satisfied: google-cloud-bigquery!=3.20.0,<4.0.0dev,>=1.15.0 in ./.local/lib/python3.10/site-packages (from google-cloud-aiplatform) (3.27.0)\n",
      "Requirement already satisfied: google-cloud-resource-manager<3.0.0dev,>=1.3.3 in /opt/conda/lib/python3.10/site-packages (from google-cloud-aiplatform) (1.13.1)\n",
      "Requirement already satisfied: shapely<3.0.0dev in /opt/conda/lib/python3.10/site-packages (from google-cloud-aiplatform) (2.0.6)\n",
      "Requirement already satisfied: pydantic<3 in /opt/conda/lib/python3.10/site-packages (from google-cloud-aiplatform) (2.9.2)\n",
      "Requirement already satisfied: docstring-parser<1 in /opt/conda/lib/python3.10/site-packages (from google-cloud-aiplatform) (0.16)\n",
      "Requirement already satisfied: numpy>=1.17 in /opt/conda/lib/python3.10/site-packages (from umap-learn) (1.26.4)\n",
      "Requirement already satisfied: scipy>=1.3.1 in /opt/conda/lib/python3.10/site-packages (from umap-learn) (1.13.1)\n",
      "Requirement already satisfied: scikit-learn>=0.22 in /opt/conda/lib/python3.10/site-packages (from umap-learn) (1.5.2)\n",
      "Requirement already satisfied: numba>=0.51.2 in /opt/conda/lib/python3.10/site-packages (from umap-learn) (0.60.0)\n",
      "Collecting pynndescent>=0.5 (from umap-learn)\n",
      "  Downloading pynndescent-0.5.13-py3-none-any.whl.metadata (6.8 kB)\n",
      "Requirement already satisfied: typing_extensions>=4.0 in /opt/conda/lib/python3.10/site-packages (from pypdf) (4.12.2)\n",
      "Requirement already satisfied: googleapis-common-protos<2.0.dev0,>=1.56.2 in /opt/conda/lib/python3.10/site-packages (from google-api-core!=2.0.*,!=2.1.*,!=2.2.*,!=2.3.*,!=2.4.*,!=2.5.*,!=2.6.*,!=2.7.*,<3.0.0dev,>=1.34.1->google-api-core[grpc]!=2.0.*,!=2.1.*,!=2.2.*,!=2.3.*,!=2.4.*,!=2.5.*,!=2.6.*,!=2.7.*,<3.0.0dev,>=1.34.1->google-cloud-aiplatform) (1.66.0)\n",
      "Requirement already satisfied: requests<3.0.0.dev0,>=2.18.0 in /opt/conda/lib/python3.10/site-packages (from google-api-core!=2.0.*,!=2.1.*,!=2.2.*,!=2.3.*,!=2.4.*,!=2.5.*,!=2.6.*,!=2.7.*,<3.0.0dev,>=1.34.1->google-api-core[grpc]!=2.0.*,!=2.1.*,!=2.2.*,!=2.3.*,!=2.4.*,!=2.5.*,!=2.6.*,!=2.7.*,<3.0.0dev,>=1.34.1->google-cloud-aiplatform) (2.32.3)\n",
      "Requirement already satisfied: grpcio<2.0dev,>=1.33.2 in /opt/conda/lib/python3.10/site-packages (from google-api-core[grpc]!=2.0.*,!=2.1.*,!=2.2.*,!=2.3.*,!=2.4.*,!=2.5.*,!=2.6.*,!=2.7.*,<3.0.0dev,>=1.34.1->google-cloud-aiplatform) (1.68.0)\n",
      "Requirement already satisfied: grpcio-status<2.0.dev0,>=1.33.2 in /opt/conda/lib/python3.10/site-packages (from google-api-core[grpc]!=2.0.*,!=2.1.*,!=2.2.*,!=2.3.*,!=2.4.*,!=2.5.*,!=2.6.*,!=2.7.*,<3.0.0dev,>=1.34.1->google-cloud-aiplatform) (1.48.2)\n",
      "Requirement already satisfied: cachetools<6.0,>=2.0.0 in /opt/conda/lib/python3.10/site-packages (from google-auth<3.0.0dev,>=2.14.1->google-cloud-aiplatform) (5.5.0)\n",
      "Requirement already satisfied: pyasn1-modules>=0.2.1 in /opt/conda/lib/python3.10/site-packages (from google-auth<3.0.0dev,>=2.14.1->google-cloud-aiplatform) (0.4.1)\n",
      "Requirement already satisfied: rsa<5,>=3.1.4 in /opt/conda/lib/python3.10/site-packages (from google-auth<3.0.0dev,>=2.14.1->google-cloud-aiplatform) (4.9)\n",
      "Requirement already satisfied: google-cloud-core<3.0.0dev,>=2.4.1 in /opt/conda/lib/python3.10/site-packages (from google-cloud-bigquery!=3.20.0,<4.0.0dev,>=1.15.0->google-cloud-aiplatform) (2.4.1)\n",
      "Requirement already satisfied: google-resumable-media<3.0dev,>=2.0.0 in /opt/conda/lib/python3.10/site-packages (from google-cloud-bigquery!=3.20.0,<4.0.0dev,>=1.15.0->google-cloud-aiplatform) (2.7.2)\n",
      "Requirement already satisfied: python-dateutil<3.0dev,>=2.7.3 in /opt/conda/lib/python3.10/site-packages (from google-cloud-bigquery!=3.20.0,<4.0.0dev,>=1.15.0->google-cloud-aiplatform) (2.9.0.post0)\n",
      "Requirement already satisfied: grpc-google-iam-v1<1.0.0dev,>=0.12.4 in /opt/conda/lib/python3.10/site-packages (from google-cloud-resource-manager<3.0.0dev,>=1.3.3->google-cloud-aiplatform) (0.13.1)\n",
      "Requirement already satisfied: google-crc32c<2.0dev,>=1.0 in /opt/conda/lib/python3.10/site-packages (from google-cloud-storage<3.0.0dev,>=1.32.0->google-cloud-aiplatform) (1.6.0)\n",
      "Requirement already satisfied: llvmlite<0.44,>=0.43.0dev0 in /opt/conda/lib/python3.10/site-packages (from numba>=0.51.2->umap-learn) (0.43.0)\n",
      "Requirement already satisfied: annotated-types>=0.6.0 in /opt/conda/lib/python3.10/site-packages (from pydantic<3->google-cloud-aiplatform) (0.7.0)\n",
      "Requirement already satisfied: pydantic-core==2.23.4 in /opt/conda/lib/python3.10/site-packages (from pydantic<3->google-cloud-aiplatform) (2.23.4)\n",
      "Requirement already satisfied: joblib>=0.11 in /opt/conda/lib/python3.10/site-packages (from pynndescent>=0.5->umap-learn) (1.4.2)\n",
      "Requirement already satisfied: threadpoolctl>=3.1.0 in /opt/conda/lib/python3.10/site-packages (from scikit-learn>=0.22->umap-learn) (3.5.0)\n",
      "Requirement already satisfied: pyasn1<0.7.0,>=0.4.6 in /opt/conda/lib/python3.10/site-packages (from pyasn1-modules>=0.2.1->google-auth<3.0.0dev,>=2.14.1->google-cloud-aiplatform) (0.6.1)\n",
      "Requirement already satisfied: six>=1.5 in /opt/conda/lib/python3.10/site-packages (from python-dateutil<3.0dev,>=2.7.3->google-cloud-bigquery!=3.20.0,<4.0.0dev,>=1.15.0->google-cloud-aiplatform) (1.16.0)\n",
      "Requirement already satisfied: charset-normalizer<4,>=2 in /opt/conda/lib/python3.10/site-packages (from requests<3.0.0.dev0,>=2.18.0->google-api-core!=2.0.*,!=2.1.*,!=2.2.*,!=2.3.*,!=2.4.*,!=2.5.*,!=2.6.*,!=2.7.*,<3.0.0dev,>=1.34.1->google-api-core[grpc]!=2.0.*,!=2.1.*,!=2.2.*,!=2.3.*,!=2.4.*,!=2.5.*,!=2.6.*,!=2.7.*,<3.0.0dev,>=1.34.1->google-cloud-aiplatform) (3.4.0)\n",
      "Requirement already satisfied: idna<4,>=2.5 in /opt/conda/lib/python3.10/site-packages (from requests<3.0.0.dev0,>=2.18.0->google-api-core!=2.0.*,!=2.1.*,!=2.2.*,!=2.3.*,!=2.4.*,!=2.5.*,!=2.6.*,!=2.7.*,<3.0.0dev,>=1.34.1->google-api-core[grpc]!=2.0.*,!=2.1.*,!=2.2.*,!=2.3.*,!=2.4.*,!=2.5.*,!=2.6.*,!=2.7.*,<3.0.0dev,>=1.34.1->google-cloud-aiplatform) (3.10)\n",
      "Requirement already satisfied: urllib3<3,>=1.21.1 in /opt/conda/lib/python3.10/site-packages (from requests<3.0.0.dev0,>=2.18.0->google-api-core!=2.0.*,!=2.1.*,!=2.2.*,!=2.3.*,!=2.4.*,!=2.5.*,!=2.6.*,!=2.7.*,<3.0.0dev,>=1.34.1->google-api-core[grpc]!=2.0.*,!=2.1.*,!=2.2.*,!=2.3.*,!=2.4.*,!=2.5.*,!=2.6.*,!=2.7.*,<3.0.0dev,>=1.34.1->google-cloud-aiplatform) (1.26.20)\n",
      "Requirement already satisfied: certifi>=2017.4.17 in /opt/conda/lib/python3.10/site-packages (from requests<3.0.0.dev0,>=2.18.0->google-api-core!=2.0.*,!=2.1.*,!=2.2.*,!=2.3.*,!=2.4.*,!=2.5.*,!=2.6.*,!=2.7.*,<3.0.0dev,>=1.34.1->google-api-core[grpc]!=2.0.*,!=2.1.*,!=2.2.*,!=2.3.*,!=2.4.*,!=2.5.*,!=2.6.*,!=2.7.*,<3.0.0dev,>=1.34.1->google-cloud-aiplatform) (2024.8.30)\n",
      "Downloading umap_learn-0.5.7-py3-none-any.whl (88 kB)\n",
      "Downloading tqdm-4.67.1-py3-none-any.whl (78 kB)\n",
      "Downloading pypdf-5.1.0-py3-none-any.whl (297 kB)\n",
      "Downloading pynndescent-0.5.13-py3-none-any.whl (56 kB)\n",
      "Installing collected packages: tqdm, pypdf, pynndescent, umap-learn\n",
      "\u001b[33m  WARNING: The script tqdm is installed in '/home/jupyter/.local/bin' which is not on PATH.\n",
      "  Consider adding this directory to PATH or, if you prefer to suppress this warning, use --no-warn-script-location.\u001b[0m\u001b[33m\n",
      "\u001b[0mSuccessfully installed pynndescent-0.5.13 pypdf-5.1.0 tqdm-4.67.1 umap-learn-0.5.7\n"
     ]
    }
   ],
   "source": [
    "!pip3 install --upgrade --user google-cloud-aiplatform umap-learn tqdm pypdf"
   ]
  },
  {
   "cell_type": "code",
   "execution_count": 2,
   "id": "fbf4e1ab-c382-47e6-ba86-76533cc7c6a5",
   "metadata": {
    "tags": []
   },
   "outputs": [
    {
     "data": {
      "text/plain": [
       "{'status': 'ok', 'restart': True}"
      ]
     },
     "execution_count": 2,
     "metadata": {},
     "output_type": "execute_result"
    }
   ],
   "source": [
    "import IPython\n",
    "from IPython.display import Markdown, display\n",
    "import time\n",
    "\n",
    "app = IPython.Application.instance()\n",
    "app.kernel.do_shutdown(True)"
   ]
  },
  {
   "cell_type": "code",
   "execution_count": 1,
   "id": "1d6fa3f7-d400-4c6d-9ffd-76ebf3c09af4",
   "metadata": {
    "tags": []
   },
   "outputs": [],
   "source": [
    "PROJECT = !gcloud config get-value project\n",
    "PROJECT_ID = PROJECT[0]\n",
    "LOCATION = \"us-west1\""
   ]
  },
  {
   "cell_type": "code",
   "execution_count": 2,
   "id": "0aa77d26-ce51-41fe-9b81-1b8fc5bf1800",
   "metadata": {
    "tags": []
   },
   "outputs": [],
   "source": [
    "from vertexai.preview.generative_models import GenerativeModel\n",
    "from vertexai.language_models import TextEmbeddingModel\n",
    "text_embedding_model = TextEmbeddingModel.from_pretrained(\"text-embedding-004\")\n",
    "model = GenerativeModel('gemini-pro')"
   ]
  },
  {
   "cell_type": "code",
   "execution_count": 3,
   "id": "ca8a98ca-22d5-4a07-ba05-c2d389b14384",
   "metadata": {
    "tags": []
   },
   "outputs": [
    {
     "data": {
      "text/plain": [
       "('2022-alphabet-annual-report.pdf',\n",
       " <http.client.HTTPMessage at 0x7f43223b5330>)"
      ]
     },
     "execution_count": 3,
     "metadata": {},
     "output_type": "execute_result"
    }
   ],
   "source": [
    "import urllib.request\n",
    "\n",
    "# download alphabet's annual pdf report\n",
    "url = \"https://abc.xyz/assets/d4/4f/a48b94d548d0b2fdc029a95e8c63\"\n",
    "file = \"2022-alphabet-annual-report.pdf\"\n",
    "\n",
    "urllib.request.urlretrieve(f\"{url}/{file}\", filename=f\"{file}\")"
   ]
  },
  {
   "cell_type": "code",
   "execution_count": 4,
   "id": "b80e0328-c7c4-4178-985f-cbb64d04cbe5",
   "metadata": {
    "tags": []
   },
   "outputs": [
    {
     "name": "stdout",
     "output_type": "stream",
     "text": [
      "Collecting PyPDF2\n",
      "  Downloading pypdf2-3.0.1-py3-none-any.whl.metadata (6.8 kB)\n",
      "Downloading pypdf2-3.0.1-py3-none-any.whl (232 kB)\n",
      "Installing collected packages: PyPDF2\n",
      "Successfully installed PyPDF2-3.0.1\n",
      "To our investors,\n",
      "2022 was a year full of change and uncertainty around \n",
      "the world. In February, when war broke out in Ukraine, our teams worked around-the-clock to make sure our products were helpful to people who needed them, from providing trustworthy information on Search to disrupting cyberattacks to partnering with the government to deploy air raid alerts. In March, I traveled to Warsaw, Poland, where I met Googlers hosting families who sought refuge, talked with entrepreneurs using our office spaces, and saw how our products like Google Translate were helping Ukrainians find a bit of hope and connection.\n",
      "By late spring, the tech industry was adjusting to a \n",
      "more challenging macroeconomic environment, and as a company we embarked on efforts to sharpen our focus and make sure our efforts are aligned with our highest priorities. Near the end of the year, AI reached an inflection point, made possible by our foundational breakthroughs like Transformer and advances in diffusion models. It was an exciting moment for us after having worked to develop the technology responsibly for so many years. And on December 18, during the World Cup final, Google Search saw its highest query-per-second volume of all time, a strong signal of our momentum.\n",
      "Through it all, we launched new products that helped us \n",
      "advance our mission: to organize the world’s information and make it universally accessible and useful. Over the past few years, AI has emerged as the most important way we can advance our mission, and in 2022, we made some of our biggest technological advancements yet.  \n",
      "In the area of natural language understanding, our latest mo\n",
      "del, PaLM, demonstrates breakthrough capabilities \n",
      "in language, reasoning, and code tasks. Breakthroughs in “chain of thought” prompting are helping to build systems that can perform multistep reasoning and break down complex problems into smaller tasks. We also shared new generative models, including Imagen, our text-to-image model, and Phenaki, which can generate long, coherent videos from text prompts.\n",
      "It’s been especially exciting to see how AI advancements \n",
      "are making our products more helpful. Last year, we launched multisearch, a new way to search using both text and images, and it’s now available in more than  \n",
      "70 languages. People use Lens more than 10 billion  \n",
      "times per month to search with their camera or images,  \n",
      "and its new, AI-powered translation feature blends t\n",
      "ranslated text seamlessly into the background of images. \n",
      "And, thanks to a new machine learning technique, we added 24 new languages to Google Translate, including its first indigenous languages of the Americas.\n",
      "The breakthroughs we’re seeing are poised to transform \n",
      "every industry, and we’re helping businesses tap into the new opportunities AI creates. Last year, we announced new products to help businesses solve problems using AI, including Translation Hub, which can be used to translate documents into 135 languages at a previously unimaginable scale and speed. We brought more AI-powered features to Google Workspace, including automatic summarization for Google Docs and Chat to help people get work done faster. To help advertisers create meaningful performance, last year we started incorporating large language models into broad match,  \n",
      "a tool that makes it easier to match advertiser offers  \n",
      "to search queries.\n",
      "I\n",
      "n the first few months of 2023, we’ve continued to roll \n",
      "out new products and features that help unlock incredible \n",
      "opportunities for consumers, partners, and businesses, including ours. Among them, we introduced PaLM API,  \n",
      "an easy and safe way for developers to build on top of our l\n",
      "anguage models, and generative AI capabilities in Google \n",
      "→\n"
     ]
    }
   ],
   "source": [
    "!pip install PyPDF2\n",
    "import PyPDF2\n",
    "\n",
    "# Open the PDF file in binary mode\n",
    "with open('2022-alphabet-annual-report.pdf', 'rb') as file:\n",
    "    # Create a PdfFileReader object\n",
    "    pdf_reader = PyPDF2.PdfReader(file)\n",
    "    pdf_texts = [p.extract_text().strip() for p in pdf_reader.pages]\n",
    "\n",
    "    # Filter the empty strings\n",
    "    pdf_texts = [text for text in pdf_texts if text]\n",
    "\n",
    "    print(pdf_texts[0])"
   ]
  },
  {
   "cell_type": "markdown",
   "id": "5118030b-767f-4849-bc6a-583d79913aac",
   "metadata": {},
   "source": [
    "Split the PDF into chunks so that we can create embedding out of them. The embedding's APIs and the LLM have token limits, that's why we need to split the text into smaller units as opposed to sending the whole text."
   ]
  },
  {
   "cell_type": "code",
   "execution_count": 5,
   "id": "8daeed34-401b-4b6b-986e-e9e9aecab47a",
   "metadata": {
    "tags": []
   },
   "outputs": [
    {
     "name": "stdout",
     "output_type": "stream",
     "text": [
      "Collecting langchain\n",
      "  Downloading langchain-0.3.8-py3-none-any.whl.metadata (7.1 kB)\n",
      "Collecting sentence-transformers\n",
      "  Downloading sentence_transformers-3.3.1-py3-none-any.whl.metadata (10 kB)\n",
      "Requirement already satisfied: PyYAML>=5.3 in /opt/conda/lib/python3.10/site-packages (from langchain) (6.0.2)\n",
      "Requirement already satisfied: SQLAlchemy<3,>=1.4 in /opt/conda/lib/python3.10/site-packages (from langchain) (2.0.36)\n",
      "Requirement already satisfied: aiohttp<4.0.0,>=3.8.3 in /opt/conda/lib/python3.10/site-packages (from langchain) (3.11.4)\n",
      "Collecting async-timeout<5.0.0,>=4.0.0 (from langchain)\n",
      "  Downloading async_timeout-4.0.3-py3-none-any.whl.metadata (4.2 kB)\n",
      "Collecting langchain-core<0.4.0,>=0.3.21 (from langchain)\n",
      "  Downloading langchain_core-0.3.21-py3-none-any.whl.metadata (6.3 kB)\n",
      "Collecting langchain-text-splitters<0.4.0,>=0.3.0 (from langchain)\n",
      "  Downloading langchain_text_splitters-0.3.2-py3-none-any.whl.metadata (2.3 kB)\n",
      "Collecting langsmith<0.2.0,>=0.1.17 (from langchain)\n",
      "  Downloading langsmith-0.1.146-py3-none-any.whl.metadata (14 kB)\n",
      "Requirement already satisfied: numpy<2,>=1.22.4 in /opt/conda/lib/python3.10/site-packages (from langchain) (1.26.4)\n",
      "Requirement already satisfied: pydantic<3.0.0,>=2.7.4 in /opt/conda/lib/python3.10/site-packages (from langchain) (2.9.2)\n",
      "Requirement already satisfied: requests<3,>=2 in /opt/conda/lib/python3.10/site-packages (from langchain) (2.32.3)\n",
      "Requirement already satisfied: tenacity!=8.4.0,<10,>=8.1.0 in /opt/conda/lib/python3.10/site-packages (from langchain) (9.0.0)\n",
      "Collecting transformers<5.0.0,>=4.41.0 (from sentence-transformers)\n",
      "  Downloading transformers-4.46.3-py3-none-any.whl.metadata (44 kB)\n",
      "Requirement already satisfied: tqdm in ./.local/lib/python3.10/site-packages (from sentence-transformers) (4.67.1)\n",
      "Collecting torch>=1.11.0 (from sentence-transformers)\n",
      "  Downloading torch-2.5.1-cp310-cp310-manylinux1_x86_64.whl.metadata (28 kB)\n",
      "Requirement already satisfied: scikit-learn in /opt/conda/lib/python3.10/site-packages (from sentence-transformers) (1.5.2)\n",
      "Requirement already satisfied: scipy in /opt/conda/lib/python3.10/site-packages (from sentence-transformers) (1.13.1)\n",
      "Collecting huggingface-hub>=0.20.0 (from sentence-transformers)\n",
      "  Downloading huggingface_hub-0.26.2-py3-none-any.whl.metadata (13 kB)\n",
      "Requirement already satisfied: Pillow in /opt/conda/lib/python3.10/site-packages (from sentence-transformers) (11.0.0)\n",
      "Requirement already satisfied: aiohappyeyeballs>=2.3.0 in /opt/conda/lib/python3.10/site-packages (from aiohttp<4.0.0,>=3.8.3->langchain) (2.4.3)\n",
      "Requirement already satisfied: aiosignal>=1.1.2 in /opt/conda/lib/python3.10/site-packages (from aiohttp<4.0.0,>=3.8.3->langchain) (1.3.1)\n",
      "Requirement already satisfied: attrs>=17.3.0 in /opt/conda/lib/python3.10/site-packages (from aiohttp<4.0.0,>=3.8.3->langchain) (24.2.0)\n",
      "Requirement already satisfied: frozenlist>=1.1.1 in /opt/conda/lib/python3.10/site-packages (from aiohttp<4.0.0,>=3.8.3->langchain) (1.5.0)\n",
      "Requirement already satisfied: multidict<7.0,>=4.5 in /opt/conda/lib/python3.10/site-packages (from aiohttp<4.0.0,>=3.8.3->langchain) (6.1.0)\n",
      "Requirement already satisfied: propcache>=0.2.0 in /opt/conda/lib/python3.10/site-packages (from aiohttp<4.0.0,>=3.8.3->langchain) (0.2.0)\n",
      "Requirement already satisfied: yarl<2.0,>=1.17.0 in /opt/conda/lib/python3.10/site-packages (from aiohttp<4.0.0,>=3.8.3->langchain) (1.17.2)\n",
      "Requirement already satisfied: filelock in /opt/conda/lib/python3.10/site-packages (from huggingface-hub>=0.20.0->sentence-transformers) (3.16.1)\n",
      "Requirement already satisfied: fsspec>=2023.5.0 in /opt/conda/lib/python3.10/site-packages (from huggingface-hub>=0.20.0->sentence-transformers) (2024.10.0)\n",
      "Requirement already satisfied: packaging>=20.9 in /opt/conda/lib/python3.10/site-packages (from huggingface-hub>=0.20.0->sentence-transformers) (24.1)\n",
      "Requirement already satisfied: typing-extensions>=3.7.4.3 in /opt/conda/lib/python3.10/site-packages (from huggingface-hub>=0.20.0->sentence-transformers) (4.12.2)\n",
      "Requirement already satisfied: jsonpatch<2.0,>=1.33 in /opt/conda/lib/python3.10/site-packages (from langchain-core<0.4.0,>=0.3.21->langchain) (1.33)\n",
      "Collecting httpx<1,>=0.23.0 (from langsmith<0.2.0,>=0.1.17->langchain)\n",
      "  Downloading httpx-0.27.2-py3-none-any.whl.metadata (7.1 kB)\n",
      "Collecting orjson<4.0.0,>=3.9.14 (from langsmith<0.2.0,>=0.1.17->langchain)\n",
      "  Downloading orjson-3.10.12-cp310-cp310-manylinux_2_17_x86_64.manylinux2014_x86_64.whl.metadata (41 kB)\n",
      "Collecting requests-toolbelt<2.0.0,>=1.0.0 (from langsmith<0.2.0,>=0.1.17->langchain)\n",
      "  Downloading requests_toolbelt-1.0.0-py2.py3-none-any.whl.metadata (14 kB)\n",
      "Requirement already satisfied: annotated-types>=0.6.0 in /opt/conda/lib/python3.10/site-packages (from pydantic<3.0.0,>=2.7.4->langchain) (0.7.0)\n",
      "Requirement already satisfied: pydantic-core==2.23.4 in /opt/conda/lib/python3.10/site-packages (from pydantic<3.0.0,>=2.7.4->langchain) (2.23.4)\n",
      "Requirement already satisfied: charset-normalizer<4,>=2 in /opt/conda/lib/python3.10/site-packages (from requests<3,>=2->langchain) (3.4.0)\n",
      "Requirement already satisfied: idna<4,>=2.5 in /opt/conda/lib/python3.10/site-packages (from requests<3,>=2->langchain) (3.10)\n",
      "Requirement already satisfied: urllib3<3,>=1.21.1 in /opt/conda/lib/python3.10/site-packages (from requests<3,>=2->langchain) (1.26.20)\n",
      "Requirement already satisfied: certifi>=2017.4.17 in /opt/conda/lib/python3.10/site-packages (from requests<3,>=2->langchain) (2024.8.30)\n",
      "Requirement already satisfied: greenlet!=0.4.17 in /opt/conda/lib/python3.10/site-packages (from SQLAlchemy<3,>=1.4->langchain) (3.1.1)\n",
      "Requirement already satisfied: networkx in /opt/conda/lib/python3.10/site-packages (from torch>=1.11.0->sentence-transformers) (3.4.2)\n",
      "Requirement already satisfied: jinja2 in /opt/conda/lib/python3.10/site-packages (from torch>=1.11.0->sentence-transformers) (3.1.4)\n",
      "Collecting nvidia-cuda-nvrtc-cu12==12.4.127 (from torch>=1.11.0->sentence-transformers)\n",
      "  Downloading nvidia_cuda_nvrtc_cu12-12.4.127-py3-none-manylinux2014_x86_64.whl.metadata (1.5 kB)\n",
      "Collecting nvidia-cuda-runtime-cu12==12.4.127 (from torch>=1.11.0->sentence-transformers)\n",
      "  Downloading nvidia_cuda_runtime_cu12-12.4.127-py3-none-manylinux2014_x86_64.whl.metadata (1.5 kB)\n",
      "Collecting nvidia-cuda-cupti-cu12==12.4.127 (from torch>=1.11.0->sentence-transformers)\n",
      "  Downloading nvidia_cuda_cupti_cu12-12.4.127-py3-none-manylinux2014_x86_64.whl.metadata (1.6 kB)\n",
      "Collecting nvidia-cudnn-cu12==9.1.0.70 (from torch>=1.11.0->sentence-transformers)\n",
      "  Downloading nvidia_cudnn_cu12-9.1.0.70-py3-none-manylinux2014_x86_64.whl.metadata (1.6 kB)\n",
      "Collecting nvidia-cublas-cu12==12.4.5.8 (from torch>=1.11.0->sentence-transformers)\n",
      "  Downloading nvidia_cublas_cu12-12.4.5.8-py3-none-manylinux2014_x86_64.whl.metadata (1.5 kB)\n",
      "Collecting nvidia-cufft-cu12==11.2.1.3 (from torch>=1.11.0->sentence-transformers)\n",
      "  Downloading nvidia_cufft_cu12-11.2.1.3-py3-none-manylinux2014_x86_64.whl.metadata (1.5 kB)\n",
      "Collecting nvidia-curand-cu12==10.3.5.147 (from torch>=1.11.0->sentence-transformers)\n",
      "  Downloading nvidia_curand_cu12-10.3.5.147-py3-none-manylinux2014_x86_64.whl.metadata (1.5 kB)\n",
      "Collecting nvidia-cusolver-cu12==11.6.1.9 (from torch>=1.11.0->sentence-transformers)\n",
      "  Downloading nvidia_cusolver_cu12-11.6.1.9-py3-none-manylinux2014_x86_64.whl.metadata (1.6 kB)\n",
      "Collecting nvidia-cusparse-cu12==12.3.1.170 (from torch>=1.11.0->sentence-transformers)\n",
      "  Downloading nvidia_cusparse_cu12-12.3.1.170-py3-none-manylinux2014_x86_64.whl.metadata (1.6 kB)\n",
      "Collecting nvidia-nccl-cu12==2.21.5 (from torch>=1.11.0->sentence-transformers)\n",
      "  Downloading nvidia_nccl_cu12-2.21.5-py3-none-manylinux2014_x86_64.whl.metadata (1.8 kB)\n",
      "Collecting nvidia-nvtx-cu12==12.4.127 (from torch>=1.11.0->sentence-transformers)\n",
      "  Downloading nvidia_nvtx_cu12-12.4.127-py3-none-manylinux2014_x86_64.whl.metadata (1.7 kB)\n",
      "Collecting nvidia-nvjitlink-cu12==12.4.127 (from torch>=1.11.0->sentence-transformers)\n",
      "  Downloading nvidia_nvjitlink_cu12-12.4.127-py3-none-manylinux2014_x86_64.whl.metadata (1.5 kB)\n",
      "Collecting triton==3.1.0 (from torch>=1.11.0->sentence-transformers)\n",
      "  Downloading triton-3.1.0-cp310-cp310-manylinux_2_17_x86_64.manylinux2014_x86_64.whl.metadata (1.3 kB)\n",
      "Collecting sympy==1.13.1 (from torch>=1.11.0->sentence-transformers)\n",
      "  Downloading sympy-1.13.1-py3-none-any.whl.metadata (12 kB)\n",
      "Collecting mpmath<1.4,>=1.1.0 (from sympy==1.13.1->torch>=1.11.0->sentence-transformers)\n",
      "  Downloading mpmath-1.3.0-py3-none-any.whl.metadata (8.6 kB)\n",
      "Collecting regex!=2019.12.17 (from transformers<5.0.0,>=4.41.0->sentence-transformers)\n",
      "  Downloading regex-2024.11.6-cp310-cp310-manylinux_2_17_x86_64.manylinux2014_x86_64.whl.metadata (40 kB)\n",
      "Collecting tokenizers<0.21,>=0.20 (from transformers<5.0.0,>=4.41.0->sentence-transformers)\n",
      "  Downloading tokenizers-0.20.3-cp310-cp310-manylinux_2_17_x86_64.manylinux2014_x86_64.whl.metadata (6.7 kB)\n",
      "Collecting safetensors>=0.4.1 (from transformers<5.0.0,>=4.41.0->sentence-transformers)\n",
      "  Downloading safetensors-0.4.5-cp310-cp310-manylinux_2_17_x86_64.manylinux2014_x86_64.whl.metadata (3.8 kB)\n",
      "Requirement already satisfied: joblib>=1.2.0 in /opt/conda/lib/python3.10/site-packages (from scikit-learn->sentence-transformers) (1.4.2)\n",
      "Requirement already satisfied: threadpoolctl>=3.1.0 in /opt/conda/lib/python3.10/site-packages (from scikit-learn->sentence-transformers) (3.5.0)\n",
      "Requirement already satisfied: anyio in /opt/conda/lib/python3.10/site-packages (from httpx<1,>=0.23.0->langsmith<0.2.0,>=0.1.17->langchain) (4.6.2.post1)\n",
      "Collecting httpcore==1.* (from httpx<1,>=0.23.0->langsmith<0.2.0,>=0.1.17->langchain)\n",
      "  Downloading httpcore-1.0.7-py3-none-any.whl.metadata (21 kB)\n",
      "Requirement already satisfied: sniffio in /opt/conda/lib/python3.10/site-packages (from httpx<1,>=0.23.0->langsmith<0.2.0,>=0.1.17->langchain) (1.3.1)\n",
      "Requirement already satisfied: h11<0.15,>=0.13 in /opt/conda/lib/python3.10/site-packages (from httpcore==1.*->httpx<1,>=0.23.0->langsmith<0.2.0,>=0.1.17->langchain) (0.14.0)\n",
      "Requirement already satisfied: jsonpointer>=1.9 in /opt/conda/lib/python3.10/site-packages (from jsonpatch<2.0,>=1.33->langchain-core<0.4.0,>=0.3.21->langchain) (3.0.0)\n",
      "Requirement already satisfied: MarkupSafe>=2.0 in /opt/conda/lib/python3.10/site-packages (from jinja2->torch>=1.11.0->sentence-transformers) (3.0.2)\n",
      "Requirement already satisfied: exceptiongroup>=1.0.2 in /opt/conda/lib/python3.10/site-packages (from anyio->httpx<1,>=0.23.0->langsmith<0.2.0,>=0.1.17->langchain) (1.2.2)\n",
      "Downloading langchain-0.3.8-py3-none-any.whl (1.0 MB)\n",
      "\u001b[2K   \u001b[90m━━━━━━━━━━━━━━━━━━━━━━━━━━━━━━━━━━━━━━━━\u001b[0m \u001b[32m1.0/1.0 MB\u001b[0m \u001b[31m22.2 MB/s\u001b[0m eta \u001b[36m0:00:00\u001b[0m\n",
      "\u001b[?25hDownloading sentence_transformers-3.3.1-py3-none-any.whl (268 kB)\n",
      "Downloading async_timeout-4.0.3-py3-none-any.whl (5.7 kB)\n",
      "Downloading huggingface_hub-0.26.2-py3-none-any.whl (447 kB)\n",
      "Downloading langchain_core-0.3.21-py3-none-any.whl (409 kB)\n",
      "Downloading langchain_text_splitters-0.3.2-py3-none-any.whl (25 kB)\n",
      "Downloading langsmith-0.1.146-py3-none-any.whl (311 kB)\n",
      "Downloading torch-2.5.1-cp310-cp310-manylinux1_x86_64.whl (906.4 MB)\n",
      "\u001b[2K   \u001b[90m━━━━━━━━━━━━━━━━━━━━━━━━━━━━━━━━━━━━━━━━\u001b[0m \u001b[32m906.4/906.4 MB\u001b[0m \u001b[31m15.2 MB/s\u001b[0m eta \u001b[36m0:00:00\u001b[0m00:01\u001b[0m00:01\u001b[0m\n",
      "\u001b[?25hDownloading nvidia_cublas_cu12-12.4.5.8-py3-none-manylinux2014_x86_64.whl (363.4 MB)\n",
      "\u001b[2K   \u001b[90m━━━━━━━━━━━━━━━━━━━━━━━━━━━━━━━━━━━━━━━━\u001b[0m \u001b[32m363.4/363.4 MB\u001b[0m \u001b[31m37.6 MB/s\u001b[0m eta \u001b[36m0:00:00\u001b[0m00:01\u001b[0m00:01\u001b[0m\n",
      "\u001b[?25hDownloading nvidia_cuda_cupti_cu12-12.4.127-py3-none-manylinux2014_x86_64.whl (13.8 MB)\n",
      "\u001b[2K   \u001b[90m━━━━━━━━━━━━━━━━━━━━━━━━━━━━━━━━━━━━━━━━\u001b[0m \u001b[32m13.8/13.8 MB\u001b[0m \u001b[31m35.1 MB/s\u001b[0m eta \u001b[36m0:00:00\u001b[0m:00:01\u001b[0m\n",
      "\u001b[?25hDownloading nvidia_cuda_nvrtc_cu12-12.4.127-py3-none-manylinux2014_x86_64.whl (24.6 MB)\n",
      "\u001b[2K   \u001b[90m━━━━━━━━━━━━━━━━━━━━━━━━━━━━━━━━━━━━━━━━\u001b[0m \u001b[32m24.6/24.6 MB\u001b[0m \u001b[31m135.2 MB/s\u001b[0m eta \u001b[36m0:00:00\u001b[0m\n",
      "\u001b[?25hDownloading nvidia_cuda_runtime_cu12-12.4.127-py3-none-manylinux2014_x86_64.whl (883 kB)\n",
      "\u001b[2K   \u001b[90m━━━━━━━━━━━━━━━━━━━━━━━━━━━━━━━━━━━━━━━━\u001b[0m \u001b[32m883.7/883.7 kB\u001b[0m \u001b[31m32.4 MB/s\u001b[0m eta \u001b[36m0:00:00\u001b[0m\n",
      "\u001b[?25hDownloading nvidia_cudnn_cu12-9.1.0.70-py3-none-manylinux2014_x86_64.whl (664.8 MB)\n",
      "\u001b[2K   \u001b[90m━━━━━━━━━━━━━━━━━━━━━━━━━━━━━━━━━━━━━━━━\u001b[0m \u001b[32m664.8/664.8 MB\u001b[0m \u001b[31m19.8 MB/s\u001b[0m eta \u001b[36m0:00:00\u001b[0m00:01\u001b[0m00:01\u001b[0m\n",
      "\u001b[?25hDownloading nvidia_cufft_cu12-11.2.1.3-py3-none-manylinux2014_x86_64.whl (211.5 MB)\n",
      "\u001b[2K   \u001b[90m━━━━━━━━━━━━━━━━━━━━━━━━━━━━━━━━━━━━━━━━\u001b[0m \u001b[32m211.5/211.5 MB\u001b[0m \u001b[31m85.1 MB/s\u001b[0m eta \u001b[36m0:00:00\u001b[0m00:01\u001b[0m00:01\u001b[0m\n",
      "\u001b[?25hDownloading nvidia_curand_cu12-10.3.5.147-py3-none-manylinux2014_x86_64.whl (56.3 MB)\n",
      "\u001b[2K   \u001b[90m━━━━━━━━━━━━━━━━━━━━━━━━━━━━━━━━━━━━━━━━\u001b[0m \u001b[32m56.3/56.3 MB\u001b[0m \u001b[31m94.8 MB/s\u001b[0m eta \u001b[36m0:00:00\u001b[0m:00:01\u001b[0m00:01\u001b[0m\n",
      "\u001b[?25hDownloading nvidia_cusolver_cu12-11.6.1.9-py3-none-manylinux2014_x86_64.whl (127.9 MB)\n",
      "\u001b[2K   \u001b[90m━━━━━━━━━━━━━━━━━━━━━━━━━━━━━━━━━━━━━━━━\u001b[0m \u001b[32m127.9/127.9 MB\u001b[0m \u001b[31m39.1 MB/s\u001b[0m eta \u001b[36m0:00:00\u001b[0m00:01\u001b[0m00:01\u001b[0m\n",
      "\u001b[?25hDownloading nvidia_cusparse_cu12-12.3.1.170-py3-none-manylinux2014_x86_64.whl (207.5 MB)\n",
      "\u001b[2K   \u001b[90m━━━━━━━━━━━━━━━━━━━━━━━━━━━━━━━━━━━━━━━━\u001b[0m \u001b[32m207.5/207.5 MB\u001b[0m \u001b[31m50.2 MB/s\u001b[0m eta \u001b[36m0:00:00\u001b[0m00:01\u001b[0m00:01\u001b[0m\n",
      "\u001b[?25hDownloading nvidia_nccl_cu12-2.21.5-py3-none-manylinux2014_x86_64.whl (188.7 MB)\n",
      "\u001b[2K   \u001b[90m━━━━━━━━━━━━━━━━━━━━━━━━━━━━━━━━━━━━━━━━\u001b[0m \u001b[32m188.7/188.7 MB\u001b[0m \u001b[31m48.2 MB/s\u001b[0m eta \u001b[36m0:00:00\u001b[0m00:01\u001b[0m00:01\u001b[0m\n",
      "\u001b[?25hDownloading nvidia_nvjitlink_cu12-12.4.127-py3-none-manylinux2014_x86_64.whl (21.1 MB)\n",
      "\u001b[2K   \u001b[90m━━━━━━━━━━━━━━━━━━━━━━━━━━━━━━━━━━━━━━━━\u001b[0m \u001b[32m21.1/21.1 MB\u001b[0m \u001b[31m50.2 MB/s\u001b[0m eta \u001b[36m0:00:00\u001b[0m:00:01\u001b[0m\n",
      "\u001b[?25hDownloading nvidia_nvtx_cu12-12.4.127-py3-none-manylinux2014_x86_64.whl (99 kB)\n",
      "Downloading sympy-1.13.1-py3-none-any.whl (6.2 MB)\n",
      "\u001b[2K   \u001b[90m━━━━━━━━━━━━━━━━━━━━━━━━━━━━━━━━━━━━━━━━\u001b[0m \u001b[32m6.2/6.2 MB\u001b[0m \u001b[31m93.4 MB/s\u001b[0m eta \u001b[36m0:00:00\u001b[0m\n",
      "\u001b[?25hDownloading triton-3.1.0-cp310-cp310-manylinux_2_17_x86_64.manylinux2014_x86_64.whl (209.5 MB)\n",
      "\u001b[2K   \u001b[90m━━━━━━━━━━━━━━━━━━━━━━━━━━━━━━━━━━━━━━━━\u001b[0m \u001b[32m209.5/209.5 MB\u001b[0m \u001b[31m84.9 MB/s\u001b[0m eta \u001b[36m0:00:00\u001b[0m00:01\u001b[0m00:01\u001b[0m\n",
      "\u001b[?25hDownloading transformers-4.46.3-py3-none-any.whl (10.0 MB)\n",
      "\u001b[2K   \u001b[90m━━━━━━━━━━━━━━━━━━━━━━━━━━━━━━━━━━━━━━━━\u001b[0m \u001b[32m10.0/10.0 MB\u001b[0m \u001b[31m124.0 MB/s\u001b[0m eta \u001b[36m0:00:00\u001b[0m\n",
      "\u001b[?25hDownloading httpx-0.27.2-py3-none-any.whl (76 kB)\n",
      "Downloading httpcore-1.0.7-py3-none-any.whl (78 kB)\n",
      "Downloading orjson-3.10.12-cp310-cp310-manylinux_2_17_x86_64.manylinux2014_x86_64.whl (131 kB)\n",
      "Downloading regex-2024.11.6-cp310-cp310-manylinux_2_17_x86_64.manylinux2014_x86_64.whl (781 kB)\n",
      "\u001b[2K   \u001b[90m━━━━━━━━━━━━━━━━━━━━━━━━━━━━━━━━━━━━━━━━\u001b[0m \u001b[32m781.7/781.7 kB\u001b[0m \u001b[31m31.4 MB/s\u001b[0m eta \u001b[36m0:00:00\u001b[0m\n",
      "\u001b[?25hDownloading requests_toolbelt-1.0.0-py2.py3-none-any.whl (54 kB)\n",
      "Downloading safetensors-0.4.5-cp310-cp310-manylinux_2_17_x86_64.manylinux2014_x86_64.whl (435 kB)\n",
      "Downloading tokenizers-0.20.3-cp310-cp310-manylinux_2_17_x86_64.manylinux2014_x86_64.whl (3.0 MB)\n",
      "\u001b[2K   \u001b[90m━━━━━━━━━━━━━━━━━━━━━━━━━━━━━━━━━━━━━━━━\u001b[0m \u001b[32m3.0/3.0 MB\u001b[0m \u001b[31m100.2 MB/s\u001b[0m eta \u001b[36m0:00:00\u001b[0m\n",
      "\u001b[?25hDownloading mpmath-1.3.0-py3-none-any.whl (536 kB)\n",
      "\u001b[2K   \u001b[90m━━━━━━━━━━━━━━━━━━━━━━━━━━━━━━━━━━━━━━━━\u001b[0m \u001b[32m536.2/536.2 kB\u001b[0m \u001b[31m19.8 MB/s\u001b[0m eta \u001b[36m0:00:00\u001b[0m\n",
      "\u001b[?25hInstalling collected packages: mpmath, triton, sympy, safetensors, regex, orjson, nvidia-nvtx-cu12, nvidia-nvjitlink-cu12, nvidia-nccl-cu12, nvidia-curand-cu12, nvidia-cufft-cu12, nvidia-cuda-runtime-cu12, nvidia-cuda-nvrtc-cu12, nvidia-cuda-cupti-cu12, nvidia-cublas-cu12, httpcore, async-timeout, requests-toolbelt, nvidia-cusparse-cu12, nvidia-cudnn-cu12, huggingface-hub, httpx, tokenizers, nvidia-cusolver-cu12, langsmith, transformers, torch, langchain-core, sentence-transformers, langchain-text-splitters, langchain\n",
      "  Attempting uninstall: async-timeout\n",
      "    Found existing installation: async-timeout 5.0.1\n",
      "    Uninstalling async-timeout-5.0.1:\n",
      "      Successfully uninstalled async-timeout-5.0.1\n",
      "  Attempting uninstall: requests-toolbelt\n",
      "    Found existing installation: requests-toolbelt 0.10.1\n",
      "    Uninstalling requests-toolbelt-0.10.1:\n",
      "      Successfully uninstalled requests-toolbelt-0.10.1\n",
      "\u001b[31mERROR: pip's dependency resolver does not currently take into account all the packages that are installed. This behaviour is the source of the following dependency conflicts.\n",
      "kfp 2.5.0 requires requests-toolbelt<1,>=0.8.0, but you have requests-toolbelt 1.0.0 which is incompatible.\u001b[0m\u001b[31m\n",
      "\u001b[0mSuccessfully installed async-timeout-4.0.3 httpcore-1.0.7 httpx-0.27.2 huggingface-hub-0.26.2 langchain-0.3.8 langchain-core-0.3.21 langchain-text-splitters-0.3.2 langsmith-0.1.146 mpmath-1.3.0 nvidia-cublas-cu12-12.4.5.8 nvidia-cuda-cupti-cu12-12.4.127 nvidia-cuda-nvrtc-cu12-12.4.127 nvidia-cuda-runtime-cu12-12.4.127 nvidia-cudnn-cu12-9.1.0.70 nvidia-cufft-cu12-11.2.1.3 nvidia-curand-cu12-10.3.5.147 nvidia-cusolver-cu12-11.6.1.9 nvidia-cusparse-cu12-12.3.1.170 nvidia-nccl-cu12-2.21.5 nvidia-nvjitlink-cu12-12.4.127 nvidia-nvtx-cu12-12.4.127 orjson-3.10.12 regex-2024.11.6 requests-toolbelt-1.0.0 safetensors-0.4.5 sentence-transformers-3.3.1 sympy-1.13.1 tokenizers-0.20.3 torch-2.5.1 transformers-4.46.3 triton-3.1.0\n",
      "5\n",
      "Year in Review 2022\n",
      "Multisearch\n",
      "With multisearch, people can now \n",
      "search with both images and text  \n",
      "at the same time in Google Lens.\n",
      "\n",
      "Total chunks: 489\n"
     ]
    }
   ],
   "source": [
    "!pip install langchain sentence-transformers\n",
    "from langchain.text_splitter import RecursiveCharacterTextSplitter, SentenceTransformersTokenTextSplitter\n",
    "character_splitter = RecursiveCharacterTextSplitter(\n",
    "    separators=[\"\\n\\n\", \"\\n\", \". \", \" \", \"\"],\n",
    "    chunk_size=1000,\n",
    "    chunk_overlap=0\n",
    ")\n",
    "character_split_texts = character_splitter.split_text('\\n\\n'.join(pdf_texts))\n",
    "\n",
    "print(character_split_texts[10])\n",
    "print(f\"\\nTotal chunks: {len(character_split_texts)}\")"
   ]
  },
  {
   "cell_type": "markdown",
   "id": "6cf8396f-e4a7-450e-8b0b-dde5cf7b0834",
   "metadata": {},
   "source": [
    "Create more chunks if the size of the existing chunk is too big. In this case, we define too big as 256 tokens."
   ]
  },
  {
   "cell_type": "code",
   "execution_count": 6,
   "id": "0b63d936-f1f3-4b9a-b7b4-71de84c29d3f",
   "metadata": {
    "tags": []
   },
   "outputs": [
    {
     "data": {
      "application/vnd.jupyter.widget-view+json": {
       "model_id": "d33de2a1ce15459c9b2ab30205b1c0a3",
       "version_major": 2,
       "version_minor": 0
      },
      "text/plain": [
       "modules.json:   0%|          | 0.00/349 [00:00<?, ?B/s]"
      ]
     },
     "metadata": {},
     "output_type": "display_data"
    },
    {
     "data": {
      "application/vnd.jupyter.widget-view+json": {
       "model_id": "e1ecf3e3b7d2453c944fc9faf80f356f",
       "version_major": 2,
       "version_minor": 0
      },
      "text/plain": [
       "config_sentence_transformers.json:   0%|          | 0.00/116 [00:00<?, ?B/s]"
      ]
     },
     "metadata": {},
     "output_type": "display_data"
    },
    {
     "data": {
      "application/vnd.jupyter.widget-view+json": {
       "model_id": "e9df18afddb843718165177721038f7a",
       "version_major": 2,
       "version_minor": 0
      },
      "text/plain": [
       "README.md:   0%|          | 0.00/10.6k [00:00<?, ?B/s]"
      ]
     },
     "metadata": {},
     "output_type": "display_data"
    },
    {
     "data": {
      "application/vnd.jupyter.widget-view+json": {
       "model_id": "fc939352b4f643359841ece5557f317d",
       "version_major": 2,
       "version_minor": 0
      },
      "text/plain": [
       "sentence_bert_config.json:   0%|          | 0.00/53.0 [00:00<?, ?B/s]"
      ]
     },
     "metadata": {},
     "output_type": "display_data"
    },
    {
     "data": {
      "application/vnd.jupyter.widget-view+json": {
       "model_id": "91f595ae4d774565af84f65bdcf7a0ee",
       "version_major": 2,
       "version_minor": 0
      },
      "text/plain": [
       "config.json:   0%|          | 0.00/571 [00:00<?, ?B/s]"
      ]
     },
     "metadata": {},
     "output_type": "display_data"
    },
    {
     "data": {
      "application/vnd.jupyter.widget-view+json": {
       "model_id": "2a4d9b6bca524260aff48d88da1f841a",
       "version_major": 2,
       "version_minor": 0
      },
      "text/plain": [
       "model.safetensors:   0%|          | 0.00/438M [00:00<?, ?B/s]"
      ]
     },
     "metadata": {},
     "output_type": "display_data"
    },
    {
     "data": {
      "application/vnd.jupyter.widget-view+json": {
       "model_id": "6a12666c6c7a4b2ca527338beb5154f4",
       "version_major": 2,
       "version_minor": 0
      },
      "text/plain": [
       "tokenizer_config.json:   0%|          | 0.00/363 [00:00<?, ?B/s]"
      ]
     },
     "metadata": {},
     "output_type": "display_data"
    },
    {
     "data": {
      "application/vnd.jupyter.widget-view+json": {
       "model_id": "9868bc218d8b4f2b90bcc7853856b7f9",
       "version_major": 2,
       "version_minor": 0
      },
      "text/plain": [
       "vocab.txt:   0%|          | 0.00/232k [00:00<?, ?B/s]"
      ]
     },
     "metadata": {},
     "output_type": "display_data"
    },
    {
     "data": {
      "application/vnd.jupyter.widget-view+json": {
       "model_id": "094a74eddaad411aac2f5682106ce88a",
       "version_major": 2,
       "version_minor": 0
      },
      "text/plain": [
       "tokenizer.json:   0%|          | 0.00/466k [00:00<?, ?B/s]"
      ]
     },
     "metadata": {},
     "output_type": "display_data"
    },
    {
     "data": {
      "application/vnd.jupyter.widget-view+json": {
       "model_id": "62c7b9c619c64a0d826b3421adf2d966",
       "version_major": 2,
       "version_minor": 0
      },
      "text/plain": [
       "special_tokens_map.json:   0%|          | 0.00/239 [00:00<?, ?B/s]"
      ]
     },
     "metadata": {},
     "output_type": "display_data"
    },
    {
     "data": {
      "application/vnd.jupyter.widget-view+json": {
       "model_id": "2056d02dbf594aaf95dbb8507239e760",
       "version_major": 2,
       "version_minor": 0
      },
      "text/plain": [
       "1_Pooling/config.json:   0%|          | 0.00/190 [00:00<?, ?B/s]"
      ]
     },
     "metadata": {},
     "output_type": "display_data"
    },
    {
     "name": "stdout",
     "output_type": "stream",
     "text": [
      "5 year in review 2022 multisearch with multisearch, people can now search with both images and text at the same time in google lens.\n",
      "\n",
      "Total chunks: 511\n"
     ]
    }
   ],
   "source": [
    "token_splitter = SentenceTransformersTokenTextSplitter(chunk_overlap=0, tokens_per_chunk=256)\n",
    "\n",
    "token_split_texts = []\n",
    "for text in character_split_texts:\n",
    "    token_split_texts += token_splitter.split_text(text)\n",
    "\n",
    "print(token_split_texts[10])\n",
    "print(f\"\\nTotal chunks: {len(token_split_texts)}\")"
   ]
  },
  {
   "cell_type": "code",
   "execution_count": 7,
   "id": "976eeb1b-4f43-4508-8677-ebbe8da57c13",
   "metadata": {
    "tags": []
   },
   "outputs": [
    {
     "name": "stderr",
     "output_type": "stream",
     "text": [
      "huggingface/tokenizers: The current process just got forked, after parallelism has already been used. Disabling parallelism to avoid deadlocks...\n",
      "To disable this warning, you can either:\n",
      "\t- Avoid using `tokenizers` before the fork if possible\n",
      "\t- Explicitly set the environment variable TOKENIZERS_PARALLELISM=(true | false)\n"
     ]
    },
    {
     "name": "stdout",
     "output_type": "stream",
     "text": [
      "Collecting chromadb==0.5.3\n",
      "  Downloading chromadb-0.5.3-py3-none-any.whl.metadata (6.8 kB)\n",
      "Collecting build>=1.0.3 (from chromadb==0.5.3)\n",
      "  Downloading build-1.2.2.post1-py3-none-any.whl.metadata (6.5 kB)\n",
      "Requirement already satisfied: requests>=2.28 in /opt/conda/lib/python3.10/site-packages (from chromadb==0.5.3) (2.32.3)\n",
      "Requirement already satisfied: pydantic>=1.9 in /opt/conda/lib/python3.10/site-packages (from chromadb==0.5.3) (2.9.2)\n",
      "Collecting chroma-hnswlib==0.7.3 (from chromadb==0.5.3)\n",
      "  Downloading chroma_hnswlib-0.7.3-cp310-cp310-manylinux_2_17_x86_64.manylinux2014_x86_64.whl.metadata (252 bytes)\n",
      "Requirement already satisfied: fastapi>=0.95.2 in /opt/conda/lib/python3.10/site-packages (from chromadb==0.5.3) (0.115.5)\n",
      "Requirement already satisfied: uvicorn>=0.18.3 in /opt/conda/lib/python3.10/site-packages (from uvicorn[standard]>=0.18.3->chromadb==0.5.3) (0.32.0)\n",
      "Requirement already satisfied: numpy<2.0.0,>=1.22.5 in /opt/conda/lib/python3.10/site-packages (from chromadb==0.5.3) (1.26.4)\n",
      "Collecting posthog>=2.4.0 (from chromadb==0.5.3)\n",
      "  Downloading posthog-3.7.3-py2.py3-none-any.whl.metadata (2.0 kB)\n",
      "Requirement already satisfied: typing-extensions>=4.5.0 in /opt/conda/lib/python3.10/site-packages (from chromadb==0.5.3) (4.12.2)\n",
      "Collecting onnxruntime>=1.14.1 (from chromadb==0.5.3)\n",
      "  Downloading onnxruntime-1.20.1-cp310-cp310-manylinux_2_27_x86_64.manylinux_2_28_x86_64.whl.metadata (4.5 kB)\n",
      "Requirement already satisfied: opentelemetry-api>=1.2.0 in /opt/conda/lib/python3.10/site-packages (from chromadb==0.5.3) (1.27.0)\n",
      "Requirement already satisfied: opentelemetry-exporter-otlp-proto-grpc>=1.2.0 in /opt/conda/lib/python3.10/site-packages (from chromadb==0.5.3) (1.27.0)\n",
      "Collecting opentelemetry-instrumentation-fastapi>=0.41b0 (from chromadb==0.5.3)\n",
      "  Downloading opentelemetry_instrumentation_fastapi-0.49b2-py3-none-any.whl.metadata (2.1 kB)\n",
      "Requirement already satisfied: opentelemetry-sdk>=1.2.0 in /opt/conda/lib/python3.10/site-packages (from chromadb==0.5.3) (1.27.0)\n",
      "Requirement already satisfied: tokenizers>=0.13.2 in /opt/conda/lib/python3.10/site-packages (from chromadb==0.5.3) (0.20.3)\n",
      "Collecting pypika>=0.48.9 (from chromadb==0.5.3)\n",
      "  Downloading PyPika-0.48.9.tar.gz (67 kB)\n",
      "  Installing build dependencies ... \u001b[?25ldone\n",
      "\u001b[?25h  Getting requirements to build wheel ... \u001b[?25ldone\n",
      "\u001b[?25h  Preparing metadata (pyproject.toml) ... \u001b[?25ldone\n",
      "\u001b[?25hRequirement already satisfied: tqdm>=4.65.0 in ./.local/lib/python3.10/site-packages (from chromadb==0.5.3) (4.67.1)\n",
      "Requirement already satisfied: overrides>=7.3.1 in /opt/conda/lib/python3.10/site-packages (from chromadb==0.5.3) (7.7.0)\n",
      "Collecting importlib-resources (from chromadb==0.5.3)\n",
      "  Downloading importlib_resources-6.4.5-py3-none-any.whl.metadata (4.0 kB)\n",
      "Requirement already satisfied: grpcio>=1.58.0 in /opt/conda/lib/python3.10/site-packages (from chromadb==0.5.3) (1.68.0)\n",
      "Collecting bcrypt>=4.0.1 (from chromadb==0.5.3)\n",
      "  Downloading bcrypt-4.2.1-cp39-abi3-manylinux_2_28_x86_64.whl.metadata (9.8 kB)\n",
      "Requirement already satisfied: typer>=0.9.0 in /opt/conda/lib/python3.10/site-packages (from chromadb==0.5.3) (0.13.1)\n",
      "Collecting kubernetes>=28.1.0 (from chromadb==0.5.3)\n",
      "  Downloading kubernetes-31.0.0-py2.py3-none-any.whl.metadata (1.5 kB)\n",
      "Requirement already satisfied: tenacity>=8.2.3 in /opt/conda/lib/python3.10/site-packages (from chromadb==0.5.3) (9.0.0)\n",
      "Requirement already satisfied: PyYAML>=6.0.0 in /opt/conda/lib/python3.10/site-packages (from chromadb==0.5.3) (6.0.2)\n",
      "Collecting mmh3>=4.0.1 (from chromadb==0.5.3)\n",
      "  Downloading mmh3-5.0.1-cp310-cp310-manylinux_2_5_x86_64.manylinux1_x86_64.manylinux_2_17_x86_64.manylinux2014_x86_64.whl.metadata (14 kB)\n",
      "Requirement already satisfied: orjson>=3.9.12 in /opt/conda/lib/python3.10/site-packages (from chromadb==0.5.3) (3.10.12)\n",
      "Requirement already satisfied: httpx>=0.27.0 in /opt/conda/lib/python3.10/site-packages (from chromadb==0.5.3) (0.27.2)\n",
      "Requirement already satisfied: packaging>=19.1 in /opt/conda/lib/python3.10/site-packages (from build>=1.0.3->chromadb==0.5.3) (24.1)\n",
      "Collecting pyproject_hooks (from build>=1.0.3->chromadb==0.5.3)\n",
      "  Downloading pyproject_hooks-1.2.0-py3-none-any.whl.metadata (1.3 kB)\n",
      "Requirement already satisfied: tomli>=1.1.0 in /opt/conda/lib/python3.10/site-packages (from build>=1.0.3->chromadb==0.5.3) (2.1.0)\n",
      "Requirement already satisfied: starlette<0.42.0,>=0.40.0 in /opt/conda/lib/python3.10/site-packages (from fastapi>=0.95.2->chromadb==0.5.3) (0.41.3)\n",
      "Requirement already satisfied: anyio in /opt/conda/lib/python3.10/site-packages (from httpx>=0.27.0->chromadb==0.5.3) (4.6.2.post1)\n",
      "Requirement already satisfied: certifi in /opt/conda/lib/python3.10/site-packages (from httpx>=0.27.0->chromadb==0.5.3) (2024.8.30)\n",
      "Requirement already satisfied: httpcore==1.* in /opt/conda/lib/python3.10/site-packages (from httpx>=0.27.0->chromadb==0.5.3) (1.0.7)\n",
      "Requirement already satisfied: idna in /opt/conda/lib/python3.10/site-packages (from httpx>=0.27.0->chromadb==0.5.3) (3.10)\n",
      "Requirement already satisfied: sniffio in /opt/conda/lib/python3.10/site-packages (from httpx>=0.27.0->chromadb==0.5.3) (1.3.1)\n",
      "Requirement already satisfied: h11<0.15,>=0.13 in /opt/conda/lib/python3.10/site-packages (from httpcore==1.*->httpx>=0.27.0->chromadb==0.5.3) (0.14.0)\n",
      "Requirement already satisfied: six>=1.9.0 in /opt/conda/lib/python3.10/site-packages (from kubernetes>=28.1.0->chromadb==0.5.3) (1.16.0)\n",
      "Requirement already satisfied: python-dateutil>=2.5.3 in /opt/conda/lib/python3.10/site-packages (from kubernetes>=28.1.0->chromadb==0.5.3) (2.9.0.post0)\n",
      "Requirement already satisfied: google-auth>=1.0.1 in /opt/conda/lib/python3.10/site-packages (from kubernetes>=28.1.0->chromadb==0.5.3) (2.36.0)\n",
      "Requirement already satisfied: websocket-client!=0.40.0,!=0.41.*,!=0.42.*,>=0.32.0 in /opt/conda/lib/python3.10/site-packages (from kubernetes>=28.1.0->chromadb==0.5.3) (1.8.0)\n",
      "Requirement already satisfied: requests-oauthlib in /opt/conda/lib/python3.10/site-packages (from kubernetes>=28.1.0->chromadb==0.5.3) (2.0.0)\n",
      "Requirement already satisfied: oauthlib>=3.2.2 in /opt/conda/lib/python3.10/site-packages (from kubernetes>=28.1.0->chromadb==0.5.3) (3.2.2)\n",
      "Requirement already satisfied: urllib3>=1.24.2 in /opt/conda/lib/python3.10/site-packages (from kubernetes>=28.1.0->chromadb==0.5.3) (1.26.20)\n",
      "Collecting durationpy>=0.7 (from kubernetes>=28.1.0->chromadb==0.5.3)\n",
      "  Downloading durationpy-0.9-py3-none-any.whl.metadata (338 bytes)\n",
      "Collecting coloredlogs (from onnxruntime>=1.14.1->chromadb==0.5.3)\n",
      "  Downloading coloredlogs-15.0.1-py2.py3-none-any.whl.metadata (12 kB)\n",
      "Collecting flatbuffers (from onnxruntime>=1.14.1->chromadb==0.5.3)\n",
      "  Downloading flatbuffers-24.3.25-py2.py3-none-any.whl.metadata (850 bytes)\n",
      "Requirement already satisfied: protobuf in /opt/conda/lib/python3.10/site-packages (from onnxruntime>=1.14.1->chromadb==0.5.3) (3.20.3)\n",
      "Requirement already satisfied: sympy in /opt/conda/lib/python3.10/site-packages (from onnxruntime>=1.14.1->chromadb==0.5.3) (1.13.1)\n",
      "Requirement already satisfied: deprecated>=1.2.6 in /opt/conda/lib/python3.10/site-packages (from opentelemetry-api>=1.2.0->chromadb==0.5.3) (1.2.15)\n",
      "Requirement already satisfied: importlib-metadata<=8.4.0,>=6.0 in /opt/conda/lib/python3.10/site-packages (from opentelemetry-api>=1.2.0->chromadb==0.5.3) (8.4.0)\n",
      "Requirement already satisfied: googleapis-common-protos~=1.52 in /opt/conda/lib/python3.10/site-packages (from opentelemetry-exporter-otlp-proto-grpc>=1.2.0->chromadb==0.5.3) (1.66.0)\n",
      "Requirement already satisfied: opentelemetry-exporter-otlp-proto-common==1.27.0 in /opt/conda/lib/python3.10/site-packages (from opentelemetry-exporter-otlp-proto-grpc>=1.2.0->chromadb==0.5.3) (1.27.0)\n",
      "Requirement already satisfied: opentelemetry-proto==1.27.0 in /opt/conda/lib/python3.10/site-packages (from opentelemetry-exporter-otlp-proto-grpc>=1.2.0->chromadb==0.5.3) (1.27.0)\n",
      "Collecting opentelemetry-instrumentation-asgi==0.49b2 (from opentelemetry-instrumentation-fastapi>=0.41b0->chromadb==0.5.3)\n",
      "  Downloading opentelemetry_instrumentation_asgi-0.49b2-py3-none-any.whl.metadata (1.9 kB)\n",
      "Collecting opentelemetry-instrumentation==0.49b2 (from opentelemetry-instrumentation-fastapi>=0.41b0->chromadb==0.5.3)\n",
      "  Downloading opentelemetry_instrumentation-0.49b2-py3-none-any.whl.metadata (6.1 kB)\n",
      "Collecting opentelemetry-semantic-conventions==0.49b2 (from opentelemetry-instrumentation-fastapi>=0.41b0->chromadb==0.5.3)\n",
      "  Downloading opentelemetry_semantic_conventions-0.49b2-py3-none-any.whl.metadata (2.3 kB)\n",
      "Collecting opentelemetry-util-http==0.49b2 (from opentelemetry-instrumentation-fastapi>=0.41b0->chromadb==0.5.3)\n",
      "  Downloading opentelemetry_util_http-0.49b2-py3-none-any.whl.metadata (2.5 kB)\n",
      "Requirement already satisfied: wrapt<2.0.0,>=1.0.0 in /opt/conda/lib/python3.10/site-packages (from opentelemetry-instrumentation==0.49b2->opentelemetry-instrumentation-fastapi>=0.41b0->chromadb==0.5.3) (1.16.0)\n",
      "Collecting asgiref~=3.0 (from opentelemetry-instrumentation-asgi==0.49b2->opentelemetry-instrumentation-fastapi>=0.41b0->chromadb==0.5.3)\n",
      "  Downloading asgiref-3.8.1-py3-none-any.whl.metadata (9.3 kB)\n",
      "Collecting opentelemetry-api>=1.2.0 (from chromadb==0.5.3)\n",
      "  Downloading opentelemetry_api-1.28.2-py3-none-any.whl.metadata (1.4 kB)\n",
      "INFO: pip is looking at multiple versions of opentelemetry-sdk to determine which version is compatible with other requirements. This could take a while.\n",
      "Collecting opentelemetry-instrumentation-fastapi>=0.41b0 (from chromadb==0.5.3)\n",
      "  Downloading opentelemetry_instrumentation_fastapi-0.49b1-py3-none-any.whl.metadata (2.1 kB)\n",
      "Collecting opentelemetry-instrumentation-asgi==0.49b1 (from opentelemetry-instrumentation-fastapi>=0.41b0->chromadb==0.5.3)\n",
      "  Downloading opentelemetry_instrumentation_asgi-0.49b1-py3-none-any.whl.metadata (2.0 kB)\n",
      "Collecting opentelemetry-instrumentation==0.49b1 (from opentelemetry-instrumentation-fastapi>=0.41b0->chromadb==0.5.3)\n",
      "  Downloading opentelemetry_instrumentation-0.49b1-py3-none-any.whl.metadata (6.2 kB)\n",
      "Collecting opentelemetry-semantic-conventions==0.49b1 (from opentelemetry-instrumentation-fastapi>=0.41b0->chromadb==0.5.3)\n",
      "  Downloading opentelemetry_semantic_conventions-0.49b1-py3-none-any.whl.metadata (2.4 kB)\n",
      "Collecting opentelemetry-util-http==0.49b1 (from opentelemetry-instrumentation-fastapi>=0.41b0->chromadb==0.5.3)\n",
      "  Downloading opentelemetry_util_http-0.49b1-py3-none-any.whl.metadata (2.5 kB)\n",
      "Collecting opentelemetry-api>=1.2.0 (from chromadb==0.5.3)\n",
      "  Downloading opentelemetry_api-1.28.1-py3-none-any.whl.metadata (1.4 kB)\n",
      "Collecting opentelemetry-instrumentation-fastapi>=0.41b0 (from chromadb==0.5.3)\n",
      "  Downloading opentelemetry_instrumentation_fastapi-0.49b0-py3-none-any.whl.metadata (2.1 kB)\n",
      "Collecting opentelemetry-instrumentation-asgi==0.49b0 (from opentelemetry-instrumentation-fastapi>=0.41b0->chromadb==0.5.3)\n",
      "  Downloading opentelemetry_instrumentation_asgi-0.49b0-py3-none-any.whl.metadata (2.0 kB)\n",
      "Collecting opentelemetry-instrumentation==0.49b0 (from opentelemetry-instrumentation-fastapi>=0.41b0->chromadb==0.5.3)\n",
      "  Downloading opentelemetry_instrumentation-0.49b0-py3-none-any.whl.metadata (6.2 kB)\n",
      "Collecting opentelemetry-semantic-conventions==0.49b0 (from opentelemetry-instrumentation-fastapi>=0.41b0->chromadb==0.5.3)\n",
      "  Downloading opentelemetry_semantic_conventions-0.49b0-py3-none-any.whl.metadata (2.4 kB)\n",
      "Collecting opentelemetry-util-http==0.49b0 (from opentelemetry-instrumentation-fastapi>=0.41b0->chromadb==0.5.3)\n",
      "  Downloading opentelemetry_util_http-0.49b0-py3-none-any.whl.metadata (2.5 kB)\n",
      "Collecting opentelemetry-api>=1.2.0 (from chromadb==0.5.3)\n",
      "  Downloading opentelemetry_api-1.28.0-py3-none-any.whl.metadata (1.4 kB)\n",
      "Collecting opentelemetry-instrumentation-fastapi>=0.41b0 (from chromadb==0.5.3)\n",
      "  Downloading opentelemetry_instrumentation_fastapi-0.48b0-py3-none-any.whl.metadata (2.1 kB)\n",
      "Collecting opentelemetry-instrumentation-asgi==0.48b0 (from opentelemetry-instrumentation-fastapi>=0.41b0->chromadb==0.5.3)\n",
      "  Downloading opentelemetry_instrumentation_asgi-0.48b0-py3-none-any.whl.metadata (2.0 kB)\n",
      "Collecting opentelemetry-instrumentation==0.48b0 (from opentelemetry-instrumentation-fastapi>=0.41b0->chromadb==0.5.3)\n",
      "  Downloading opentelemetry_instrumentation-0.48b0-py3-none-any.whl.metadata (6.1 kB)\n",
      "Requirement already satisfied: opentelemetry-semantic-conventions==0.48b0 in /opt/conda/lib/python3.10/site-packages (from opentelemetry-instrumentation-fastapi>=0.41b0->chromadb==0.5.3) (0.48b0)\n",
      "Collecting opentelemetry-util-http==0.48b0 (from opentelemetry-instrumentation-fastapi>=0.41b0->chromadb==0.5.3)\n",
      "  Downloading opentelemetry_util_http-0.48b0-py3-none-any.whl.metadata (2.5 kB)\n",
      "Requirement already satisfied: setuptools>=16.0 in /opt/conda/lib/python3.10/site-packages (from opentelemetry-instrumentation==0.48b0->opentelemetry-instrumentation-fastapi>=0.41b0->chromadb==0.5.3) (75.3.0)\n",
      "Collecting monotonic>=1.5 (from posthog>=2.4.0->chromadb==0.5.3)\n",
      "  Downloading monotonic-1.6-py2.py3-none-any.whl.metadata (1.5 kB)\n",
      "Collecting backoff>=1.10.0 (from posthog>=2.4.0->chromadb==0.5.3)\n",
      "  Downloading backoff-2.2.1-py3-none-any.whl.metadata (14 kB)\n",
      "Requirement already satisfied: annotated-types>=0.6.0 in /opt/conda/lib/python3.10/site-packages (from pydantic>=1.9->chromadb==0.5.3) (0.7.0)\n",
      "Requirement already satisfied: pydantic-core==2.23.4 in /opt/conda/lib/python3.10/site-packages (from pydantic>=1.9->chromadb==0.5.3) (2.23.4)\n",
      "Requirement already satisfied: charset-normalizer<4,>=2 in /opt/conda/lib/python3.10/site-packages (from requests>=2.28->chromadb==0.5.3) (3.4.0)\n",
      "Requirement already satisfied: huggingface-hub<1.0,>=0.16.4 in /opt/conda/lib/python3.10/site-packages (from tokenizers>=0.13.2->chromadb==0.5.3) (0.26.2)\n",
      "Requirement already satisfied: click>=8.0.0 in /opt/conda/lib/python3.10/site-packages (from typer>=0.9.0->chromadb==0.5.3) (8.1.7)\n",
      "Requirement already satisfied: shellingham>=1.3.0 in /opt/conda/lib/python3.10/site-packages (from typer>=0.9.0->chromadb==0.5.3) (1.5.4)\n",
      "Requirement already satisfied: rich>=10.11.0 in /opt/conda/lib/python3.10/site-packages (from typer>=0.9.0->chromadb==0.5.3) (13.9.4)\n",
      "Requirement already satisfied: httptools>=0.5.0 in /opt/conda/lib/python3.10/site-packages (from uvicorn[standard]>=0.18.3->chromadb==0.5.3) (0.6.4)\n",
      "Requirement already satisfied: python-dotenv>=0.13 in /opt/conda/lib/python3.10/site-packages (from uvicorn[standard]>=0.18.3->chromadb==0.5.3) (1.0.1)\n",
      "Requirement already satisfied: uvloop!=0.15.0,!=0.15.1,>=0.14.0 in /opt/conda/lib/python3.10/site-packages (from uvicorn[standard]>=0.18.3->chromadb==0.5.3) (0.21.0)\n",
      "Requirement already satisfied: watchfiles>=0.13 in /opt/conda/lib/python3.10/site-packages (from uvicorn[standard]>=0.18.3->chromadb==0.5.3) (0.24.0)\n",
      "Requirement already satisfied: websockets>=10.4 in /opt/conda/lib/python3.10/site-packages (from uvicorn[standard]>=0.18.3->chromadb==0.5.3) (14.1)\n",
      "Requirement already satisfied: cachetools<6.0,>=2.0.0 in /opt/conda/lib/python3.10/site-packages (from google-auth>=1.0.1->kubernetes>=28.1.0->chromadb==0.5.3) (5.5.0)\n",
      "Requirement already satisfied: pyasn1-modules>=0.2.1 in /opt/conda/lib/python3.10/site-packages (from google-auth>=1.0.1->kubernetes>=28.1.0->chromadb==0.5.3) (0.4.1)\n",
      "Requirement already satisfied: rsa<5,>=3.1.4 in /opt/conda/lib/python3.10/site-packages (from google-auth>=1.0.1->kubernetes>=28.1.0->chromadb==0.5.3) (4.9)\n",
      "Requirement already satisfied: filelock in /opt/conda/lib/python3.10/site-packages (from huggingface-hub<1.0,>=0.16.4->tokenizers>=0.13.2->chromadb==0.5.3) (3.16.1)\n",
      "Requirement already satisfied: fsspec>=2023.5.0 in /opt/conda/lib/python3.10/site-packages (from huggingface-hub<1.0,>=0.16.4->tokenizers>=0.13.2->chromadb==0.5.3) (2024.10.0)\n",
      "Requirement already satisfied: zipp>=0.5 in /opt/conda/lib/python3.10/site-packages (from importlib-metadata<=8.4.0,>=6.0->opentelemetry-api>=1.2.0->chromadb==0.5.3) (3.21.0)\n",
      "Requirement already satisfied: markdown-it-py>=2.2.0 in /opt/conda/lib/python3.10/site-packages (from rich>=10.11.0->typer>=0.9.0->chromadb==0.5.3) (3.0.0)\n",
      "Requirement already satisfied: pygments<3.0.0,>=2.13.0 in /opt/conda/lib/python3.10/site-packages (from rich>=10.11.0->typer>=0.9.0->chromadb==0.5.3) (2.18.0)\n",
      "Requirement already satisfied: exceptiongroup>=1.0.2 in /opt/conda/lib/python3.10/site-packages (from anyio->httpx>=0.27.0->chromadb==0.5.3) (1.2.2)\n",
      "Collecting humanfriendly>=9.1 (from coloredlogs->onnxruntime>=1.14.1->chromadb==0.5.3)\n",
      "  Downloading humanfriendly-10.0-py2.py3-none-any.whl.metadata (9.2 kB)\n",
      "Requirement already satisfied: mpmath<1.4,>=1.1.0 in /opt/conda/lib/python3.10/site-packages (from sympy->onnxruntime>=1.14.1->chromadb==0.5.3) (1.3.0)\n",
      "Requirement already satisfied: mdurl~=0.1 in /opt/conda/lib/python3.10/site-packages (from markdown-it-py>=2.2.0->rich>=10.11.0->typer>=0.9.0->chromadb==0.5.3) (0.1.2)\n",
      "Requirement already satisfied: pyasn1<0.7.0,>=0.4.6 in /opt/conda/lib/python3.10/site-packages (from pyasn1-modules>=0.2.1->google-auth>=1.0.1->kubernetes>=28.1.0->chromadb==0.5.3) (0.6.1)\n",
      "Downloading chromadb-0.5.3-py3-none-any.whl (559 kB)\n",
      "\u001b[2K   \u001b[90m━━━━━━━━━━━━━━━━━━━━━━━━━━━━━━━━━━━━━━━━\u001b[0m \u001b[32m559.5/559.5 kB\u001b[0m \u001b[31m14.7 MB/s\u001b[0m eta \u001b[36m0:00:00\u001b[0m\n",
      "\u001b[?25hDownloading chroma_hnswlib-0.7.3-cp310-cp310-manylinux_2_17_x86_64.manylinux2014_x86_64.whl (2.4 MB)\n",
      "\u001b[2K   \u001b[90m━━━━━━━━━━━━━━━━━━━━━━━━━━━━━━━━━━━━━━━━\u001b[0m \u001b[32m2.4/2.4 MB\u001b[0m \u001b[31m64.3 MB/s\u001b[0m eta \u001b[36m0:00:00\u001b[0m\n",
      "\u001b[?25hDownloading bcrypt-4.2.1-cp39-abi3-manylinux_2_28_x86_64.whl (278 kB)\n",
      "Downloading build-1.2.2.post1-py3-none-any.whl (22 kB)\n",
      "Downloading kubernetes-31.0.0-py2.py3-none-any.whl (1.9 MB)\n",
      "\u001b[2K   \u001b[90m━━━━━━━━━━━━━━━━━━━━━━━━━━━━━━━━━━━━━━━━\u001b[0m \u001b[32m1.9/1.9 MB\u001b[0m \u001b[31m51.8 MB/s\u001b[0m eta \u001b[36m0:00:00\u001b[0m\n",
      "\u001b[?25hDownloading mmh3-5.0.1-cp310-cp310-manylinux_2_5_x86_64.manylinux1_x86_64.manylinux_2_17_x86_64.manylinux2014_x86_64.whl (93 kB)\n",
      "Downloading onnxruntime-1.20.1-cp310-cp310-manylinux_2_27_x86_64.manylinux_2_28_x86_64.whl (13.3 MB)\n",
      "\u001b[2K   \u001b[90m━━━━━━━━━━━━━━━━━━━━━━━━━━━━━━━━━━━━━━━━\u001b[0m \u001b[32m13.3/13.3 MB\u001b[0m \u001b[31m119.7 MB/s\u001b[0m eta \u001b[36m0:00:00\u001b[0m\n",
      "\u001b[?25hDownloading opentelemetry_instrumentation_fastapi-0.48b0-py3-none-any.whl (11 kB)\n",
      "Downloading opentelemetry_instrumentation-0.48b0-py3-none-any.whl (29 kB)\n",
      "Downloading opentelemetry_instrumentation_asgi-0.48b0-py3-none-any.whl (15 kB)\n",
      "Downloading opentelemetry_util_http-0.48b0-py3-none-any.whl (6.9 kB)\n",
      "Downloading posthog-3.7.3-py2.py3-none-any.whl (54 kB)\n",
      "Downloading importlib_resources-6.4.5-py3-none-any.whl (36 kB)\n",
      "Downloading backoff-2.2.1-py3-none-any.whl (15 kB)\n",
      "Downloading durationpy-0.9-py3-none-any.whl (3.5 kB)\n",
      "Downloading monotonic-1.6-py2.py3-none-any.whl (8.2 kB)\n",
      "Downloading coloredlogs-15.0.1-py2.py3-none-any.whl (46 kB)\n",
      "Downloading flatbuffers-24.3.25-py2.py3-none-any.whl (26 kB)\n",
      "Downloading pyproject_hooks-1.2.0-py3-none-any.whl (10 kB)\n",
      "Downloading asgiref-3.8.1-py3-none-any.whl (23 kB)\n",
      "Downloading humanfriendly-10.0-py2.py3-none-any.whl (86 kB)\n",
      "Building wheels for collected packages: pypika\n",
      "  Building wheel for pypika (pyproject.toml) ... \u001b[?25ldone\n",
      "\u001b[?25h  Created wheel for pypika: filename=PyPika-0.48.9-py2.py3-none-any.whl size=53725 sha256=6841e2baad88a5b0c214ff6688b07d7d3da6c0a956bb6d2876bb77a0aaee912c\n",
      "  Stored in directory: /home/jupyter/.cache/pip/wheels/e1/26/51/d0bffb3d2fd82256676d7ad3003faea3bd6dddc9577af665f4\n",
      "Successfully built pypika\n",
      "Installing collected packages: pypika, monotonic, flatbuffers, durationpy, pyproject_hooks, opentelemetry-util-http, mmh3, importlib-resources, humanfriendly, chroma-hnswlib, bcrypt, backoff, asgiref, posthog, coloredlogs, build, opentelemetry-instrumentation, onnxruntime, kubernetes, opentelemetry-instrumentation-asgi, opentelemetry-instrumentation-fastapi, chromadb\n",
      "  Attempting uninstall: kubernetes\n",
      "    Found existing installation: kubernetes 26.1.0\n",
      "    Uninstalling kubernetes-26.1.0:\n",
      "      Successfully uninstalled kubernetes-26.1.0\n",
      "\u001b[31mERROR: pip's dependency resolver does not currently take into account all the packages that are installed. This behaviour is the source of the following dependency conflicts.\n",
      "kfp 2.5.0 requires kubernetes<27,>=8.0.0, but you have kubernetes 31.0.0 which is incompatible.\n",
      "kfp 2.5.0 requires requests-toolbelt<1,>=0.8.0, but you have requests-toolbelt 1.0.0 which is incompatible.\u001b[0m\u001b[31m\n",
      "\u001b[0mSuccessfully installed asgiref-3.8.1 backoff-2.2.1 bcrypt-4.2.1 build-1.2.2.post1 chroma-hnswlib-0.7.3 chromadb-0.5.3 coloredlogs-15.0.1 durationpy-0.9 flatbuffers-24.3.25 humanfriendly-10.0 importlib-resources-6.4.5 kubernetes-31.0.0 mmh3-5.0.1 monotonic-1.6 onnxruntime-1.20.1 opentelemetry-instrumentation-0.48b0 opentelemetry-instrumentation-asgi-0.48b0 opentelemetry-instrumentation-fastapi-0.48b0 opentelemetry-util-http-0.48b0 posthog-3.7.3 pypika-0.48.9 pyproject_hooks-1.2.0\n"
     ]
    },
    {
     "name": "stderr",
     "output_type": "stream",
     "text": [
      "huggingface/tokenizers: The current process just got forked, after parallelism has already been used. Disabling parallelism to avoid deadlocks...\n",
      "To disable this warning, you can either:\n",
      "\t- Avoid using `tokenizers` before the fork if possible\n",
      "\t- Explicitly set the environment variable TOKENIZERS_PARALLELISM=(true | false)\n"
     ]
    },
    {
     "name": "stdout",
     "output_type": "stream",
     "text": [
      "Collecting google-generativeai\n",
      "  Downloading google_generativeai-0.8.3-py3-none-any.whl.metadata (3.9 kB)\n",
      "Collecting google-ai-generativelanguage==0.6.10 (from google-generativeai)\n",
      "  Downloading google_ai_generativelanguage-0.6.10-py3-none-any.whl.metadata (5.6 kB)\n",
      "Requirement already satisfied: google-api-core in ./.local/lib/python3.10/site-packages (from google-generativeai) (2.23.0)\n",
      "Requirement already satisfied: google-api-python-client in /opt/conda/lib/python3.10/site-packages (from google-generativeai) (1.8.0)\n",
      "Requirement already satisfied: google-auth>=2.15.0 in /opt/conda/lib/python3.10/site-packages (from google-generativeai) (2.36.0)\n",
      "Requirement already satisfied: protobuf in /opt/conda/lib/python3.10/site-packages (from google-generativeai) (3.20.3)\n",
      "Requirement already satisfied: pydantic in /opt/conda/lib/python3.10/site-packages (from google-generativeai) (2.9.2)\n",
      "Requirement already satisfied: tqdm in ./.local/lib/python3.10/site-packages (from google-generativeai) (4.67.1)\n",
      "Requirement already satisfied: typing-extensions in /opt/conda/lib/python3.10/site-packages (from google-generativeai) (4.12.2)\n",
      "Requirement already satisfied: proto-plus<2.0.0dev,>=1.22.3 in /opt/conda/lib/python3.10/site-packages (from google-ai-generativelanguage==0.6.10->google-generativeai) (1.25.0)\n",
      "Requirement already satisfied: googleapis-common-protos<2.0.dev0,>=1.56.2 in /opt/conda/lib/python3.10/site-packages (from google-api-core->google-generativeai) (1.66.0)\n",
      "Requirement already satisfied: requests<3.0.0.dev0,>=2.18.0 in /opt/conda/lib/python3.10/site-packages (from google-api-core->google-generativeai) (2.32.3)\n",
      "Requirement already satisfied: cachetools<6.0,>=2.0.0 in /opt/conda/lib/python3.10/site-packages (from google-auth>=2.15.0->google-generativeai) (5.5.0)\n",
      "Requirement already satisfied: pyasn1-modules>=0.2.1 in /opt/conda/lib/python3.10/site-packages (from google-auth>=2.15.0->google-generativeai) (0.4.1)\n",
      "Requirement already satisfied: rsa<5,>=3.1.4 in /opt/conda/lib/python3.10/site-packages (from google-auth>=2.15.0->google-generativeai) (4.9)\n",
      "Requirement already satisfied: httplib2<1dev,>=0.9.2 in /opt/conda/lib/python3.10/site-packages (from google-api-python-client->google-generativeai) (0.22.0)\n",
      "Requirement already satisfied: google-auth-httplib2>=0.0.3 in /opt/conda/lib/python3.10/site-packages (from google-api-python-client->google-generativeai) (0.2.0)\n",
      "Collecting google-api-core (from google-generativeai)\n",
      "  Downloading google_api_core-1.34.1-py3-none-any.whl.metadata (2.4 kB)\n",
      "Requirement already satisfied: six<2dev,>=1.6.1 in /opt/conda/lib/python3.10/site-packages (from google-api-python-client->google-generativeai) (1.16.0)\n",
      "Requirement already satisfied: uritemplate<4dev,>=3.0.0 in /opt/conda/lib/python3.10/site-packages (from google-api-python-client->google-generativeai) (3.0.1)\n",
      "Requirement already satisfied: annotated-types>=0.6.0 in /opt/conda/lib/python3.10/site-packages (from pydantic->google-generativeai) (0.7.0)\n",
      "Requirement already satisfied: pydantic-core==2.23.4 in /opt/conda/lib/python3.10/site-packages (from pydantic->google-generativeai) (2.23.4)\n",
      "INFO: pip is looking at multiple versions of google-api-core[grpc] to determine which version is compatible with other requirements. This could take a while.\n",
      "Collecting google-api-core[grpc]!=2.0.*,!=2.1.*,!=2.10.*,!=2.2.*,!=2.3.*,!=2.4.*,!=2.5.*,!=2.6.*,!=2.7.*,!=2.8.*,!=2.9.*,<3.0.0dev,>=1.34.1 (from google-ai-generativelanguage==0.6.10->google-generativeai)\n",
      "  Downloading google_api_core-2.22.0-py3-none-any.whl.metadata (2.9 kB)\n",
      "  Downloading google_api_core-2.21.0-py3-none-any.whl.metadata (2.8 kB)\n",
      "  Downloading google_api_core-2.20.0-py3-none-any.whl.metadata (2.7 kB)\n",
      "  Downloading google_api_core-2.19.2-py3-none-any.whl.metadata (2.7 kB)\n",
      "  Downloading google_api_core-2.19.1-py3-none-any.whl.metadata (2.7 kB)\n",
      "  Downloading google_api_core-2.19.0-py3-none-any.whl.metadata (2.7 kB)\n",
      "  Downloading google_api_core-2.18.0-py3-none-any.whl.metadata (2.7 kB)\n",
      "INFO: pip is still looking at multiple versions of google-api-core[grpc] to determine which version is compatible with other requirements. This could take a while.\n",
      "  Downloading google_api_core-2.17.1-py3-none-any.whl.metadata (2.7 kB)\n",
      "  Downloading google_api_core-2.17.0-py3-none-any.whl.metadata (2.7 kB)\n",
      "  Downloading google_api_core-2.16.2-py3-none-any.whl.metadata (2.7 kB)\n",
      "  Downloading google_api_core-2.16.1-py3-none-any.whl.metadata (2.7 kB)\n",
      "  Downloading google_api_core-2.16.0-py3-none-any.whl.metadata (2.7 kB)\n",
      "INFO: This is taking longer than usual. You might need to provide the dependency resolver with stricter constraints to reduce runtime. See https://pip.pypa.io/warnings/backtracking for guidance. If you want to abort this run, press Ctrl + C.\n",
      "  Downloading google_api_core-2.15.0-py3-none-any.whl.metadata (2.7 kB)\n",
      "  Downloading google_api_core-2.14.0-py3-none-any.whl.metadata (2.6 kB)\n",
      "  Downloading google_api_core-2.13.1-py3-none-any.whl.metadata (2.6 kB)\n",
      "  Downloading google_api_core-2.13.0-py3-none-any.whl.metadata (2.7 kB)\n",
      "  Downloading google_api_core-2.12.0-py3-none-any.whl.metadata (2.7 kB)\n",
      "  Downloading google_api_core-2.11.1-py3-none-any.whl.metadata (2.7 kB)\n",
      "  Downloading google_api_core-2.11.0-py3-none-any.whl.metadata (2.6 kB)\n",
      "Requirement already satisfied: grpcio<2.0dev,>=1.33.2 in /opt/conda/lib/python3.10/site-packages (from google-api-core[grpc]!=2.0.*,!=2.1.*,!=2.10.*,!=2.2.*,!=2.3.*,!=2.4.*,!=2.5.*,!=2.6.*,!=2.7.*,!=2.8.*,!=2.9.*,<3.0.0dev,>=1.34.1->google-ai-generativelanguage==0.6.10->google-generativeai) (1.68.0)\n",
      "Requirement already satisfied: grpcio-status<2.0dev,>=1.33.2 in /opt/conda/lib/python3.10/site-packages (from google-api-core[grpc]!=2.0.*,!=2.1.*,!=2.10.*,!=2.2.*,!=2.3.*,!=2.4.*,!=2.5.*,!=2.6.*,!=2.7.*,!=2.8.*,!=2.9.*,<3.0.0dev,>=1.34.1->google-ai-generativelanguage==0.6.10->google-generativeai) (1.48.2)\n",
      "Requirement already satisfied: pyparsing!=3.0.0,!=3.0.1,!=3.0.2,!=3.0.3,<4,>=2.4.2 in /opt/conda/lib/python3.10/site-packages (from httplib2<1dev,>=0.9.2->google-api-python-client->google-generativeai) (3.2.0)\n",
      "Requirement already satisfied: pyasn1<0.7.0,>=0.4.6 in /opt/conda/lib/python3.10/site-packages (from pyasn1-modules>=0.2.1->google-auth>=2.15.0->google-generativeai) (0.6.1)\n",
      "Requirement already satisfied: charset-normalizer<4,>=2 in /opt/conda/lib/python3.10/site-packages (from requests<3.0.0.dev0,>=2.18.0->google-api-core->google-generativeai) (3.4.0)\n",
      "Requirement already satisfied: idna<4,>=2.5 in /opt/conda/lib/python3.10/site-packages (from requests<3.0.0.dev0,>=2.18.0->google-api-core->google-generativeai) (3.10)\n",
      "Requirement already satisfied: urllib3<3,>=1.21.1 in /opt/conda/lib/python3.10/site-packages (from requests<3.0.0.dev0,>=2.18.0->google-api-core->google-generativeai) (1.26.20)\n",
      "Requirement already satisfied: certifi>=2017.4.17 in /opt/conda/lib/python3.10/site-packages (from requests<3.0.0.dev0,>=2.18.0->google-api-core->google-generativeai) (2024.8.30)\n",
      "Downloading google_generativeai-0.8.3-py3-none-any.whl (160 kB)\n",
      "Downloading google_ai_generativelanguage-0.6.10-py3-none-any.whl (760 kB)\n",
      "\u001b[2K   \u001b[90m━━━━━━━━━━━━━━━━━━━━━━━━━━━━━━━━━━━━━━━━\u001b[0m \u001b[32m760.0/760.0 kB\u001b[0m \u001b[31m19.9 MB/s\u001b[0m eta \u001b[36m0:00:00\u001b[0m\n",
      "\u001b[?25hDownloading google_api_core-1.34.1-py3-none-any.whl (120 kB)\n",
      "Installing collected packages: google-api-core, google-ai-generativelanguage, google-generativeai\n",
      "  Attempting uninstall: google-api-core\n",
      "    Found existing installation: google-api-core 2.23.0\n",
      "    Uninstalling google-api-core-2.23.0:\n",
      "      Successfully uninstalled google-api-core-2.23.0\n",
      "\u001b[31mERROR: pip's dependency resolver does not currently take into account all the packages that are installed. This behaviour is the source of the following dependency conflicts.\n",
      "google-cloud-bigquery 3.27.0 requires google-api-core[grpc]<3.0.0dev,>=2.11.1, but you have google-api-core 1.34.1 which is incompatible.\n",
      "kfp 2.5.0 requires kubernetes<27,>=8.0.0, but you have kubernetes 31.0.0 which is incompatible.\n",
      "kfp 2.5.0 requires requests-toolbelt<1,>=0.8.0, but you have requests-toolbelt 1.0.0 which is incompatible.\u001b[0m\u001b[31m\n",
      "\u001b[0mSuccessfully installed google-ai-generativelanguage-0.6.10 google-api-core-1.34.1 google-generativeai-0.8.3\n"
     ]
    },
    {
     "data": {
      "application/vnd.jupyter.widget-view+json": {
       "model_id": "4067489330fd443eaf99f11763d8cf6d",
       "version_major": 2,
       "version_minor": 0
      },
      "text/plain": [
       "modules.json:   0%|          | 0.00/349 [00:00<?, ?B/s]"
      ]
     },
     "metadata": {},
     "output_type": "display_data"
    },
    {
     "data": {
      "application/vnd.jupyter.widget-view+json": {
       "model_id": "6d4b0afc84974070bb6242a02d2ec71d",
       "version_major": 2,
       "version_minor": 0
      },
      "text/plain": [
       "config_sentence_transformers.json:   0%|          | 0.00/116 [00:00<?, ?B/s]"
      ]
     },
     "metadata": {},
     "output_type": "display_data"
    },
    {
     "data": {
      "application/vnd.jupyter.widget-view+json": {
       "model_id": "aa66e36aa49c446cbb430229443ca507",
       "version_major": 2,
       "version_minor": 0
      },
      "text/plain": [
       "README.md:   0%|          | 0.00/10.7k [00:00<?, ?B/s]"
      ]
     },
     "metadata": {},
     "output_type": "display_data"
    },
    {
     "data": {
      "application/vnd.jupyter.widget-view+json": {
       "model_id": "59f342bb23f1437b8488f518de58aa72",
       "version_major": 2,
       "version_minor": 0
      },
      "text/plain": [
       "sentence_bert_config.json:   0%|          | 0.00/53.0 [00:00<?, ?B/s]"
      ]
     },
     "metadata": {},
     "output_type": "display_data"
    },
    {
     "data": {
      "application/vnd.jupyter.widget-view+json": {
       "model_id": "ce32fdcc5fcd4b7bb6494ed04d69e5e9",
       "version_major": 2,
       "version_minor": 0
      },
      "text/plain": [
       "config.json:   0%|          | 0.00/612 [00:00<?, ?B/s]"
      ]
     },
     "metadata": {},
     "output_type": "display_data"
    },
    {
     "data": {
      "application/vnd.jupyter.widget-view+json": {
       "model_id": "4c27c76c7f804d00a89209a6ca0da8d4",
       "version_major": 2,
       "version_minor": 0
      },
      "text/plain": [
       "model.safetensors:   0%|          | 0.00/90.9M [00:00<?, ?B/s]"
      ]
     },
     "metadata": {},
     "output_type": "display_data"
    },
    {
     "data": {
      "application/vnd.jupyter.widget-view+json": {
       "model_id": "b3455b7c5e1c4836af9a5d5548351d6c",
       "version_major": 2,
       "version_minor": 0
      },
      "text/plain": [
       "tokenizer_config.json:   0%|          | 0.00/350 [00:00<?, ?B/s]"
      ]
     },
     "metadata": {},
     "output_type": "display_data"
    },
    {
     "data": {
      "application/vnd.jupyter.widget-view+json": {
       "model_id": "0babf5caabd14c77bb8e3ae6179d803f",
       "version_major": 2,
       "version_minor": 0
      },
      "text/plain": [
       "vocab.txt:   0%|          | 0.00/232k [00:00<?, ?B/s]"
      ]
     },
     "metadata": {},
     "output_type": "display_data"
    },
    {
     "data": {
      "application/vnd.jupyter.widget-view+json": {
       "model_id": "d8902080107a49f78f77986d7a8e2e8a",
       "version_major": 2,
       "version_minor": 0
      },
      "text/plain": [
       "tokenizer.json:   0%|          | 0.00/466k [00:00<?, ?B/s]"
      ]
     },
     "metadata": {},
     "output_type": "display_data"
    },
    {
     "data": {
      "application/vnd.jupyter.widget-view+json": {
       "model_id": "cb8b5ee7ddcd4930a0968e7eaa35db40",
       "version_major": 2,
       "version_minor": 0
      },
      "text/plain": [
       "special_tokens_map.json:   0%|          | 0.00/112 [00:00<?, ?B/s]"
      ]
     },
     "metadata": {},
     "output_type": "display_data"
    },
    {
     "data": {
      "application/vnd.jupyter.widget-view+json": {
       "model_id": "09085af66c804fbe9a2b80f68a6eabc6",
       "version_major": 2,
       "version_minor": 0
      },
      "text/plain": [
       "1_Pooling/config.json:   0%|          | 0.00/190 [00:00<?, ?B/s]"
      ]
     },
     "metadata": {},
     "output_type": "display_data"
    },
    {
     "name": "stdout",
     "output_type": "stream",
     "text": [
      "[[-0.03299040347337723, -0.03994394838809967, 0.02768322080373764, -0.020394684746861458, 0.010316920466721058, -0.013435319997370243, -0.11188780516386032, 0.0020084811840206385, -0.008219876326620579, -0.054634515196084976, 0.05009115859866142, 0.060834359377622604, 0.050288472324609756, 0.04027774557471275, 0.0002621527237351984, -0.01453626248985529, -0.054342564195394516, 0.0022568206768482924, -0.03845825418829918, -0.053221721202135086, 0.0584506019949913, -0.04633062705397606, 0.11275571584701538, -0.0909026712179184, -0.005574648734182119, 0.02450973354279995, -0.14071720838546753, -0.09735380113124847, -0.0076984865590929985, 0.018437139689922333, -5.31673249497544e-05, 0.0346691757440567, -0.006346573121845722, 0.11858687549829483, -0.0844186320900917, 0.0539005771279335, -0.06958915293216705, 0.0504479855298996, -0.010030870325863361, 0.016402777284383774, -0.042457979172468185, -0.036958418786525726, -0.03685655817389488, -0.059337131679058075, 0.03196948766708374, 0.021555446088314056, -0.016519639641046524, -0.06547919660806656, 0.12095297873020172, 0.018317313864827156, -0.11509416997432709, -0.02344784140586853, -0.05456090718507767, 0.0016745345201343298, 0.0578916110098362, 0.08628765493631363, -0.039494942873716354, 0.004467010032385588, 0.00394650362432003, 0.01567012444138527, 0.008778777904808521, 0.016000857576727867, -0.003253863425925374, 0.06132224574685097, 0.13086409866809845, 0.033286359161138535, 0.08286529034376144, -0.09430436044931412, 0.0023565918672829866, -0.09231957048177719, 0.05939960852265358, -0.0027769189327955246, 0.05411554500460625, -0.01997673325240612, -0.02035680040717125, 0.07041634619235992, 0.0036438468378037214, -0.024774350225925446, 0.003210614202544093, -0.009424771182239056, 0.03597017005085945, -0.043848443776369095, 0.025121590122580528, -0.02359500713646412, 0.022700143977999687, -0.09640185534954071, -0.12446412444114685, -0.04922695457935333, 0.04974713176488876, -0.07508799433708191, 0.030794112011790276, -0.06537652760744095, -0.007808665279299021, 0.03921867161989212, -0.06168624758720398, -0.055464550852775574, -0.061166923493146896, 0.049059294164180756, 0.012119119986891747, -0.05159282311797142, -0.04359203577041626, -0.04613730311393738, 0.019251961261034012, -0.0009632365545257926, -0.03619447350502014, 0.023756016045808792, 0.05923495814204216, 0.01511148177087307, 0.023419948294758797, -0.057319480925798416, 0.008371503092348576, 0.0693369060754776, 0.02402331493794918, -0.035224106162786484, -0.04857971519231796, 0.05215694382786751, -0.059408221393823624, -0.05786280333995819, 0.1374533325433731, 0.07820281386375427, -0.06057346239686012, -0.009561085142195225, 0.004693169146776199, -0.05069785937666893, -0.010184699669480324, -0.024617435410618782, -0.024373281747102737, 3.9715182341904726e-33, 0.007024993654340506, 0.01583268865942955, 0.08486858755350113, 0.017659517005085945, -0.07573197036981583, 0.02474895305931568, -0.043804578483104706, 0.05559544265270233, -0.1632722169160843, -0.10690128058195114, 0.02870779111981392, 0.056747645139694214, -0.06198514997959137, 0.02338472381234169, 0.004513977095484734, -0.004911075811833143, 0.028633709996938705, 0.02154017984867096, 0.06016171723604202, 0.043655525892972946, 0.03289338946342468, -0.015947505831718445, -0.0016327511984854937, -0.01594015397131443, 0.06689087301492691, 0.015686729922890663, 0.064393550157547, -0.10702139884233475, 0.04848342761397362, 0.04433870315551758, -0.06380802392959595, 0.06614793092012405, -0.015019797720015049, 0.01796063594520092, 0.043703436851501465, 0.053795330226421356, -0.06027815118432045, 0.07811678946018219, -0.030051378533244133, 0.024510841816663742, -0.02991708740592003, -0.003584346268326044, 0.036171820014715195, -0.12826021015644073, 0.00634520361199975, 0.023348834365606308, -0.13514721393585205, 0.008351064287126064, -0.009138588793575764, -0.004260329995304346, 0.04348939657211304, 0.0322381965816021, -0.15615710616111755, -0.008810441009700298, 0.08632687479257584, 0.10427533835172653, -0.04265924543142319, 0.00866147130727768, -0.00436864560469985, 0.024473154917359352, 0.017898857593536377, 0.008760983124375343, -0.018968040123581886, 0.0011241977335885167, 0.0004519611247815192, 0.0349574089050293, 0.03432626277208328, 0.010356116108596325, -0.01690092496573925, 0.10622075200080872, -0.0028836375568062067, -0.004599709529429674, -0.04492194205522537, -0.01853579469025135, 0.03307182341814041, -0.07056142389774323, -0.00874304585158825, -0.044760413467884064, 0.030594151467084885, 0.09171219915151596, -0.02412526309490204, -0.03081260435283184, 0.07862137258052826, 0.0033081076107919216, -0.020565442740917206, 0.04760550707578659, 0.057292722165584564, -0.06693674623966217, -0.022272853180766106, 0.029437240213155746, 0.014241104014217854, 0.06403449177742004, -0.06569793075323105, -0.03127480670809746, 0.022435368970036507, -5.007436957190014e-33, -0.03187507763504982, -0.06340411305427551, -0.03900478035211563, 0.023540504276752472, 0.03912974148988724, 0.03437526524066925, 0.04007613658905029, -0.02042279951274395, -0.03234888240695, 0.05234210938215256, 0.059108998626470566, -0.007203834597021341, -0.04132029041647911, -0.011854375712573528, -0.11563929915428162, 0.011508924886584282, 0.061233244836330414, -0.022431090474128723, -0.021996699273586273, 0.01404641941189766, 0.02578112483024597, 0.005979299079626799, -0.009535384364426136, 0.024100206792354584, -0.063277468085289, -0.002048359951004386, 0.03584285452961922, -0.029756831005215645, -0.043071772903203964, -0.0006004641181789339, -0.012534741312265396, -0.05623377859592438, 0.032050445675849915, 0.00027572776889428496, 0.003352863946929574, 0.03853703290224075, -0.02654559351503849, -0.09196769446134567, -0.0227692648768425, 0.06158702075481415, 0.02568572759628296, 0.028194190934300423, 0.03530275449156761, -0.049872901290655136, -0.05000152066349983, -0.029349280521273613, -0.03212173283100128, 0.016586503013968468, 0.03704134747385979, 0.01752857118844986, -0.038705337792634964, -0.029327966272830963, -0.06344049423933029, -0.07388705015182495, -0.03447519615292549, -0.07062524557113647, 0.004816516302525997, 0.06969429552555084, -0.003134328406304121, 0.004672504961490631, 0.0033470988273620605, -0.03398498147726059, -0.04832518845796585, 0.02793455496430397, 0.010772877372801304, -0.020612478256225586, -0.013131684623658657, -0.058492571115493774, -0.07565831393003464, 0.041309528052806854, -0.002591526135802269, -0.08955953270196915, 0.020978186279535294, 0.055439457297325134, 0.002060435712337494, 0.05453985929489136, 0.024432731792330742, 0.10930520296096802, 0.028638381510972977, -0.04487135633826256, 0.027670394629240036, 0.0367337130010128, -0.003935190849006176, 0.17495696246623993, 0.0038331933319568634, 0.023747067898511887, 0.008619316853582859, 0.016209034249186516, -0.025720350444316864, -0.0918537825345993, -0.038806118071079254, -0.017467737197875977, -0.061267055571079254, -0.028160620480775833, 0.03858587145805359, -2.7597387486366642e-08, 0.07812158018350601, 0.05210360512137413, -0.02762330323457718, 0.021103385835886, 0.05383596569299698, -0.0005516732344403863, -0.012521600350737572, 0.06315213441848755, -0.04240022227168083, 0.005271495785564184, -0.022028053179383278, 0.036485567688941956, -0.023235298693180084, 0.015137527137994766, 0.030383393168449402, -0.050987403839826584, 0.013745314441621304, -0.037529878318309784, 0.03390529751777649, -0.011586753651499748, 0.011013559065759182, 0.0033264753874391317, 0.014553135260939598, 0.021012326702475548, -0.08063558489084244, 0.08616845309734344, -0.04869949445128441, -0.015209265984594822, 0.00856746081262827, -0.00578059908002615, 0.007869805209338665, -0.011478287167847157, -0.07015315443277359, -0.008984316140413284, 0.018908090889453888, -0.08241426199674606, -0.018981853500008583, -0.007575712166726589, -0.011817151680588722, 0.01718553528189659, 0.08183784782886505, 0.004939354956150055, 0.07152927666902542, 0.056323155760765076, 0.09855367988348007, 0.04808482900261879, 0.11054377257823944, -0.10186513513326645, 0.033465415239334106, 0.049273233860731125, -0.02730460837483406, -0.03425009548664093, 0.004931013565510511, 0.08196207135915756, 0.01408262737095356, -0.04845196008682251, 0.06755328178405762, -0.08203929662704468, 0.027042130008339882, 0.029886163771152496, 0.08814927190542221, -0.043715670704841614, -0.08678337186574936, 0.015215085819363594]]\n"
     ]
    }
   ],
   "source": [
    "!pip3 install chromadb==0.5.3\n",
    "!pip3 install google-generativeai\n",
    "import chromadb\n",
    "import os\n",
    "from chromadb.utils.embedding_functions import SentenceTransformerEmbeddingFunction\n",
    "# import chromadb.utils.embedding_functions as embedding_functions\n",
    "\n",
    "# import getpass\n",
    "# import os\n",
    "\n",
    "# getpass will prompt for an API Key\n",
    "# The API Key is needed for Chroma DB\n",
    "# API_KEY = getpass.getpass(\"Provide your Google API Key\")\n",
    "\n",
    "# embedding_function = embedding_functions.GooglePalmEmbeddingFunction(api_key=creds.token)\n",
    "\n",
    "embedding_function = SentenceTransformerEmbeddingFunction()\n",
    "print(embedding_function([token_split_texts[10]]))"
   ]
  },
  {
   "cell_type": "markdown",
   "id": "a69a7d93-f0a2-4f3f-9854-55b1d32be852",
   "metadata": {},
   "source": [
    "Create embedings and store them in the chroma database.\n"
   ]
  },
  {
   "cell_type": "code",
   "execution_count": 8,
   "id": "87b2a7aa-f74e-4581-9355-d996a133f676",
   "metadata": {
    "tags": []
   },
   "outputs": [
    {
     "name": "stdout",
     "output_type": "stream",
     "text": [
      "collection\n",
      "created\n",
      "adding\n"
     ]
    },
    {
     "data": {
      "text/plain": [
       "511"
      ]
     },
     "execution_count": 8,
     "metadata": {},
     "output_type": "execute_result"
    }
   ],
   "source": [
    "chroma_client = chromadb.Client()\n",
    "print(\"collection\")\n",
    "chroma_collection = chroma_client.create_collection(\"alphabet_annual_report_2022\", embedding_function=embedding_function)\n",
    "print(\"created\")\n",
    "ids = [str(i) for i in range(len(token_split_texts))]\n",
    "print(\"adding\")\n",
    "chroma_collection.add(ids=ids, documents=token_split_texts)\n",
    "chroma_collection.count()"
   ]
  },
  {
   "cell_type": "code",
   "execution_count": 11,
   "id": "ada75dfa-6e38-4c89-a267-59cc8fda202f",
   "metadata": {
    "tags": []
   },
   "outputs": [
    {
     "name": "stdout",
     "output_type": "stream",
     "text": [
      "accrued revenue share 1, 639 1, 682 ( 445 ) deferred revenue 635 774 367\n",
      "\n",
      "\n",
      "for additional details, including a reconciliation of the u. s. federal statutory rate to our effective tax rate, see note 14 of the notes to consolidated financial statements included in item 8 of this annual report on form 10 - k. executive overview the following table summarizes our consolidated financial results ( in millions, except for per share information and percentages ) : year ended december 31, 2021 2022 $ change % change consolidated revenues $ 257, 637 $ 282, 836 $ 25, 199 10 % change in consolidated constant currency revenues ( 1 ) 14 % cost of revenues $ 110, 939 $ 126, 203 $ 15, 264 14 % operating expenses $ 67, 984 $ 81, 791 $ 13, 807 20 % operating income $ 78, 714 $ 74, 842 $ ( 3, 872 ) ( 5 ) % operating margin 31 % 26 % ( 5 ) % other income ( expense ), net $ 12, 020 $ ( 3, 514 ) $ ( 15, 534 ) ( 129 ) % net income $ 76, 033 $ 59, 972 $ ( 16, 061 ) ( 21 ) % diluted eps $ 5. 61 $ 4. 56 $ ( 1. 05 ) ( 19 )\n",
      "\n",
      "\n",
      "year ended december 31, 2022 $ 1, 389 $ 2, 125 $ ( 2, 301 ) $ 1, 213 note : additions t o the allowance for credit losses are charged to expense. additions to the allowance for sales credits are charged against revenues. all other schedules have been omitted because they are not required, not applicable, or the required information is otherwise included.\n",
      "\n",
      "\n",
      "zour employees are critical to our success and we expect to continue investing in them. our employees are among our best assets and are critical for our continued success. we expect to continue hiring talented employees around the globe and to provide competitive compensation programs. for additional information see culture and workforce in part i, item 1 “ business. ” revenues and monetization metrics we generate revenues by delivering relevant, cost - effective online advertising ; cloud - based solutions that provide enterprise customers of all sizes with infrastructure and platform services as well as communication and collaboration tools ; sales of other products and services, such as apps and in - app purchases, and hardware ; and fees received for subscription - based products. for details on how we recognize revenue, see note 1 of the notes to consolidated financial statements included in item 8 of this annual report on form 10 - k.\n",
      "\n",
      "\n",
      "comprehensive income $ 42, 134 $ 73, 777 $ 53, 992 see accompanying notes.\n",
      "\n",
      "\n"
     ]
    }
   ],
   "source": [
    "query = \"What was the total revenue?\"\n",
    "\n",
    "results = chroma_collection.query(query_texts=[query], n_results=5)\n",
    "retrieved_documents = results['documents'][0]\n",
    "\n",
    "for document in retrieved_documents:\n",
    "    print(document)\n",
    "    print('\\n')"
   ]
  },
  {
   "cell_type": "markdown",
   "id": "b982dbf2-7734-4304-a27b-02000a795381",
   "metadata": {},
   "source": [
    "Use a RAG to answer the question given the information that was looked up from the database."
   ]
  },
  {
   "cell_type": "code",
   "execution_count": 12,
   "id": "9b375041-43a3-4f6c-b3bc-a6fbe313b2a3",
   "metadata": {
    "tags": []
   },
   "outputs": [
    {
     "name": "stdout",
     "output_type": "stream",
     "text": [
      "The total revenue for the year ended December 31, 2022, was $282,836 million. This represents a 10% increase from the previous year.\n"
     ]
    }
   ],
   "source": [
    "def rag(query, retrieved_documents, model):\n",
    "    information = \"\\n\\n\".join(retrieved_documents)\n",
    "\n",
    "    prompt = (f'You are a helpful expert financial research assistant.\\n'\n",
    "    f'Your users are asking questions about information contained in an annual report.\\n'\n",
    "    f'You will be shown the user\\'s question, and the relevant information from the annual report.\\n'\n",
    "    f'Answer the user\\'s question using only this information.\\n\\n'\n",
    "    f'Question: {query}. \\n Information: {information}')\n",
    "    \n",
    "    responses = model.generate_content(prompt, stream=False)\n",
    "    return responses.text\n",
    "\n",
    "response = rag(query=query, retrieved_documents=retrieved_documents, model=model)\n",
    "print(response)"
   ]
  },
  {
   "cell_type": "markdown",
   "id": "fc40688c-79d6-483e-aa22-f1b6c0edd039",
   "metadata": {},
   "source": [
    "## Explore embeddings distribution with user queries"
   ]
  },
  {
   "cell_type": "code",
   "execution_count": 13,
   "id": "485bab14-f34e-4118-87a4-c3b87b034c8c",
   "metadata": {
    "tags": []
   },
   "outputs": [
    {
     "name": "stderr",
     "output_type": "stream",
     "text": [
      "/home/jupyter/.local/lib/python3.10/site-packages/umap/umap_.py:1952: UserWarning: n_jobs value 1 overridden to 1 by setting random_state. Use no seed for parallelism.\n",
      "  warn(\n",
      "100%|██████████| 511/511 [00:02<00:00, 201.97it/s]\n"
     ]
    }
   ],
   "source": [
    "import umap.umap_ as umap\n",
    "import numpy as np\n",
    "from tqdm import tqdm\n",
    "\n",
    "embeddings = chroma_collection.get(include=['embeddings'])['embeddings']\n",
    "umap_transform = umap.UMAP(random_state=0, transform_seed=0).fit(embeddings)\n",
    "\n",
    "def project_embeddings(embeddings, umap_transform):\n",
    "    umap_embeddings = np.empty((len(embeddings),2))\n",
    "    for i, embedding in enumerate(tqdm(embeddings)): \n",
    "        umap_embeddings[i] = umap_transform.transform([embedding])\n",
    "    return umap_embeddings\n",
    "\n",
    "projected_dataset_embeddings = project_embeddings(embeddings, umap_transform)"
   ]
  },
  {
   "cell_type": "code",
   "execution_count": 14,
   "id": "6162e51d-ad3f-42a0-aedd-2f2d36c9f561",
   "metadata": {
    "tags": []
   },
   "outputs": [
    {
     "data": {
      "image/png": "[encoded data removed]",
      "text/plain": [
       "<Figure size 640x480 with 1 Axes>"
      ]
     },
     "metadata": {},
     "output_type": "display_data"
    }
   ],
   "source": [
    "import matplotlib.pyplot as plt\n",
    "\n",
    "def plot(title='Projected Embeddings', projected_dataset_embeddings=[], projected_query_embedding=[], projected_retrieved_embeddings=[]):\n",
    "    # Plot the projected query and retrieved documents in the embedding space\n",
    "    plt.figure()\n",
    "    plt.scatter(projected_dataset_embeddings[:, 0], projected_dataset_embeddings[:, 1], s=10, color='gray')\n",
    "    if len(projected_query_embedding) > 0:\n",
    "        plt.scatter(projected_query_embedding[:, 0], projected_query_embedding[:, 1], s=150, marker='X', color='r')\n",
    "    if len(projected_retrieved_embeddings) > 0:\n",
    "        plt.scatter(projected_retrieved_embeddings[:, 0], projected_retrieved_embeddings[:, 1], s=100, facecolors='none', edgecolors='g')\n",
    "\n",
    "    plt.gca().set_aspect('equal', 'datalim')\n",
    "    plt.title(f'{title}')\n",
    "    plt.axis('off')\n",
    "\n",
    "plot(projected_dataset_embeddings=projected_dataset_embeddings)"
   ]
  },
  {
   "cell_type": "markdown",
   "id": "a661e4c0-3eb7-409a-bccb-3e6d24c90477",
   "metadata": {},
   "source": [
    "Ask the same question to the database again, but this time retrieve the embeddings in addition to the documents."
   ]
  },
  {
   "cell_type": "code",
   "execution_count": 15,
   "id": "de36e5ee-1e21-4784-9b48-b8f7b3e33a2b",
   "metadata": {
    "tags": []
   },
   "outputs": [
    {
     "name": "stdout",
     "output_type": "stream",
     "text": [
      "accrued revenue share 1, 639 1, 682 ( 445 ) deferred revenue 635 774 367\n",
      "\n",
      "for additional details, including a reconciliation of the u. s. federal statutory rate to our effective tax rate, see note 14 of the notes to consolidated financial statements included in item 8 of this annual report on form 10 - k. executive overview the following table summarizes our consolidated financial results ( in millions, except for per share information and percentages ) : year ended december 31, 2021 2022 $ change % change consolidated revenues $ 257, 637 $ 282, 836 $ 25, 199 10 % change in consolidated constant currency revenues ( 1 ) 14 % cost of revenues $ 110, 939 $ 126, 203 $ 15, 264 14 % operating expenses $ 67, 984 $ 81, 791 $ 13, 807 20 % operating income $ 78, 714 $ 74, 842 $ ( 3, 872 ) ( 5 ) % operating margin 31 % 26 % ( 5 ) % other income ( expense ), net $ 12, 020 $ ( 3, 514 ) $ ( 15, 534 ) ( 129 ) % net income $ 76, 033 $ 59, 972 $ ( 16, 061 ) ( 21 ) % diluted eps $ 5. 61 $ 4. 56 $ ( 1. 05 ) ( 19 )\n",
      "\n",
      "year ended december 31, 2022 $ 1, 389 $ 2, 125 $ ( 2, 301 ) $ 1, 213 note : additions t o the allowance for credit losses are charged to expense. additions to the allowance for sales credits are charged against revenues. all other schedules have been omitted because they are not required, not applicable, or the required information is otherwise included.\n",
      "\n",
      "zour employees are critical to our success and we expect to continue investing in them. our employees are among our best assets and are critical for our continued success. we expect to continue hiring talented employees around the globe and to provide competitive compensation programs. for additional information see culture and workforce in part i, item 1 “ business. ” revenues and monetization metrics we generate revenues by delivering relevant, cost - effective online advertising ; cloud - based solutions that provide enterprise customers of all sizes with infrastructure and platform services as well as communication and collaboration tools ; sales of other products and services, such as apps and in - app purchases, and hardware ; and fees received for subscription - based products. for details on how we recognize revenue, see note 1 of the notes to consolidated financial statements included in item 8 of this annual report on form 10 - k.\n",
      "\n",
      "comprehensive income $ 42, 134 $ 73, 777 $ 53, 992 see accompanying notes.\n",
      "\n"
     ]
    }
   ],
   "source": [
    "query = \"What was the total revenue?\"\n",
    "\n",
    "results = chroma_collection.query(query_texts=query, n_results=5, include=['documents', 'embeddings'])\n",
    "\n",
    "retrieved_documents = results['documents'][0]\n",
    "\n",
    "for document in results['documents'][0]:\n",
    "    print(document)\n",
    "    print('')"
   ]
  },
  {
   "cell_type": "markdown",
   "id": "38a6aa66-44ec-45fb-ad90-040110e2c330",
   "metadata": {},
   "source": [
    "Embed the question and answer and transform it into two dimentions."
   ]
  },
  {
   "cell_type": "code",
   "execution_count": 16,
   "id": "3dde69a1-a895-45d6-9647-cd0ae9d9e775",
   "metadata": {
    "tags": []
   },
   "outputs": [
    {
     "name": "stderr",
     "output_type": "stream",
     "text": [
      "100%|██████████| 1/1 [00:00<00:00, 137.92it/s]\n",
      "100%|██████████| 5/5 [00:00<00:00, 179.32it/s]\n"
     ]
    }
   ],
   "source": [
    "query_embedding = embedding_function([query])[0]\n",
    "retrieved_embeddings = results['embeddings'][0]\n",
    "\n",
    "projected_query_embedding = project_embeddings([query_embedding], umap_transform)\n",
    "projected_retrieved_embeddings = project_embeddings(retrieved_embeddings, umap_transform)"
   ]
  },
  {
   "cell_type": "code",
   "execution_count": 17,
   "id": "5f9682ef-f14c-48d6-ba8a-f5ebb842e9fd",
   "metadata": {
    "tags": []
   },
   "outputs": [
    {
     "data": {
      "image/png": "[encoded data removed]",
      "text/plain": [
       "<Figure size 640x480 with 1 Axes>"
      ]
     },
     "metadata": {},
     "output_type": "display_data"
    }
   ],
   "source": [
    "plot(title=query, projected_dataset_embeddings=projected_dataset_embeddings, projected_query_embedding=[], projected_retrieved_embeddings=projected_retrieved_embeddings)"
   ]
  },
  {
   "cell_type": "code",
   "execution_count": 18,
   "id": "b1aac5b1-b0cc-472e-97a6-b64150234afb",
   "metadata": {
    "tags": []
   },
   "outputs": [
    {
     "name": "stdout",
     "output_type": "stream",
     "text": [
      "to irrelevance over time, especially in technology, where change tends to be revolutionary, not evolutionary. people thought we were crazy when we acquired youtube and android and when we launched chrome, but those efforts have matured into major platforms for digital video and mobile devices and a safer, popular browser. we continue to look toward the future and to invest for the long term within each of our segments. as we said in the original founders ’ letter, we will not shy away from high - risk, high - reward projects that we believe in, as they are the key to our long - term success. the power of ai we believe that ai is a foundational and transformational technology that will provide compelling and helpful benefits to people and society through its capacity to assist, complement, empower, and inspire people in almost every field of human endeavor. as\n",
      "\n",
      "are making across our businesses, such as in ai, reflect our ongoing efforts to innovate and provide products and services that are useful to users, advertisers, publishers, customers, and content providers. our investments span a wide range of industries beyond\n",
      "\n",
      "continues to build ai into numerous solutions that our customers can use to develop ai - powered applications — including processing documents, images, and translation — to understand and analyze data more efficiently, and to use packaged solutions for a variety of industries. in all these examples, ai significantly enhances the usefulness and multiplies the value of these products and services to people and organizations.\n",
      "\n",
      "an information and computer science company, we will continue to be at the forefront of advancing the frontier of ai. through our path - breaking and field - defining research and development, we responsibly and boldly develop more capable and useful ai every day. ai already powers google ’ s core products that help billions of people every day and has been at the foundation of our core ads quality systems for years, helping large and small businesses all over the world to produce and run effective and efficient ad campaigns that help grow their businesses. ai makes it possible to search in new languages, with multiple inputs, such as using images and text at the same time with the google app. some of our most popular products at google — including lens and translate — were built entirely using artificial intelligence technologies such as optical character recognition and machine learning. google cloud\n",
      "\n",
      "more challenging macroeconomic environment, and as a company we embarked on efforts to sharpen our focus and make sure our efforts are aligned with our highest priorities. near the end of the year, ai reached an inflection point, made possible by our foundational breakthroughs like transformer and advances in diffusion models. it was an exciting moment for us after having worked to develop the technology responsibly for so many years. and on december 18, during the world cup final, google search saw its highest query - per - second volume of all time, a strong signal of our momentum. through it all, we launched new products that helped us advance our mission : to organize the world ’ s information and make it universally accessible and useful. over the past few years, ai has emerged as the most important way we can advance our mission, and in 2022, we made some of our biggest technological advancements yet. in the area of natural language understanding, our latest mo\n",
      "\n"
     ]
    }
   ],
   "source": [
    "query = \"What is the strategy around artificial intelligence (AI) ?\"\n",
    "results = chroma_collection.query(query_texts=query, n_results=5, include=['documents', 'embeddings'])\n",
    "\n",
    "retrieved_documents = results['documents'][0]\n",
    "\n",
    "for document in results['documents'][0]:\n",
    "    print(document)\n",
    "    print('')"
   ]
  },
  {
   "cell_type": "code",
   "execution_count": 19,
   "id": "77f409a5-be4d-4140-b487-683b3e9e0674",
   "metadata": {
    "tags": []
   },
   "outputs": [
    {
     "name": "stderr",
     "output_type": "stream",
     "text": [
      "100%|██████████| 1/1 [00:00<00:00,  6.68it/s]\n",
      "100%|██████████| 5/5 [00:00<00:00,  6.83it/s]\n"
     ]
    }
   ],
   "source": [
    "query_embedding = embedding_function([query])[0]\n",
    "retrieved_embeddings = results['embeddings'][0]\n",
    "\n",
    "projected_query_embedding = project_embeddings([query_embedding], umap_transform)\n",
    "projected_retrieved_embeddings = project_embeddings(retrieved_embeddings, umap_transform)"
   ]
  },
  {
   "cell_type": "code",
   "execution_count": 20,
   "id": "40a1f920-4ecf-4b23-ab5e-2623bd869c6d",
   "metadata": {
    "tags": []
   },
   "outputs": [
    {
     "data": {
      "image/png": "[encoded data removed]",
      "text/plain": [
       "<Figure size 640x480 with 1 Axes>"
      ]
     },
     "metadata": {},
     "output_type": "display_data"
    }
   ],
   "source": [
    "plot(title=query, projected_dataset_embeddings=projected_dataset_embeddings, projected_query_embedding=[], projected_retrieved_embeddings=projected_retrieved_embeddings)"
   ]
  },
  {
   "cell_type": "markdown",
   "id": "1359237a-f7d5-4441-ad7e-10997658cd45",
   "metadata": {},
   "source": [
    "Try all these again with another question that might be contained in the dataset to see that results are still close to one another."
   ]
  },
  {
   "cell_type": "code",
   "execution_count": 21,
   "id": "e6479ddc-de26-4384-abfc-06f1b02a5450",
   "metadata": {
    "tags": []
   },
   "outputs": [
    {
     "name": "stdout",
     "output_type": "stream",
     "text": [
      "our operating results have fluctuated, and may in the future fluctuate, as a result of a number of factors, many outside of our control, including the cyclicality and seasonality in our business and geopolitical events. as a result, comparing our operating results ( including our expenses as a percentage of our revenues ) on a period - to - period basis may not be meaningful, and our past results should not be relied on as an indication of our future performance. consequently, our operating results in future quarters may fall below expectations. acquisitions, joint ventures, investments, and divestitures could result in operating difficulties, dilution, and other consequences that could harm our business, financial condition, and operating results. acquisitions, joint ventures, investments, and divestitures are important elements of our overall corporate strategy and use of capital,\n",
      "\n",
      "customer contracts with commitments for performance obligations, including our estimate of the remaining amount of commitments and when we expect to recognize revenue ; zfluctuations in our capital expenditures ; zour plans to continue to invest in new businesses, products, services and technologies, systems, land and buildings for data centers, and infrastructure, as well as to continue to invest in acquisitions and strategic investments ; zour pace of hiring and our plans to provide competitive compensation programs ; zour expectation that our cost of revenues, research and development ( r & d ) expenses, sales and marketing expenses, and general and administrative expenses may increase in amount and / or may increase as a percentage of revenues and may be affected by a number of factors ; zestimates of our future compensation expenses ; zour expectation that our other income ( expense ), net ( oi & e ), will fluctuate in the future, as it is largely driven by market dynamics ;\n",
      "\n",
      "our principal sources of liquidity are cash, cash equivalents, and marketable securities, as well as the cash flow that we generate from operations. the primary use of capital continues to be to invest for the long - term growth of the business. we regularly evaluate our cash and capital structure, including the size, pace, and form of capital return to stockholders. the following table presents our cash flows ( in millions ) : year ended december 31, 2021 2022 net cash provided by operating activities $ 91, 652 $ 91, 495 net cash used in investing activities $ ( 35, 523 ) $ ( 20, 298 ) net cash used in financing activities $ ( 61, 362 ) $ ( 69, 757 )\n",
      "\n",
      "preparation of consolidated financial statements in conformity with gaap requires us to make estimates and assumptions that affect the amounts reported and disclosed in the financial statements and the accompanying notes. actual results could differ materially from these estimates due to uncertainties. on an ongoing basis, we evaluate our estimates, including those related to the allowance for credit losses ; fair values of financial instruments, intangible assets, and goodwill ; inventory ; useful lives of intangible assets and property and equipment ; income taxes ; and contingent liabilities, among others. we base our estimates on assumptions, both historical and forward looking, that are believed to be reasonable, and the results of which form the basis for making judgments about the carrying values of assets and liabilities. in january 2023, we completed an assessment of the useful lives of our servers and network equipment and adjusted the estimated\n",
      "\n",
      "results. our success will depend largely on our ability to remain a technology leader and continue to provide high - quality, trustworthy, innovative products and services that are truly useful and play a valuable role in a range of settings. we face a number of manufacturing and supply chain risks that could harm our business, financial condition, and operating results. we face a number of risks related to manufacturing and supply chain management, which could affect our ability to supply both our products and our services. we rely on contract manufacturers to manufacture or assemble our hardware products and servers and networking equipment used in our technical infrastructure, and we may supply the contract manufacturers with components to assemble the hardware products and equipment. we also rely on other companies to participate in the distribution of our products and services. our business could\n",
      "\n"
     ]
    },
    {
     "name": "stderr",
     "output_type": "stream",
     "text": [
      "100%|██████████| 1/1 [00:00<00:00, 75.58it/s]\n",
      "100%|██████████| 5/5 [00:00<00:00, 170.43it/s]\n"
     ]
    },
    {
     "data": {
      "image/png": "[encoded data removed]",
      "text/plain": [
       "<Figure size 640x480 with 1 Axes>"
      ]
     },
     "metadata": {},
     "output_type": "display_data"
    }
   ],
   "source": [
    "query = \"What are the company's long-term financial goals?\"\n",
    "results = chroma_collection.query(query_texts=query, n_results=5, include=['documents', 'embeddings'])\n",
    "\n",
    "retrieved_documents = results['documents'][0]\n",
    "\n",
    "for document in results['documents'][0]:\n",
    "    print(document)\n",
    "    print('')\n",
    "\n",
    "query_embedding = embedding_function([query])[0]\n",
    "retrieved_embeddings = results['embeddings'][0]\n",
    "\n",
    "projected_query_embedding = project_embeddings([query_embedding], umap_transform)\n",
    "projected_retrieved_embeddings = project_embeddings(retrieved_embeddings, umap_transform)\n",
    "\n",
    "plot(title=query, projected_dataset_embeddings=projected_dataset_embeddings, projected_query_embedding=[], projected_retrieved_embeddings=projected_retrieved_embeddings)"
   ]
  },
  {
   "cell_type": "markdown",
   "id": "0bae9b13-ff23-44de-b0ab-b2933106c3b2",
   "metadata": {},
   "source": [
    "Now, use an unrelated query and observe how the results are more scattered around. Notice that the algorithm always returns close neighbors even if they are far appart. This is an indication that is returning results that are not necesseraly related to the query"
   ]
  },
  {
   "cell_type": "code",
   "execution_count": 22,
   "id": "6415de6c-ec1e-4aa9-b457-3c64677c7d3b",
   "metadata": {
    "tags": []
   },
   "outputs": [
    {
     "name": "stdout",
     "output_type": "stream",
     "text": [
      "careers, and be happy, healthy, and productive. we offer industry - leading benefits and programs to take care of the diverse needs of our employees and their families, including opportunities for career growth and development, resources to support their financial health, and access to excellent healthcare choices. our competitive compensation programs help us to attract and retain top candidates, and we will continue to invest in recruiting talented people to technical and non - technical roles, and rewarding them well. we provide a variety of high quality training and support to managers to build and strengthen their capabilities — ranging from courses for new managers, to learning resources that help them provide feedback and manage performance, to coaching and individual support.\n",
      "\n",
      "other bets 753 1, 068 hedging gains ( losses ) 149 1, 960 total revenues $ 257, 637 $ 282, 836\n",
      "\n",
      "we continue to make significant research and development investments in areas of strategic focus as we seek to develop new, innovative offerings and improve our existing offerings across our businesses. we also expect to continue to invest in our technical infrastructure, including servers, network equipment, and data centers, to support the growth of our business and our long - term initiatives, in particular in support of ai. in addition acquisitions and strategic investments contribute to the breadth and depth of our offerings, expand our expertise in engineering and other functional areas, and build strong partnerships around strategic initiatives. for example, in september 2022 we closed the acquisition of mandiant to help expand our offerings in dynamic cyber defense and response. zwe face continuing changes in regulatory conditions, laws, and public policies, which could affect our business practices and financial results.\n",
      "\n",
      "our principal sources of liquidity are cash, cash equivalents, and marketable securities, as well as the cash flow that we generate from operations. the primary use of capital continues to be to invest for the long - term growth of the business. we regularly evaluate our cash and capital structure, including the size, pace, and form of capital return to stockholders. the following table presents our cash flows ( in millions ) : year ended december 31, 2021 2022 net cash provided by operating activities $ 91, 652 $ 91, 495 net cash used in investing activities $ ( 35, 523 ) $ ( 20, 298 ) net cash used in financing activities $ ( 61, 362 ) $ ( 69, 757 )\n",
      "\n",
      "fines and settlements, as well as costs associated with certain shared r & d activities. additionally, hedging gains ( losses ) related to revenue are included in corporate costs. as ai is critical to delivering our mission of bringing our breakthrough innovations into the real world, beginning in january 2023, we will update our segment reporting relating to certain of alphabet ’ s ai activities. deepmind, previously reported within other bets, will be reported as part of alphabet ’ s corporate costs, reflecting its increasing collaboration with google services, google cloud, and other bets. prior periods will be recast to conform to the revised presentation. our operating segments are not evaluated using asset information. the following table presents information about our segments ( in millions ) : year ended december 31, 2020 2021 2022 revenues : google services $ 168, 635 $ 237, 529 $ 253, 528 google cloud 13, 059 19, 206 26, 280 other bets 657 753 1, 068 hedging gains ( losses ) 176 149 1, 960\n",
      "\n"
     ]
    },
    {
     "name": "stderr",
     "output_type": "stream",
     "text": [
      "100%|██████████| 1/1 [00:00<00:00, 158.36it/s]\n",
      "100%|██████████| 5/5 [00:00<00:00, 179.19it/s]\n"
     ]
    },
    {
     "data": {
      "image/png": "[encoded data removed]",
      "text/plain": [
       "<Figure size 640x480 with 1 Axes>"
      ]
     },
     "metadata": {},
     "output_type": "display_data"
    }
   ],
   "source": [
    "query = \"What has Tom Brady done for us lately?\"\n",
    "results = chroma_collection.query(query_texts=query, n_results=5, include=['documents', 'embeddings'])\n",
    "\n",
    "retrieved_documents = results['documents'][0]\n",
    "\n",
    "for document in results['documents'][0]:\n",
    "    print(document)\n",
    "    print('')\n",
    "\n",
    "query_embedding = embedding_function([query])[0]\n",
    "retrieved_embeddings = results['embeddings'][0]\n",
    "\n",
    "projected_query_embedding = project_embeddings([query_embedding], umap_transform)\n",
    "projected_retrieved_embeddings = project_embeddings(retrieved_embeddings, umap_transform)\n",
    "\n",
    "plot(title=query, projected_dataset_embeddings=projected_dataset_embeddings, projected_query_embedding=[], projected_retrieved_embeddings=projected_retrieved_embeddings)"
   ]
  },
  {
   "cell_type": "markdown",
   "id": "04141a4c-b261-466f-8043-52637c6393eb",
   "metadata": {},
   "source": [
    "## Query augmentation"
   ]
  },
  {
   "cell_type": "markdown",
   "id": "69239dbe-56cc-475d-a895-0e776f85d399",
   "metadata": {},
   "source": [
    "One way of improving the results from queries is by getting more results of similar queries. This can be done either by creating similar queries or by sending an answer of what you might expect, so that you attach more context. In this task, you learn to expand your queries leveraging LLMs to do the heavy lifting."
   ]
  },
  {
   "cell_type": "code",
   "execution_count": 23,
   "id": "3732e4ab-e1d6-4242-9ffe-6dde4ea3358b",
   "metadata": {
    "tags": []
   },
   "outputs": [
    {
     "name": "stdout",
     "output_type": "stream",
     "text": [
      "Was there significant turnover in the executive team? ## Executive Team Turnover\n",
      "\n",
      "There was no significant turnover in the executive team during the fiscal year. The executive team remained stable, with all members continuing in their roles throughout the year. This continuity of leadership has been instrumental in driving the company's success and ensuring a smooth implementation of our strategic initiatives.\n",
      "\n",
      "For more details, please refer to the \"Management's Discussion and Analysis\" section of the annual report, which provides an overview of the executive team and their responsibilities. You can also find the bios of each executive team member in the \"Corporate Governance\" section of the report.\n"
     ]
    }
   ],
   "source": [
    "def augment_query_generated(query, model):\n",
    "    information = \"\\n\\n\".join(retrieved_documents)\n",
    "\n",
    "    prompt = (f'You are a helpful expert financial research assistant.\\n'\n",
    "    f'Provide an example answer to the given question, that might be found in a document like an annual report.\\n'\n",
    "    f'Question: {query}.')\n",
    "    \n",
    "    responses = model.generate_content(prompt, stream=False)\n",
    "    return responses.text\n",
    "\n",
    "original_query = \"Was there significant turnover in the executive team?\"\n",
    "hypothetical_answer = augment_query_generated(original_query, model)\n",
    "\n",
    "joint_query = f\"{original_query} {hypothetical_answer}\"\n",
    "print(joint_query)"
   ]
  },
  {
   "cell_type": "markdown",
   "id": "e0463817-8bd1-47b9-ba12-f3c8e7756bb5",
   "metadata": {},
   "source": [
    "Perform the query with the new augmented query.\n"
   ]
  },
  {
   "cell_type": "code",
   "execution_count": 24,
   "id": "59c93072-461d-432b-90e6-f5386e240dbd",
   "metadata": {
    "tags": []
   },
   "outputs": [
    {
     "name": "stdout",
     "output_type": "stream",
     "text": [
      "32 alphabet inc. ● annual report part ii item 7 management ’ s discussion and anal ysis of financial condition and results of operations sales and marketing the following table presents sales and marketing expenses ( in millions, except percentages ) : year ended december 31, 2021 2022 sales and marketing expenses $ 22, 912 $ 26, 567 sales and marketing expenses as a percentage of revenues 9 % 9 % sales and marketing expenses increased $ 3. 7 billion from 2021 to 2022, primarily driven by an increase in compensation expenses of $ 1. 8 billion, largely resulting from a 19 % increase in average headcount, and an increase in advertising and promotional activities of $ 1. 3 billion. general and administrative the following table presents general and administrative expenses ( in millions, except percentages ) : year ended december 31, 2021 2022 general and administrative expenses $ 13, 510 $ 15, 724 general and administrative expenses as a percentage of revenues 5 % 6 %\n",
      "\n",
      "41 alphabet inc. ● annual report part ii item 8 financial statements and supplementary data report of independent registered public accounting firm to the stockholders and the board of directors of alphabet inc. opinion on the financial statements we have audited the accompanying consolidated balance sheets of alphabet inc. ( the company ) as of december 31, 2021 and 2022, the related consolidated statements of income, comprehensive income, stockholders ’ equity and cash flows for each of the three years in the period ended december 31, 2022, and the related notes and financial statement schedule listed in the index at\n",
      "\n",
      "82 alphabet inc. ● annual report part ii item 9 changes in and disagreements with accountants on accounting and financial disclosure for revenues by geography see note 2. the following table presents long - lived assets by geographic area, which includes property and equipment, net and operating lease assets ( in millions ) : as of december 31, 2021 2022 long - lived assets : united states $ 80, 207 $ 93, 565 international 30, 351 33, 484 total long - lived assets $ 110, 558 $ 127, 049 note 16. subsequent e vent in january 2023, we announced a reduction of our workforce of approximately 12, 000 roles. we expect to incur employee severance and related charges of $ 1. 9 billion to $ 2. 3 billion, the majority of which will be recognized in the first quarter of 2023. in addition, we are taking actions to optimize our global office space. as a result we expect to incur exit costs relating to office space\n",
      "\n",
      "item 15 ( collectively referred to as the “ consolidated financial statements ” ). in our opinion, the consolidated financial statements present fairly, in all material respects, the financial position of the company at december 31, 2021 and 2022, and the results of its operations and its cash flows for each of the three years in the period ended december 31, 2022, in conformity with u. s. generally accepted accounting principles. we also have audited, in accordance with the standards of the public company accounting oversight board ( united states ) ( pcaob ), the company ’ s internal control over financial reporting as of december 31, 2022, based on criteria established in internal control — integrated framework issued by the committee of sponsoring organizations of the treadway commission ( 2013 framework ), and our report dated february 2, 2023 expressed an unqualified opinion thereon. basis for opinion\n",
      "\n",
      "our management is responsible for establishing and maintaining adequate internal control over financial reporting, as defined in rule 13a - 15 ( f ) of the exchange act. our management conducted an evaluation of the effectiveness of our internal control over financial reporting based on the framework in internal control — integrated framework issued by the committee of sponsoring organizations of the treadway commission ( 2013 framework ). based on this evaluation, management concluded that our internal control over financial reporting was effective as of december 31, 2022. management reviewed the results of its assessment with our audit and compliance committee. the effectiveness of our internal control over financial reporting as of december 31, 2022 has been audited by ernst & young llp, an independent registered public accounting firm, as stated in its report which is included in item 8 of this annual report on form 10 - k. limitations on effectiveness of controls and procedures\n",
      "\n"
     ]
    }
   ],
   "source": [
    "results = chroma_collection.query(query_texts=joint_query, n_results=5, include=['documents', 'embeddings'])\n",
    "retrieved_documents = results['documents'][0]\n",
    "\n",
    "for doc in retrieved_documents:\n",
    "    print(doc)\n",
    "    print('')"
   ]
  },
  {
   "cell_type": "code",
   "execution_count": 25,
   "id": "9a36f977-cee7-4c16-9379-f853dc04651b",
   "metadata": {
    "tags": []
   },
   "outputs": [
    {
     "name": "stderr",
     "output_type": "stream",
     "text": [
      "100%|██████████| 1/1 [00:00<00:00, 96.66it/s]\n",
      "100%|██████████| 1/1 [00:00<00:00, 128.82it/s]\n",
      "100%|██████████| 5/5 [00:00<00:00, 154.53it/s]\n"
     ]
    }
   ],
   "source": [
    "retrieved_embeddings = results['embeddings'][0]\n",
    "original_query_embedding = embedding_function([original_query])\n",
    "augmented_query_embedding = embedding_function([joint_query])\n",
    "\n",
    "projected_original_query_embedding = project_embeddings(original_query_embedding, umap_transform)\n",
    "projected_augmented_query_embedding = project_embeddings(augmented_query_embedding, umap_transform)\n",
    "projected_retrieved_embeddings = project_embeddings(retrieved_embeddings, umap_transform)"
   ]
  },
  {
   "cell_type": "code",
   "execution_count": 26,
   "id": "3fec87da-084d-4b32-bc63-5786da8da717",
   "metadata": {
    "tags": []
   },
   "outputs": [
    {
     "data": {
      "text/plain": [
       "(-1.4102312833070756, 8.613915792107582, 1.0237262845039368, 8.612713277339935)"
      ]
     },
     "execution_count": 26,
     "metadata": {},
     "output_type": "execute_result"
    },
    {
     "data": {
      "image/png": "[encoded data removed]",
      "text/plain": [
       "<Figure size 640x480 with 1 Axes>"
      ]
     },
     "metadata": {},
     "output_type": "display_data"
    }
   ],
   "source": [
    "plt.figure()\n",
    "plt.scatter(projected_dataset_embeddings[:, 0], projected_dataset_embeddings[:, 1], s=10, color='gray')\n",
    "plt.scatter(projected_retrieved_embeddings[:, 0], projected_retrieved_embeddings[:, 1], s=100, facecolors='none', edgecolors='g')\n",
    "plt.scatter(projected_original_query_embedding[:, 0], projected_original_query_embedding[:, 1], s=150, marker='X', color='r')\n",
    "plt.scatter(projected_augmented_query_embedding[:, 0], projected_augmented_query_embedding[:, 1], s=150, marker='X', color='orange')\n",
    "\n",
    "plt.gca().set_aspect('equal', 'datalim')\n",
    "plt.title(f'{original_query}')\n",
    "plt.axis('off')"
   ]
  },
  {
   "cell_type": "markdown",
   "id": "30a08812-1549-4a64-b72b-3c36943ac717",
   "metadata": {},
   "source": [
    "Augment the query with a additional queries.\n"
   ]
  },
  {
   "cell_type": "code",
   "execution_count": 27,
   "id": "29494b28-d91e-451d-a411-8abdd66ee463",
   "metadata": {
    "tags": []
   },
   "outputs": [
    {
     "name": "stdout",
     "output_type": "stream",
     "text": [
      "What were the most important factors that contributed to increases in revenue? \n",
      "How did the company's pricing strategy affect revenue?\n",
      "What role did new product launches play in driving revenue growth?\n",
      "Did changes in market share contribute to increased revenue?\n",
      "How did acquisitions or divestitures impact revenue? \n",
      "What was the impact of foreign exchange fluctuations on revenue?\n"
     ]
    }
   ],
   "source": [
    "def augment_multiple_query(query, model):\n",
    "    information = \"\\n\\n\".join(retrieved_documents)\n",
    "\n",
    "    prompt = (f'You are a helpful expert financial research assistant.\\n'\n",
    "    f'Your users are asking questions about an annual report.\\n'\n",
    "    f'Suggest up to five additional related questions to help them find the information they need, for the provided question.\\n'\n",
    "    f'Suggest only short questions without compound sentences. Suggest a variety of questions that cover different aspects of the topic.\\n'\n",
    "    f'Make sure they are complete questions, and that they are related to the original question.\\n'\n",
    "    f'Output one question per line. Do not number the questions.\\n'\n",
    "    f'Question: {query}.')\n",
    "    \n",
    "    responses = model.generate_content(prompt, stream=False)\n",
    "    return responses.text\n",
    "\n",
    "original_query = \"What were the most important factors that contributed to increases in revenue?\"\n",
    "augmented_queries = augment_multiple_query(original_query, model)\n",
    "\n",
    "joint_query = f\"{original_query} \\n{augmented_queries}\"\n",
    "print(joint_query)"
   ]
  },
  {
   "cell_type": "markdown",
   "id": "8489fa75-5993-4f68-880c-80b21c8428a4",
   "metadata": {},
   "source": [
    "Retrieve answers for all of these queries.\n"
   ]
  },
  {
   "cell_type": "code",
   "execution_count": 28,
   "id": "3e6fe269-407a-437d-81b9-d425c75b8649",
   "metadata": {
    "tags": []
   },
   "outputs": [
    {
     "name": "stdout",
     "output_type": "stream",
     "text": [
      "Query: What were the most important factors that contributed to increases in revenue?\n",
      "\n",
      "Results:\n",
      ". due to these factors and the evolving nature of our business, our historical revenue growth rate and historical operating margin may not be indicative of our future performance. for additional information, see trends in our business and financial effect and revenues and monetization metrics in part ii, item 7 of this annual report on form 10 - k.\n",
      "\n",
      "our revenue growth rate could decline over time, and we anticipate downward pressure on our operating margin in the future. our revenue growth rate could decline over time as a result of a number of factors, including changes in the devices and modalities used to access our products and services ; changes in geographic mix ; deceleration or declines in advertiser spending ; competition ; customer usage and demand for our products ; decreases in our pricing of our products and services ; ongoing product and policy changes ; and shifts to lower priced products and services. in addition, we may also experience downward pressure on our operating margin resulting from a variety of factors, such as the\n",
      "\n",
      "in addition to the long - term trends and their financial effect on our business noted above, fluctuations in our revenues have been and may continue to be affected by a combination of factors, including : zchanges in foreign currency exchange rates ; zchanges in pricing, such as those resulting from changes in fee structures, discounts, and customer incentives ; zgeneral economic conditions and various external dynamics, including geopolitical events, regulations, and other measures and their effect on advertiser, consumer, and enterprise spending ; znew product and service launches ; and zseasonality. additionally, fluctuations in our revenues generated from advertising ( “ google advertising ” ), revenues from other sources ( “ google other revenues ” ), google cloud, and other bets revenues have been and may continue to be affected by other factors unique to each set of revenues, as described below.\n",
      "\n",
      "( 1 ) see “ use of non - gaap constant currency measures ” below for details relating to our use of constant currency information. zrevenues were $ 282. 8 billion, an increase of 10 % year over year, primarily driven by an increase in google services revenues of $ 16. 0 billion, or 7 %, and an increase in google cloud revenues of $ 7. 1 billion, or 37 %. ztotal constant currency revenues, which exclude the effect of hedging, increased 14 % year over year. zcost of revenues was $ 126. 2 billion, an increase of 14 % year over year, primarily driven by an increase in other costs of revenues. zoperating expenses were $ 81. 8 billion, an increase of 20 % year over year, primarily driven by increases in compensation expenses due to headcount growth, third - party service fees, and advertising and promotional expenses. other information :\n",
      "\n",
      "zour employees are critical to our success and we expect to continue investing in them. our employees are among our best assets and are critical for our continued success. we expect to continue hiring talented employees around the globe and to provide competitive compensation programs. for additional information see culture and workforce in part i, item 1 “ business. ” revenues and monetization metrics we generate revenues by delivering relevant, cost - effective online advertising ; cloud - based solutions that provide enterprise customers of all sizes with infrastructure and platform services as well as communication and collaboration tools ; sales of other products and services, such as apps and in - app purchases, and hardware ; and fees received for subscription - based products. for details on how we recognize revenue, see note 1 of the notes to consolidated financial statements included in item 8 of this annual report on form 10 - k.\n",
      "\n",
      "----------------------------------------------------------------------------------------------------\n",
      "Query: How did the company's pricing strategy affect revenue?\n",
      "\n",
      "Results:\n",
      "32 alphabet inc. ● annual report part ii item 7 management ’ s discussion and anal ysis of financial condition and results of operations sales and marketing the following table presents sales and marketing expenses ( in millions, except percentages ) : year ended december 31, 2021 2022 sales and marketing expenses $ 22, 912 $ 26, 567 sales and marketing expenses as a percentage of revenues 9 % 9 % sales and marketing expenses increased $ 3. 7 billion from 2021 to 2022, primarily driven by an increase in compensation expenses of $ 1. 8 billion, largely resulting from a 19 % increase in average headcount, and an increase in advertising and promotional activities of $ 1. 3 billion. general and administrative the following table presents general and administrative expenses ( in millions, except percentages ) : year ended december 31, 2021 2022 general and administrative expenses $ 13, 510 $ 15, 724 general and administrative expenses as a percentage of revenues 5 % 6 %\n",
      "\n",
      "we report revenues from google play app sales and in - app purchases on a net basis, because our performance obligation is to facilitate a transaction between app developers and end users, for which we earn a service fee. arrangements with multiple performance obligations our contracts with customers may include multiple performance obligations. for such arrangements, we allocate revenues to each performance obligation based on its relative standalone selling price. we generally determine standalone selling prices based on the prices charged to customers. customer incentives and credits certain customers receive cash - based incentives or credits, which are accounted for as variable consideration. we estimate these amounts based on the expected amount to be provided to customers and reduce revenues. we believe that there will not be significant changes to our estimates of variable consideration. sales commissions\n",
      "\n",
      "general and administrative expenses increased $ 2. 2 billion from 2021 to 2022. the increase was primarily driven by an increase in compensation expenses of $ 1. 1 billion, largely resulting from a 21 % increase in average headcount, and an increase in third - party services fees of $ 815 million. in addition, there was a $ 551 million increase to the allowance for credit losses for accounts receivable, as the prior year comparable period reflected a decline in the allowance. segment profitability the following table presents segment operating income ( loss ) ( in millions ). year ended december 31, 2021 2022 operating income ( loss ) : google services $ 91, 855 $ 86, 572 google cloud ( 3, 099 ) ( 2, 968 ) other bets ( 5, 281 ) ( 6, 083 ) corporate costs, unallocated ( 1 ) ( 4, 761 ) ( 2, 679 ) total income from operations $ 78, 714 $ 74, 842 ( 1 ) unallocated corporate costs primarily include corporate initiatives, corporate shared costs, such as finance and legal, including certain fines and\n",
      "\n",
      "continued expansion of our business into new fields, including products and services such as hardware, google cloud, and subscription products, as well as significant investments in other bets, all of which may have margins lower than those we generate from advertising. in particular, margins on our hardware products have had, and may continue to have, an adverse affect on our consolidated margins due to pressures on pricing and higher cost of sales. we may also experience downward pressure on our operating margins from increasing regulations, increasing competition, and increasing costs for many aspects of our business. further, certain of our costs and expenses are generally less variable in nature and may not correlate to changes in revenue. additionally, in conjunction with our efforts to re - engineer costs, we may not be able to execute these efforts in a timely manner or these efforts may not be successful\n",
      "\n",
      "non - advertising revenues have grown over time, and we expect this trend to continue as we focus on expanding our products and services. the margins on these revenues vary significantly and are generally lower than the margins on our advertising revenues. in particular margins on our hardware products adversely affect our consolidated margins due to pressures on pricing and higher cost of sales. zas we continue to serve our users and expand our businesses, we will invest heavily in operating and capital expenditures.\n",
      "\n",
      "----------------------------------------------------------------------------------------------------\n",
      "Query: What role did new product launches play in driving revenue growth?\n",
      "\n",
      "Results:\n",
      "needs, and frequent introductions of rival products and services. to compete successfully, we must accurately anticipate technology developments and deliver innovative, relevant and useful products, services, and technologies in a timely manner. as our businesses evolve, the competitive pressure to innovate will encompass a wider range of products and services. we must continue to invest significant resources in r & d, including through acquisitions, in order to enhance our technology and new and existing products and services. we have many competitors in different industries. our current and potential domestic and international competitors range from large and established companies to emerging start - ups. some competitors have longer operating histories and well established relationships in various sectors. they can use their experience and resources in ways that could affect our competitive position,\n",
      "\n",
      "our revenue growth rate could decline over time, and we anticipate downward pressure on our operating margin in the future. our revenue growth rate could decline over time as a result of a number of factors, including changes in the devices and modalities used to access our products and services ; changes in geographic mix ; deceleration or declines in advertiser spending ; competition ; customer usage and demand for our products ; decreases in our pricing of our products and services ; ongoing product and policy changes ; and shifts to lower priced products and services. in addition, we may also experience downward pressure on our operating margin resulting from a variety of factors, such as the\n",
      "\n",
      "develop, competitors and new entrants may be able to offer experiences that are, or that are seen to be, substantially similar to or better than ours. these technologies could reduce usage of our products and services, and force us to compete in different ways and expend significant resources to develop and operate equal or better products and services. competitors ’ success in providing compelling products and services or in attracting and retaining users, advertisers, publishers, customers, and content providers could harm our financial condition and operating results. our ongoing investment in new businesses, products, services, and technologies is inherently risky, and could divert management attention and harm our business, financial condition, and operating results. we have invested and expect to continue to invest in new businesses, products, services, and technologies. the investments that we\n",
      "\n",
      ". due to these factors and the evolving nature of our business, our historical revenue growth rate and historical operating margin may not be indicative of our future performance. for additional information, see trends in our business and financial effect and revenues and monetization metrics in part ii, item 7 of this annual report on form 10 - k.\n",
      "\n",
      "including by making acquisitions, continuing to invest heavily in r & d and in talent, initiating intellectual property and competition claims ( whether or not meritorious ), and continuing to compete for users, advertisers, customers, and content providers. further, discrepancies in enforcement of existing laws may enable our lesser known competitors to aggressively interpret those laws without commensurate scrutiny, thereby affording them competitive advantages. our competitors may also be able to innovate and provide products and services faster than we can or may foresee the need for products and services before us. our financial condition and operating results may also suffer if our products and services are not responsive to the evolving needs and desires of our users, advertisers, publishers, customers, and content providers. as new and existing technologies continue to\n",
      "\n",
      "----------------------------------------------------------------------------------------------------\n",
      "Query: Did changes in market share contribute to increased revenue?\n",
      "\n",
      "Results:\n",
      "in addition to the long - term trends and their financial effect on our business noted above, fluctuations in our revenues have been and may continue to be affected by a combination of factors, including : zchanges in foreign currency exchange rates ; zchanges in pricing, such as those resulting from changes in fee structures, discounts, and customer incentives ; zgeneral economic conditions and various external dynamics, including geopolitical events, regulations, and other measures and their effect on advertiser, consumer, and enterprise spending ; znew product and service launches ; and zseasonality. additionally, fluctuations in our revenues generated from advertising ( “ google advertising ” ), revenues from other sources ( “ google other revenues ” ), google cloud, and other bets revenues have been and may continue to be affected by other factors unique to each set of revenues, as described below.\n",
      "\n",
      ". due to these factors and the evolving nature of our business, our historical revenue growth rate and historical operating margin may not be indicative of our future performance. for additional information, see trends in our business and financial effect and revenues and monetization metrics in part ii, item 7 of this annual report on form 10 - k.\n",
      "\n",
      "google other revenues increased $ 1. 0 billion from 2021 to 2022 primarily driven by growth in youtube non - advertising and hardware revenues, partially offset by a decrease in google play revenues. the growth in youtube non - advertising was largely due to an increase in paid subscribers. the growth in hardware was primarily driven by increased sales of pixel devices. the decrease in google play revenues was primarily driven by the fee structure changes we announced in 2021 as well as a decrease in buyer spending. additionally, the overall increase in google other revenues was adversely affected by the unfavorable effect of foreign currency exchange rates.\n",
      "\n",
      "non - advertising revenues have grown over time, and we expect this trend to continue as we focus on expanding our products and services. the margins on these revenues vary significantly and are generally lower than the margins on our advertising revenues. in particular margins on our hardware products adversely affect our consolidated margins due to pressures on pricing and higher cost of sales. zas we continue to serve our users and expand our businesses, we will invest heavily in operating and capital expenditures.\n",
      "\n",
      "adjusted to reflect the effects of the stock split. revenue recognition revenues are recognized when control of the promised goods or services is transferred to our customers, and the collectibility of an amount that we expect in exchange for those goods or services is probable. sales and other similar taxes are excluded from revenues. advertising revenues we generate advertising revenues primarily by delivering advertising on : zgoogle search and other properties, including revenues from traffic generated by search distribution partners who use google. com as their default search in browsers, toolbars, etc. and other google owned and operated properties like gmail, google maps, and google play ; zyoutube properties ; and zgoogle network properties, including revenues from google network properties participating in admob, adsense, and google ad manager.\n",
      "\n",
      "----------------------------------------------------------------------------------------------------\n",
      "Query: How did acquisitions or divestitures impact revenue? \n",
      "\n",
      "Results:\n",
      "will be sustained upon examination. the tax benefits of the position recognized in the financial statements are then measured based on the largest amount of benefit that is greater than 50 % likely to be realized upon settlement with a taxing authority. in addition, we recognize interest and penalties related to unrecognized tax benefits as a component of the income tax provision. business combinations we include the results of operations of the businesses that we acquire as of the acquisition date. we allocate the purchase price of the acquisitions to the assets acquired and liabilities assumed based on their estimated fair values, except for revenue contracts acquired, which are recognized in accordance with our revenue recognition policy. the excess of the purchase price over the fair values of identifiable assets and liabilities is recorded as goodwill. acquisition - related expenses are recognized separately from the business combination and are expensed as incurred.\n",
      "\n",
      "our operating results have fluctuated, and may in the future fluctuate, as a result of a number of factors, many outside of our control, including the cyclicality and seasonality in our business and geopolitical events. as a result, comparing our operating results ( including our expenses as a percentage of our revenues ) on a period - to - period basis may not be meaningful, and our past results should not be relied on as an indication of our future performance. consequently, our operating results in future quarters may fall below expectations. acquisitions, joint ventures, investments, and divestitures could result in operating difficulties, dilution, and other consequences that could harm our business, financial condition, and operating results. acquisitions, joint ventures, investments, and divestitures are important elements of our overall corporate strategy and use of capital,\n",
      "\n",
      "48 alphabet inc. ● annual report part ii item 8 financial statements and supplementary data alphabet inc. consolidated statements of cash flows ( in millions ) year ended december 31, 2020 2021 2022 operating activities net income $ 40, 269 $ 76, 033 $ 59, 972 adjustments : depreciation and impairment of property and equipment 12, 905 11, 555 15, 287 amortization and impairment of intangible assets 792 886 641 stock - based compensation expense 12, 991 15, 376 19, 362 deferred income taxes 1, 390 1, 808 ( 8, 081 ) ( gain ) loss on debt and equity securities, net ( 6, 317 ) ( 12, 270 ) 5, 519 other 1, 267 ( 213 ) 1, 030 changes in assets and liabilities, net of effects of acquisitions : accounts receivable, net ( 6, 524 ) ( 9, 095 ) ( 2, 317 ) income taxes, net 1, 209 ( 625 ) 584 other assets ( 1, 330 ) ( 1, 846 ) ( 5, 046 ) accounts payable 694 283 707 accrued expenses and other liabilities 5, 504 7, 304 3, 915\n",
      "\n",
      "retention of employees ) and further develop the acquired business or technology ; zimplementation or remediation of controls, procedures, and policies at the acquired company ; zintegration of the acquired company ’ s accounting and other administrative systems, and the coordination of product, engineering, and sales and marketing functions ; ztransition of operations, users, and customers onto our existing platforms ; zin the case of foreign acquisitions, the need to integrate operations across different cultures and languages and to address the particular economic, currency, political, and regulatory risks associated with specific countries ; zfailure to accomplish commercial, strategic or financial objectives with respect to investments and joint ventures ; zfailure to realize the value of investments and joint ventures due to a lack of liquidity ;\n",
      "\n",
      "on september 12, 2022 we closed the acquisition of mandiant for a total purchase price of $ 6. 1 billion, including cash and debt. the purchase price excludes post acquisition compensation arrangements. mandiant ’ s dynamic cyber defense, threat intelligence and incident response services are expected to enhance google cloud ’ s security offerings. the financial results of mandiant have been included within the google cloud segment as of the close of the acquisition. the purchase price was allocated as follows ( in millions ) : intangible assets $ 840 goodwill ( 1 ) 4, 772 net assets acquired ( 2 ) 489 total purchase price $ 6, 101 ( 1 ) goodwill was recorded in the google cloud segment and primarily attributable to synergies expected to arise after the acquisition. goodwill is not deductible for tax purposes. ( 2 ) includes $ 706 million of acquired cash. intangible assets acquired as of the acquisition date were as follows : amount ( in millions ) weighted - average useful life ( in years )\n",
      "\n",
      "----------------------------------------------------------------------------------------------------\n",
      "Query: What was the impact of foreign exchange fluctuations on revenue?\n",
      "\n",
      "Results:\n",
      "31 alphabet inc. ● annual report part ii item 7 management ’ s discussion and anal ysis of financial condition and results of operations the following table presents the foreign exchange effect on international revenues and total revenues ( in millions, except percentages ) : year ended december 31, 2022 % change from prior period year ended december 31, less fx effectconstant currency revenuesas reportedless hedging effectless fx effectconstant currency revenues 2021 2022 united states $ 117, 854 $ 134, 814 $ 0 $ 134, 814 14 % 0 % 14 % emea 79, 107 82, 062 ( 8, 979 ) 91, 041 4 % ( 11 ) % 15 % apac 46, 123 47, 024 ( 3, 915 ) 50, 939 2 % ( 8 ) % 10 % other americas 14, 404 16, 976 ( 430 ) 17, 406 18 % ( 3 ) % 21 % revenues, excluding hedging effect 257, 488 280, 876 ( 13, 324 ) 294, 200 9 % ( 5 ) % 14 % hedging gains ( losses ) 149 1, 960 total revenues ( 1 ) $ 257, 637 $ 282, 836 $ 294, 200 10\n",
      "\n",
      "( 1 ) t otal constant currency revenues of $ 294. 2 billion for 2022 increased $ 36. 7 billion compared to $ 257. 5 billion in revenues, excluding hedging effect for 2021. emea revenue growth was unfavorably affected by changes in foreign currency exchange rates, primarily due to the u. s. dollar strengthening relative to the euro and the british pound. apac revenue growth was unfavorably affected by changes in foreign currency exchange rates, primarily due to the u. s. dollar strengthening relative to the japanese yen and the australian dollar. other americas growth was unfavorably affected by changes in foreign currency exchange rates, primarily due to the u. s. dollar strengthening relative to the argentine peso. costs and expenses cost of revenues the following table presents cost of revenues, including tac ( in millions, except percentages ) : year ended december 31, 2021 2022 tac $ 45, 566 $ 48, 955 other cost of revenues 65, 373 77, 248 total cost of revenues $ 110, 939 $ 126, 203\n",
      "\n",
      "constant currency information compares results between periods as if exchange rates had remained constant period over period. we define constant currency revenues as revenues excluding the effect of foreign exchange rate movements ( “ fx effect ” ) as well as hedging activities, which are recognized at the consolidated level. we use constant currency revenues to determine the constant currency revenue percentage change on a year - on - year basis. constant currency revenues are calculated by translating current period revenues using prior year comparable period exchange rates, as well as excluding any hedging effects realized in the current period. constant currency revenue percentage change is calculated by determining the change in current period revenues over prior year comparable period revenues where current period foreign currency revenues are translated using prior year comparable period exchange rates and hedging effects are excluded from revenues of both periods.\n",
      "\n",
      "zour expectation that our monetization trends will fluctuate, which could affect our revenues and margins ; zfluctuations in our revenues, as well as the change in paid clicks and cost - per - click and the change in impressions and cost - per - impression, and various factors contributing to such fluctuations ; zour expectation that we will continue to periodically review, refine, and update our methodologies for monitoring, gathering, and counting the number of paid clicks and impressions ; zour expectation that our results will be affected by our performance in international markets as users in developing economies increasingly come online ; zour expectation that our foreign exchange risk management program will not fully offset our net exposure to fluctuations in foreign currency exchange rates ; zthe expected variability of gains and losses related to hedging activities under our foreign exchange risk management program ; zthe amount and timing of revenue recognition from\n",
      "\n",
      "in addition to the long - term trends and their financial effect on our business noted above, fluctuations in our revenues have been and may continue to be affected by a combination of factors, including : zchanges in foreign currency exchange rates ; zchanges in pricing, such as those resulting from changes in fee structures, discounts, and customer incentives ; zgeneral economic conditions and various external dynamics, including geopolitical events, regulations, and other measures and their effect on advertiser, consumer, and enterprise spending ; znew product and service launches ; and zseasonality. additionally, fluctuations in our revenues generated from advertising ( “ google advertising ” ), revenues from other sources ( “ google other revenues ” ), google cloud, and other bets revenues have been and may continue to be affected by other factors unique to each set of revenues, as described below.\n",
      "\n",
      "----------------------------------------------------------------------------------------------------\n"
     ]
    }
   ],
   "source": [
    "queries = [original_query] + augmented_queries.split('\\n')\n",
    "results = chroma_collection.query(query_texts=queries, n_results=5, include=['documents', 'embeddings'])\n",
    "\n",
    "retrieved_documents = results['documents']\n",
    "\n",
    "# Deduplicate the retrieved documents\n",
    "unique_documents = set()\n",
    "for documents in retrieved_documents:\n",
    "    for document in documents:\n",
    "        unique_documents.add(document)\n",
    "\n",
    "for i, documents in enumerate(retrieved_documents):\n",
    "    print(f\"Query: {queries[i]}\")\n",
    "    print('')\n",
    "    print(\"Results:\")\n",
    "    for doc in documents:\n",
    "        print(doc)\n",
    "        print('')\n",
    "    print('-'*100)"
   ]
  },
  {
   "cell_type": "markdown",
   "id": "673ff3a5-e29d-41b4-9742-45c792f68ebd",
   "metadata": {
    "tags": []
   },
   "source": [
    "Project the queries embeddings into a 2-dimensional space.\n"
   ]
  },
  {
   "cell_type": "code",
   "execution_count": 30,
   "id": "b28f3346-3f92-41c3-9824-f191a003eff6",
   "metadata": {
    "tags": []
   },
   "outputs": [
    {
     "name": "stderr",
     "output_type": "stream",
     "text": [
      "100%|██████████| 1/1 [00:00<00:00, 75.18it/s]\n",
      "100%|██████████| 301/301 [00:01<00:00, 186.23it/s]\n"
     ]
    }
   ],
   "source": [
    "original_query_embedding = embedding_function([original_query])\n",
    "augmented_query_embeddings = embedding_function(augmented_queries)\n",
    "\n",
    "project_original_query = project_embeddings(original_query_embedding, umap_transform)\n",
    "project_augmented_queries = project_embeddings(augmented_query_embeddings, umap_transform)"
   ]
  },
  {
   "cell_type": "markdown",
   "id": "dff6d812-7e14-42ae-af00-06acddc37576",
   "metadata": {
    "tags": []
   },
   "source": [
    "Project the answer embeddings into a 2-dimensional space.\n"
   ]
  },
  {
   "cell_type": "code",
   "execution_count": 32,
   "id": "5248aa67-4659-4c8b-8c19-ec41174fdffb",
   "metadata": {
    "tags": []
   },
   "outputs": [
    {
     "name": "stderr",
     "output_type": "stream",
     "text": [
      "100%|██████████| 30/30 [00:00<00:00, 169.72it/s]\n"
     ]
    }
   ],
   "source": [
    "result_embeddings = results['embeddings']\n",
    "result_embeddings = [item for sublist in result_embeddings for item in sublist]\n",
    "projected_result_embeddings = project_embeddings(result_embeddings, umap_transform)"
   ]
  },
  {
   "cell_type": "markdown",
   "id": "733bde94-53f6-472a-870d-cd6d08850581",
   "metadata": {
    "tags": []
   },
   "source": [
    "Plot the queries and answers to visualize their representation in space.\n"
   ]
  },
  {
   "cell_type": "code",
   "execution_count": 34,
   "id": "8b296ecf-5f87-49d3-a3d2-98b1c5df1d53",
   "metadata": {
    "tags": []
   },
   "outputs": [
    {
     "data": {
      "text/plain": [
       "(-1.4102312833070756, 8.613915792107582, 1.0237262845039368, 8.612713277339935)"
      ]
     },
     "execution_count": 34,
     "metadata": {},
     "output_type": "execute_result"
    },
    {
     "data": {
      "image/png": "[encoded data removed]",
      "text/plain": [
       "<Figure size 640x480 with 1 Axes>"
      ]
     },
     "metadata": {},
     "output_type": "display_data"
    }
   ],
   "source": [
    "import matplotlib.pyplot as plt\n",
    "\n",
    "plt.figure()\n",
    "plt.scatter(projected_dataset_embeddings[:, 0], projected_dataset_embeddings[:, 1], s=10, color='gray')\n",
    "plt.scatter(project_augmented_queries[:, 0], project_augmented_queries[:, 1], s=150, marker='X', color='orange')\n",
    "plt.scatter(projected_result_embeddings[:, 0], projected_result_embeddings[:, 1], s=100, facecolors='none', edgecolors='g')\n",
    "plt.scatter(project_original_query[:, 0], project_original_query[:, 1], s=150, marker='X', color='r')\n",
    "\n",
    "plt.gca().set_aspect('equal', 'datalim')\n",
    "plt.title(f'{original_query}')\n",
    "plt.axis('off')"
   ]
  },
  {
   "cell_type": "markdown",
   "id": "487691c4-0856-491d-8a56-87fc55df2837",
   "metadata": {
    "tags": []
   },
   "source": [
    "## Re-ranking results"
   ]
  },
  {
   "cell_type": "markdown",
   "id": "c6ec8edc-cf83-4ed9-ba98-fae4b8b9f140",
   "metadata": {},
   "source": [
    "With the query expansion technique that we just discussed, we increased the cardinality of responses. We have a new problem now. The high amount of responses might be larges than the LLM's input token limit and, it will be more expensive to process such a high amount of tokens, since we are billed per token. One solution to this problem is to rerank the results and only send the most relevant ones. Now, instead of using the same cosine-similarity method as before, you could use a cross-encoder, a method that usually yields better results."
   ]
  },
  {
   "cell_type": "code",
   "execution_count": 36,
   "id": "485641f3-b34a-461e-a5c2-b8208ca7bd8f",
   "metadata": {
    "tags": []
   },
   "outputs": [
    {
     "data": {
      "application/vnd.jupyter.widget-view+json": {
       "model_id": "d5021d29ea5247e2ae31fa4925dda9a7",
       "version_major": 2,
       "version_minor": 0
      },
      "text/plain": [
       "config.json:   0%|          | 0.00/794 [00:00<?, ?B/s]"
      ]
     },
     "metadata": {},
     "output_type": "display_data"
    },
    {
     "data": {
      "application/vnd.jupyter.widget-view+json": {
       "model_id": "4709871fcff744adaed3e3c8d51f592d",
       "version_major": 2,
       "version_minor": 0
      },
      "text/plain": [
       "pytorch_model.bin:   0%|          | 0.00/90.9M [00:00<?, ?B/s]"
      ]
     },
     "metadata": {},
     "output_type": "display_data"
    },
    {
     "data": {
      "application/vnd.jupyter.widget-view+json": {
       "model_id": "5280801d18ed4360b99dcb9e4210f023",
       "version_major": 2,
       "version_minor": 0
      },
      "text/plain": [
       "tokenizer_config.json:   0%|          | 0.00/316 [00:00<?, ?B/s]"
      ]
     },
     "metadata": {},
     "output_type": "display_data"
    },
    {
     "data": {
      "application/vnd.jupyter.widget-view+json": {
       "model_id": "177e513a7a2041ab86762562e53e38a6",
       "version_major": 2,
       "version_minor": 0
      },
      "text/plain": [
       "vocab.txt:   0%|          | 0.00/232k [00:00<?, ?B/s]"
      ]
     },
     "metadata": {},
     "output_type": "display_data"
    },
    {
     "data": {
      "application/vnd.jupyter.widget-view+json": {
       "model_id": "3728dd01b8f34f6e91408139595823fb",
       "version_major": 2,
       "version_minor": 0
      },
      "text/plain": [
       "special_tokens_map.json:   0%|          | 0.00/112 [00:00<?, ?B/s]"
      ]
     },
     "metadata": {},
     "output_type": "display_data"
    }
   ],
   "source": [
    "from sentence_transformers import CrossEncoder\n",
    "cross_encoder = CrossEncoder('cross-encoder/ms-marco-MiniLM-L-6-v2')"
   ]
  },
  {
   "cell_type": "markdown",
   "id": "40c164c6-01d6-4e85-9521-e631d4b62740",
   "metadata": {},
   "source": [
    "Create unique pairs of query to document.\n"
   ]
  },
  {
   "cell_type": "code",
   "execution_count": 37,
   "id": "6a919cd5-924e-4cb4-9ba9-9acb664ae5b3",
   "metadata": {
    "tags": []
   },
   "outputs": [],
   "source": [
    "pairs = []\n",
    "for doc in unique_documents:\n",
    "    pairs.append([original_query, doc])"
   ]
  },
  {
   "cell_type": "markdown",
   "id": "4b912845-42e6-46c2-9131-99d9af6a65fb",
   "metadata": {
    "tags": []
   },
   "source": [
    "Compute an print the similarity between the pairs."
   ]
  },
  {
   "cell_type": "code",
   "execution_count": 39,
   "id": "80dca77f-99ad-4a5c-b2b5-d0ad94791eee",
   "metadata": {
    "tags": []
   },
   "outputs": [
    {
     "name": "stdout",
     "output_type": "stream",
     "text": [
      "Scores:\n",
      "0.4199409\n",
      "-9.594553\n",
      "-7.6591444\n",
      "-4.737796\n",
      "-10.999705\n",
      "-5.3730783\n",
      "-7.320813\n",
      "-11.038466\n",
      "-6.0731077\n",
      "-10.157861\n",
      "-8.229429\n",
      "-11.080077\n",
      "-2.2096562\n",
      "-4.349068\n",
      "-10.22899\n",
      "-10.009102\n",
      "-5.3221684\n",
      "-2.96743\n",
      "-11.144753\n",
      "-10.323975\n",
      "-5.3835382\n",
      "1.3391347\n",
      "-11.062307\n",
      "-10.957918\n"
     ]
    }
   ],
   "source": [
    "scores = cross_encoder.predict(pairs)\n",
    "\n",
    "print(\"Scores:\")\n",
    "for score in scores:\n",
    "    print(score)"
   ]
  },
  {
   "cell_type": "code",
   "execution_count": 40,
   "id": "327f56aa-50c4-4eee-9fc2-1fcbc4490603",
   "metadata": {
    "tags": []
   },
   "outputs": [
    {
     "name": "stdout",
     "output_type": "stream",
     "text": [
      "New Ordering:\n",
      "21\n",
      "0\n",
      "12\n",
      "17\n",
      "13\n",
      "3\n",
      "16\n",
      "5\n",
      "20\n",
      "8\n",
      "6\n",
      "2\n",
      "10\n",
      "1\n",
      "15\n",
      "9\n",
      "14\n",
      "19\n",
      "23\n",
      "4\n",
      "7\n",
      "22\n",
      "11\n",
      "18\n"
     ]
    }
   ],
   "source": [
    "print(\"New Ordering:\")\n",
    "ranked_docs=['']*len(scores)\n",
    "i = 0\n",
    "for position in np.argsort(scores)[::-1]:\n",
    "    ranked_docs[position] = pairs[i][1]\n",
    "    i+=1\n",
    "    print(position)"
   ]
  },
  {
   "cell_type": "code",
   "execution_count": 41,
   "id": "6af76295-d954-4594-9464-9a33cd87636f",
   "metadata": {
    "tags": []
   },
   "outputs": [
    {
     "data": {
      "text/plain": [
       "['31 alphabet inc. ● annual report part ii item 7 management ’ s discussion and anal ysis of financial condition and results of operations the following table presents the foreign exchange effect on international revenues and total revenues ( in millions, except percentages ) : year ended december 31, 2022 % change from prior period year ended december 31, less fx effectconstant currency revenuesas reportedless hedging effectless fx effectconstant currency revenues 2021 2022 united states $ 117, 854 $ 134, 814 $ 0 $ 134, 814 14 % 0 % 14 % emea 79, 107 82, 062 ( 8, 979 ) 91, 041 4 % ( 11 ) % 15 % apac 46, 123 47, 024 ( 3, 915 ) 50, 939 2 % ( 8 ) % 10 % other americas 14, 404 16, 976 ( 430 ) 17, 406 18 % ( 3 ) % 21 % revenues, excluding hedging effect 257, 488 280, 876 ( 13, 324 ) 294, 200 9 % ( 5 ) % 14 % hedging gains ( losses ) 149 1, 960 total revenues ( 1 ) $ 257, 637 $ 282, 836 $ 294, 200 10',\n",
       " 'continued expansion of our business into new fields, including products and services such as hardware, google cloud, and subscription products, as well as significant investments in other bets, all of which may have margins lower than those we generate from advertising. in particular, margins on our hardware products have had, and may continue to have, an adverse affect on our consolidated margins due to pressures on pricing and higher cost of sales. we may also experience downward pressure on our operating margins from increasing regulations, increasing competition, and increasing costs for many aspects of our business. further, certain of our costs and expenses are generally less variable in nature and may not correlate to changes in revenue. additionally, in conjunction with our efforts to re - engineer costs, we may not be able to execute these efforts in a timely manner or these efforts may not be successful',\n",
       " 'needs, and frequent introductions of rival products and services. to compete successfully, we must accurately anticipate technology developments and deliver innovative, relevant and useful products, services, and technologies in a timely manner. as our businesses evolve, the competitive pressure to innovate will encompass a wider range of products and services. we must continue to invest significant resources in r & d, including through acquisitions, in order to enhance our technology and new and existing products and services. we have many competitors in different industries. our current and potential domestic and international competitors range from large and established companies to emerging start - ups. some competitors have longer operating histories and well established relationships in various sectors. they can use their experience and resources in ways that could affect our competitive position,',\n",
       " 'our operating results have fluctuated, and may in the future fluctuate, as a result of a number of factors, many outside of our control, including the cyclicality and seasonality in our business and geopolitical events. as a result, comparing our operating results ( including our expenses as a percentage of our revenues ) on a period - to - period basis may not be meaningful, and our past results should not be relied on as an indication of our future performance. consequently, our operating results in future quarters may fall below expectations. acquisitions, joint ventures, investments, and divestitures could result in operating difficulties, dilution, and other consequences that could harm our business, financial condition, and operating results. acquisitions, joint ventures, investments, and divestitures are important elements of our overall corporate strategy and use of capital,',\n",
       " 'constant currency information compares results between periods as if exchange rates had remained constant period over period. we define constant currency revenues as revenues excluding the effect of foreign exchange rate movements ( “ fx effect ” ) as well as hedging activities, which are recognized at the consolidated level. we use constant currency revenues to determine the constant currency revenue percentage change on a year - on - year basis. constant currency revenues are calculated by translating current period revenues using prior year comparable period exchange rates, as well as excluding any hedging effects realized in the current period. constant currency revenue percentage change is calculated by determining the change in current period revenues over prior year comparable period revenues where current period foreign currency revenues are translated using prior year comparable period exchange rates and hedging effects are excluded from revenues of both periods.']"
      ]
     },
     "execution_count": 41,
     "metadata": {},
     "output_type": "execute_result"
    }
   ],
   "source": [
    "ranked_docs[:5]"
   ]
  },
  {
   "cell_type": "code",
   "execution_count": 42,
   "id": "7a5bc0a6-b9bf-44c8-86ff-468d77d471c2",
   "metadata": {
    "tags": []
   },
   "outputs": [
    {
     "name": "stdout",
     "output_type": "stream",
     "text": [
      "What were the most important factors that contributed to increases in revenue?\n",
      "## Factors Contributing to Revenue Increases:\n",
      "\n",
      "Based on the information provided, the following factors contributed to Alphabet Inc.'s revenue increase in 2022:\n",
      "\n",
      "**1. Organic Growth:**\n",
      "\n",
      "* **Strong Core Business:** The company experienced a 14% increase in revenue in its core business, driven by strong sales in the United States and other key markets.\n",
      "* **Expansion into New Fields:** Continued expansion into new fields, including hardware, Google Cloud, and subscription products, generated additional revenue streams.\n",
      "\n",
      "**2. Currency Fluctuations:**\n",
      "\n",
      "* **Favorable Exchange Rates:** Although the company reports revenues \"excluding the effect of foreign exchange rate movements,\" the 4% increase in the \"as reported\" revenue in EMEA suggests that favorable exchange rates positively impacted reported revenue.\n",
      "\n",
      "**3. Investments in Other Bets:**\n",
      "\n",
      "* **Significant Investments:** While not directly contributing to core revenue, the company's significant investments in \"other bets\" like Waymo and Verily may yield future revenue streams.\n",
      "\n",
      "**4. Hedging Activities:**\n",
      "\n",
      "* **Hedging Gains:** Although the impact appears minimal, the company's hedging activities resulted in a $1.96 billion gain, ultimately boosting total revenue.\n",
      "\n",
      "**5. Acquisitions and Partnerships:**\n",
      "\n",
      "* **Strategic Acquisitions:** The company mentions acquisitions as part of its growth strategy, though the specific impact on 2022 revenue is not explicitly stated in the provided excerpt.\n",
      "\n",
      "**It's important to note that the provided information only covers part of the annual report.** Further analysis of the full report, including additional financial statements and management commentary, would be necessary to develop a more comprehensive understanding of the factors driving Alphabet Inc.'s revenue growth. \n",
      "\n"
     ]
    }
   ],
   "source": [
    "response = rag(query=original_query, retrieved_documents=ranked_docs[:5], model=model)\n",
    "print(original_query)\n",
    "print(response)"
   ]
  },
  {
   "cell_type": "markdown",
   "id": "17933296-db7e-4295-946a-bdb753045bd4",
   "metadata": {},
   "source": [
    "## Embedding Adapters"
   ]
  },
  {
   "cell_type": "markdown",
   "id": "cfe988ab-dd4c-4d05-8650-a3420fc436a0",
   "metadata": {},
   "source": [
    "Another improvement that we can make is instead of getting more answers and reranking, train the embedding model to work with our dataset based on user queries. This is a form a of fine tuning that you can do on your own."
   ]
  },
  {
   "cell_type": "code",
   "execution_count": 43,
   "id": "c627ca36-be29-49ba-b683-eef01ece8c91",
   "metadata": {
    "tags": []
   },
   "outputs": [
    {
     "name": "stdout",
     "output_type": "stream",
     "text": [
      "## 10 Questions for Analyzing an Annual Report:\n",
      "\n",
      "**Financial Performance:**\n",
      "\n",
      "* What was the company's revenue for the past year, and how does it compare to previous years?\n",
      "* What was the company's net income for the past year, and how does it compare to previous years?\n",
      "* What are the company's gross profit margins and how have they trended over time?\n",
      "* Did the company generate positive or negative operating cash flow in the past year?\n",
      "\n",
      "**Financial Health:**\n",
      "\n",
      "* What is the company's current ratio and what does it indicate about its short-term liquidity?\n",
      "* What is the company's debt-to-equity ratio and how does it compare to industry averages?\n",
      "* Has the company's working capital position changed significantly throughout the year?\n",
      "\n",
      "**Growth & Future Prospects:**\n",
      "\n",
      "* What are the company's plans for future growth?\n",
      "* Is the company investing in research and development to drive future innovation?\n",
      "* What are the main competitive threats the company faces in its industry?\n",
      "\n",
      "**Additional Considerations:**\n",
      "\n",
      "* How has the company been impacted by recent economic or geopolitical events?\n",
      "* What are the key risks and uncertainties facing the company in the future?\n",
      "* What are the company's environmental, social, and governance (ESG) initiatives?\n"
     ]
    }
   ],
   "source": [
    "def generate_queries(model):\n",
    "\n",
    "    prompt = (f'You are a helpful expert financial research assistant.\\n'\n",
    "    f'You help users analyze financial statements to better understand companies.\\n'\n",
    "    f'Suggest 10 to 15 short questions that are important to ask when analyzing an annual report.\\n'\n",
    "    f'Do not output any compound questions (questions with multiple sentences or conjunctions).\\n'\n",
    "    f'Output each question on a separate line divided by a newline.')\n",
    "    \n",
    "    responses = model.generate_content(prompt, stream=False)\n",
    "    return responses.text.split('\\n')\n",
    "\n",
    "generated_queries = generate_queries(model)\n",
    "for query in generated_queries:\n",
    "    print(query)"
   ]
  },
  {
   "cell_type": "markdown",
   "id": "eb3517cf-3769-4ea8-8b3a-02fc91b5d88a",
   "metadata": {},
   "source": [
    "Search answers for those queries"
   ]
  },
  {
   "cell_type": "code",
   "execution_count": 44,
   "id": "5a5622d7-41fa-44f1-bf7a-1df35a54b0b4",
   "metadata": {
    "tags": []
   },
   "outputs": [],
   "source": [
    "results = chroma_collection.query(query_texts=generated_queries, n_results=10, include=['documents', 'embeddings'])\n",
    "retrieved_documents = results['documents']"
   ]
  },
  {
   "cell_type": "markdown",
   "id": "bb08fdbd-a0ce-4be7-95aa-7a2b0b7e6207",
   "metadata": {},
   "source": [
    "Evaluate the results in 1 for relevant and -1 for irrelevant answers.\n"
   ]
  },
  {
   "cell_type": "code",
   "execution_count": 45,
   "id": "c3afb967-253e-45ed-9eae-a446ad8191b7",
   "metadata": {
    "tags": []
   },
   "outputs": [],
   "source": [
    "def evaluate_results(query, statement, model):\n",
    "\n",
    "    prompt = (f'You are a helpful expert financial research assistant.\\n'\n",
    "    f'You help users analyze financial statements to better understand companies.\\n'\n",
    "    f'For the given query, evaluate whether the following satement is relevant.\\n'\n",
    "    f'Output only \\'yes\\' or \\'no\\'.\\n'\n",
    "    f'Question: {query}, Statement: {statement}.')\n",
    "    \n",
    "    responses = model.generate_content(prompt, stream=False)\n",
    "    if responses.text == 'yes':\n",
    "        return 1\n",
    "    return -1\n",
    "\n",
    "retrieved_embeddings = results['embeddings']\n",
    "query_embeddings = embedding_function(generated_queries)"
   ]
  },
  {
   "cell_type": "markdown",
   "id": "12d80f96-7795-45ad-88e0-e6f42b4a1ff5",
   "metadata": {
    "tags": []
   },
   "source": [
    "Extract the documents and queries into their own lists.\n"
   ]
  },
  {
   "cell_type": "code",
   "execution_count": 47,
   "id": "51b872be-862b-448e-a3ee-ba4b5c47fcb3",
   "metadata": {
    "tags": []
   },
   "outputs": [
    {
     "name": "stderr",
     "output_type": "stream",
     "text": [
      "100%|██████████| 26/26 [03:10<00:00,  7.34s/it]\n"
     ]
    },
    {
     "data": {
      "text/plain": [
       "260"
      ]
     },
     "execution_count": 47,
     "metadata": {},
     "output_type": "execute_result"
    }
   ],
   "source": [
    "adapter_query_embeddings = []\n",
    "adapter_doc_embeddings = []\n",
    "adapter_labels = []\n",
    "\n",
    "for q, query in enumerate(tqdm(generated_queries)):\n",
    "    for d, document in enumerate(retrieved_documents[q]):\n",
    "        adapter_query_embeddings.append(query_embeddings[q])\n",
    "        adapter_doc_embeddings.append(retrieved_embeddings[q][d])\n",
    "        adapter_labels.append(evaluate_results(query, document, model))\n",
    "\n",
    "len(adapter_labels)"
   ]
  },
  {
   "cell_type": "markdown",
   "id": "ac9f2e87-0b16-460c-834a-f03ecbf990c9",
   "metadata": {},
   "source": [
    "Install PyTorch so that we can train the embedding model based on relevant answers."
   ]
  },
  {
   "cell_type": "code",
   "execution_count": 48,
   "id": "fc5d34a7-4401-4bbf-aea6-45d09e01343d",
   "metadata": {
    "tags": []
   },
   "outputs": [
    {
     "name": "stderr",
     "output_type": "stream",
     "text": [
      "huggingface/tokenizers: The current process just got forked, after parallelism has already been used. Disabling parallelism to avoid deadlocks...\n",
      "To disable this warning, you can either:\n",
      "\t- Avoid using `tokenizers` before the fork if possible\n",
      "\t- Explicitly set the environment variable TOKENIZERS_PARALLELISM=(true | false)\n"
     ]
    },
    {
     "name": "stdout",
     "output_type": "stream",
     "text": [
      "Requirement already satisfied: torch in /opt/conda/lib/python3.10/site-packages (2.5.1)\n",
      "Requirement already satisfied: filelock in /opt/conda/lib/python3.10/site-packages (from torch) (3.16.1)\n",
      "Requirement already satisfied: typing-extensions>=4.8.0 in /opt/conda/lib/python3.10/site-packages (from torch) (4.12.2)\n",
      "Requirement already satisfied: networkx in /opt/conda/lib/python3.10/site-packages (from torch) (3.4.2)\n",
      "Requirement already satisfied: jinja2 in /opt/conda/lib/python3.10/site-packages (from torch) (3.1.4)\n",
      "Requirement already satisfied: fsspec in /opt/conda/lib/python3.10/site-packages (from torch) (2024.10.0)\n",
      "Requirement already satisfied: nvidia-cuda-nvrtc-cu12==12.4.127 in /opt/conda/lib/python3.10/site-packages (from torch) (12.4.127)\n",
      "Requirement already satisfied: nvidia-cuda-runtime-cu12==12.4.127 in /opt/conda/lib/python3.10/site-packages (from torch) (12.4.127)\n",
      "Requirement already satisfied: nvidia-cuda-cupti-cu12==12.4.127 in /opt/conda/lib/python3.10/site-packages (from torch) (12.4.127)\n",
      "Requirement already satisfied: nvidia-cudnn-cu12==9.1.0.70 in /opt/conda/lib/python3.10/site-packages (from torch) (9.1.0.70)\n",
      "Requirement already satisfied: nvidia-cublas-cu12==12.4.5.8 in /opt/conda/lib/python3.10/site-packages (from torch) (12.4.5.8)\n",
      "Requirement already satisfied: nvidia-cufft-cu12==11.2.1.3 in /opt/conda/lib/python3.10/site-packages (from torch) (11.2.1.3)\n",
      "Requirement already satisfied: nvidia-curand-cu12==10.3.5.147 in /opt/conda/lib/python3.10/site-packages (from torch) (10.3.5.147)\n",
      "Requirement already satisfied: nvidia-cusolver-cu12==11.6.1.9 in /opt/conda/lib/python3.10/site-packages (from torch) (11.6.1.9)\n",
      "Requirement already satisfied: nvidia-cusparse-cu12==12.3.1.170 in /opt/conda/lib/python3.10/site-packages (from torch) (12.3.1.170)\n",
      "Requirement already satisfied: nvidia-nccl-cu12==2.21.5 in /opt/conda/lib/python3.10/site-packages (from torch) (2.21.5)\n",
      "Requirement already satisfied: nvidia-nvtx-cu12==12.4.127 in /opt/conda/lib/python3.10/site-packages (from torch) (12.4.127)\n",
      "Requirement already satisfied: nvidia-nvjitlink-cu12==12.4.127 in /opt/conda/lib/python3.10/site-packages (from torch) (12.4.127)\n",
      "Requirement already satisfied: triton==3.1.0 in /opt/conda/lib/python3.10/site-packages (from torch) (3.1.0)\n",
      "Requirement already satisfied: sympy==1.13.1 in /opt/conda/lib/python3.10/site-packages (from torch) (1.13.1)\n",
      "Requirement already satisfied: mpmath<1.4,>=1.1.0 in /opt/conda/lib/python3.10/site-packages (from sympy==1.13.1->torch) (1.3.0)\n",
      "Requirement already satisfied: MarkupSafe>=2.0 in /opt/conda/lib/python3.10/site-packages (from jinja2->torch) (3.0.2)\n"
     ]
    }
   ],
   "source": [
    "!pip install torch\n",
    "\n",
    "import torch"
   ]
  },
  {
   "cell_type": "code",
   "execution_count": 49,
   "id": "e6222a4e-3aae-4a03-880a-103e03a35493",
   "metadata": {
    "tags": []
   },
   "outputs": [],
   "source": [
    "adapter_query_embeddings = torch.Tensor(np.array(adapter_query_embeddings))\n",
    "adapter_doc_embeddings = torch.Tensor(np.array(adapter_doc_embeddings))\n",
    "adapter_labels = torch.Tensor(np.expand_dims(np.array(adapter_labels),1))\n",
    "\n",
    "dataset = torch.utils.data.TensorDataset(adapter_query_embeddings, adapter_doc_embeddings, adapter_labels)"
   ]
  },
  {
   "cell_type": "markdown",
   "id": "e35ff694-a953-4d08-8ef6-ffd08eb32ec2",
   "metadata": {},
   "source": [
    "Set up the model with cosine similarity, so that embeddings with label 1 are similar and -1 are dissimilar."
   ]
  },
  {
   "cell_type": "code",
   "execution_count": 50,
   "id": "7cb3c452-ad4a-4353-ac4a-e8e6f86e0327",
   "metadata": {
    "tags": []
   },
   "outputs": [],
   "source": [
    "def model(query_embedding, document_embedding, adaptor_matrix):\n",
    "    updated_query_embedding = torch.matmul(adaptor_matrix, query_embedding)\n",
    "    return torch.cosine_similarity(updated_query_embedding, document_embedding, dim=0)"
   ]
  },
  {
   "cell_type": "code",
   "execution_count": 51,
   "id": "7435c0a6-cda9-4a85-bfe6-f27bf3776be9",
   "metadata": {
    "tags": []
   },
   "outputs": [],
   "source": [
    "def mse_loss(query_embedding, document_embedding, adaptor_matrix, label):\n",
    "    return torch.nn.MSELoss()(model(query_embedding, document_embedding, adaptor_matrix), label)"
   ]
  },
  {
   "cell_type": "markdown",
   "id": "311cfe55-4773-46c7-be3e-9741cfcd5de7",
   "metadata": {},
   "source": [
    "Initialize the adaptor matrix.\n"
   ]
  },
  {
   "cell_type": "code",
   "execution_count": 52,
   "id": "474da401-0db6-4c20-a171-71d4b4002b1e",
   "metadata": {
    "tags": []
   },
   "outputs": [],
   "source": [
    "mat_size = len(adapter_query_embeddings[0])\n",
    "adapter_matrix = torch.randn(mat_size, mat_size, requires_grad=True)"
   ]
  },
  {
   "cell_type": "markdown",
   "id": "1408515e-6a42-4572-a362-b3ab10c5c2a7",
   "metadata": {},
   "source": [
    "Train the adaptor matrix using 100 steps by iteratively update a vector such that if I take that vector and multiply it by these inputs (query embeddings) then compare that result to this vector (this example's retrieved document vector), I get a score closer to (this example's -1 or 1 label)."
   ]
  },
  {
   "cell_type": "code",
   "execution_count": 53,
   "id": "211e8928-3da4-429e-9a1f-d79cae75a237",
   "metadata": {
    "tags": []
   },
   "outputs": [
    {
     "name": "stderr",
     "output_type": "stream",
     "text": [
      "  0%|          | 0/100 [00:00<?, ?it/s]/opt/conda/lib/python3.10/site-packages/torch/nn/modules/loss.py:608: UserWarning: Using a target size (torch.Size([1])) that is different to the input size (torch.Size([])). This will likely lead to incorrect results due to broadcasting. Please ensure they have the same size.\n",
      "  return F.mse_loss(input, target, reduction=self.reduction)\n",
      "100%|██████████| 100/100 [00:26<00:00,  3.77it/s]\n"
     ]
    }
   ],
   "source": [
    "min_loss = float('inf')\n",
    "best_matrix = None\n",
    "\n",
    "for epoch in tqdm(range(100)):\n",
    "    for query_embedding, document_embedding, label in dataset:\n",
    "        loss = mse_loss(query_embedding, document_embedding, adapter_matrix, label)\n",
    "\n",
    "        if loss < min_loss:\n",
    "            min_loss = loss\n",
    "            best_matrix = adapter_matrix.clone().detach().numpy()\n",
    "\n",
    "        loss.backward()\n",
    "        with torch.no_grad():\n",
    "            adapter_matrix -= 0.01 * adapter_matrix.grad\n",
    "            adapter_matrix.grad.zero_()       "
   ]
  },
  {
   "cell_type": "markdown",
   "id": "62ac576f-41ae-43a9-bbf3-072c5491ec54",
   "metadata": {},
   "source": [
    "Print the loss. Notice there is almost a 30% increase in accuracy.\n"
   ]
  },
  {
   "cell_type": "code",
   "execution_count": 54,
   "id": "f237cdb3-3cdd-4c45-af6d-0dadc08006cd",
   "metadata": {
    "tags": []
   },
   "outputs": [
    {
     "name": "stdout",
     "output_type": "stream",
     "text": [
      "Best loss: 0.6710281372070312\n"
     ]
    }
   ],
   "source": [
    "print(f\"Best loss: {min_loss.detach().numpy()}\")"
   ]
  },
  {
   "cell_type": "markdown",
   "id": "af1e6c05-ae09-43e0-abaf-e3d04a225c63",
   "metadata": {},
   "source": [
    "Create a scaled vector based on the best matrix that we computed."
   ]
  },
  {
   "cell_type": "code",
   "execution_count": 55,
   "id": "b57c0f36-0f90-404d-a503-7df6a3a1bf87",
   "metadata": {
    "tags": []
   },
   "outputs": [],
   "source": [
    "test_vector = torch.ones((mat_size,1))\n",
    "scaled_vector = np.matmul(best_matrix, test_vector).numpy()"
   ]
  },
  {
   "cell_type": "code",
   "execution_count": 56,
   "id": "07b3f6b6-c190-4981-91ce-4feacc31401b",
   "metadata": {
    "tags": []
   },
   "outputs": [
    {
     "data": {
      "image/png": "[encoded data removed]",
      "text/plain": [
       "<Figure size 640x480 with 1 Axes>"
      ]
     },
     "metadata": {},
     "output_type": "display_data"
    }
   ],
   "source": [
    "import matplotlib.pyplot as plt\n",
    "plt.bar(range(len(scaled_vector)), scaled_vector.flatten())\n",
    "plt.show()"
   ]
  },
  {
   "cell_type": "markdown",
   "id": "99abe942-5dcd-4881-8602-984ca052e62f",
   "metadata": {},
   "source": [
    "Get the adapted query embeddings to compare them with the original values retrieved."
   ]
  },
  {
   "cell_type": "code",
   "execution_count": 57,
   "id": "1fea94fc-cdd4-463a-8d30-ea355a5222b5",
   "metadata": {
    "tags": []
   },
   "outputs": [
    {
     "name": "stderr",
     "output_type": "stream",
     "text": [
      "100%|██████████| 26/26 [00:00<00:00, 137.61it/s]\n",
      "100%|██████████| 26/26 [00:00<00:00, 175.90it/s]\n"
     ]
    }
   ],
   "source": [
    "query_embeddings = embedding_function(generated_queries)\n",
    "adapted_query_embeddings = np.matmul(best_matrix, np.array(query_embeddings).T).T\n",
    "\n",
    "projected_query_embeddings = project_embeddings(query_embeddings, umap_transform)\n",
    "projected_adapted_query_embeddings = project_embeddings(adapted_query_embeddings, umap_transform)"
   ]
  },
  {
   "cell_type": "code",
   "execution_count": 58,
   "id": "925f70a2-bb4f-4981-a03d-f0d09e7f2f79",
   "metadata": {
    "tags": []
   },
   "outputs": [
    {
     "data": {
      "text/plain": [
       "<matplotlib.legend.Legend at 0x7f423e64d2a0>"
      ]
     },
     "execution_count": 58,
     "metadata": {},
     "output_type": "execute_result"
    },
    {
     "data": {
      "image/png": "[encoded data removed]",
      "text/plain": [
       "<Figure size 640x480 with 1 Axes>"
      ]
     },
     "metadata": {},
     "output_type": "display_data"
    }
   ],
   "source": [
    "# Plot the projected query and retrieved documents in the embedding space\n",
    "plt.figure()\n",
    "plt.scatter(projected_dataset_embeddings[:, 0], projected_dataset_embeddings[:, 1], s=10, color='gray')\n",
    "plt.scatter(projected_query_embeddings[:, 0], projected_query_embeddings[:, 1], s=150, marker='X', color='r', label=\"original\")\n",
    "plt.scatter(projected_adapted_query_embeddings[:, 0], projected_adapted_query_embeddings[:, 1], s=150, marker='X', color='green', label=\"adapted\")\n",
    "\n",
    "plt.gca().set_aspect('equal', 'datalim')\n",
    "plt.title(\"Adapted Queries\")\n",
    "plt.axis('off')\n",
    "plt.legend()"
   ]
  },
  {
   "cell_type": "code",
   "execution_count": null,
   "id": "4f467675-84de-4c30-a72e-f1f451e5f148",
   "metadata": {},
   "outputs": [],
   "source": []
  }
 ],
 "metadata": {
  "environment": {
   "kernel": "conda-base-py",
   "name": "workbench-notebooks.m126",
   "type": "gcloud",
   "uri": "us-docker.pkg.dev/deeplearning-platform-release/gcr.io/workbench-notebooks:m126"
  },
  "kernelspec": {
   "display_name": "Python 3 (ipykernel) (Local) (Local)",
   "language": "python",
   "name": "conda-base-py"
  },
  "language_info": {
   "codemirror_mode": {
    "name": "ipython",
    "version": 3
   },
   "file_extension": ".py",
   "mimetype": "text/x-python",
   "name": "python",
   "nbconvert_exporter": "python",
   "pygments_lexer": "ipython3",
   "version": "3.10.15"
  }
 },
 "nbformat": 4,
 "nbformat_minor": 5
}
