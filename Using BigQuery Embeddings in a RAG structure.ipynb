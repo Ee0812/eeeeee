{
  "cells": [
    {
      "cell_type": "code",
      "id": "l1HBmrF73LjiUwBxdh0PvHfm",
      "metadata": {
        "tags": [],
        "id": "l1HBmrF73LjiUwBxdh0PvHfm",
        "colab": {
          "base_uri": "https://localhost:8080/",
          "height": 933
        },
        "outputId": "6cc76824-2525-4433-f597-1cc9f34048fa"
      },
      "source": [
        "!pip install --upgrade --user google-cloud-aiplatform google-cloud-bigquery"
      ],
      "execution_count": null,
      "outputs": [
        {
          "output_type": "stream",
          "name": "stdout",
          "text": [
            "Requirement already satisfied: google-cloud-aiplatform in /usr/local/lib/python3.10/dist-packages (1.71.1)\n",
            "Collecting google-cloud-aiplatform\n",
            "  Downloading google_cloud_aiplatform-1.73.0-py2.py3-none-any.whl.metadata (31 kB)\n",
            "Requirement already satisfied: google-cloud-bigquery in /usr/local/lib/python3.10/dist-packages (3.25.0)\n",
            "Collecting google-cloud-bigquery\n",
            "  Downloading google_cloud_bigquery-3.27.0-py2.py3-none-any.whl.metadata (8.6 kB)\n",
            "Requirement already satisfied: google-api-core!=2.0.*,!=2.1.*,!=2.2.*,!=2.3.*,!=2.4.*,!=2.5.*,!=2.6.*,!=2.7.*,<3.0.0dev,>=1.34.1 in /usr/local/lib/python3.10/dist-packages (from google-api-core[grpc]!=2.0.*,!=2.1.*,!=2.2.*,!=2.3.*,!=2.4.*,!=2.5.*,!=2.6.*,!=2.7.*,<3.0.0dev,>=1.34.1->google-cloud-aiplatform) (2.19.2)\n",
            "Requirement already satisfied: google-auth<3.0.0dev,>=2.14.1 in /usr/local/lib/python3.10/dist-packages (from google-cloud-aiplatform) (2.27.0)\n",
            "Requirement already satisfied: proto-plus<2.0.0dev,>=1.22.3 in /usr/local/lib/python3.10/dist-packages (from google-cloud-aiplatform) (1.25.0)\n",
            "Requirement already satisfied: protobuf!=4.21.0,!=4.21.1,!=4.21.2,!=4.21.3,!=4.21.4,!=4.21.5,<6.0.0dev,>=3.20.2 in /usr/local/lib/python3.10/dist-packages (from google-cloud-aiplatform) (4.25.5)\n",
            "Requirement already satisfied: packaging>=14.3 in /usr/local/lib/python3.10/dist-packages (from google-cloud-aiplatform) (24.2)\n",
            "Requirement already satisfied: google-cloud-storage<3.0.0dev,>=1.32.0 in /usr/local/lib/python3.10/dist-packages (from google-cloud-aiplatform) (2.8.0)\n",
            "Requirement already satisfied: google-cloud-resource-manager<3.0.0dev,>=1.3.3 in /usr/local/lib/python3.10/dist-packages (from google-cloud-aiplatform) (1.13.0)\n",
            "Requirement already satisfied: shapely<3.0.0dev in /usr/local/lib/python3.10/dist-packages (from google-cloud-aiplatform) (2.0.6)\n",
            "Requirement already satisfied: pydantic<3 in /usr/local/lib/python3.10/dist-packages (from google-cloud-aiplatform) (2.9.2)\n",
            "Requirement already satisfied: docstring-parser<1 in /usr/local/lib/python3.10/dist-packages (from google-cloud-aiplatform) (0.16)\n",
            "Requirement already satisfied: google-cloud-core<3.0.0dev,>=2.4.1 in /usr/local/lib/python3.10/dist-packages (from google-cloud-bigquery) (2.4.1)\n",
            "Requirement already satisfied: google-resumable-media<3.0dev,>=2.0.0 in /usr/local/lib/python3.10/dist-packages (from google-cloud-bigquery) (2.7.2)\n",
            "Requirement already satisfied: python-dateutil<3.0dev,>=2.7.3 in /usr/local/lib/python3.10/dist-packages (from google-cloud-bigquery) (2.8.2)\n",
            "Requirement already satisfied: requests<3.0.0dev,>=2.21.0 in /usr/local/lib/python3.10/dist-packages (from google-cloud-bigquery) (2.32.3)\n",
            "Requirement already satisfied: googleapis-common-protos<2.0.dev0,>=1.56.2 in /usr/local/lib/python3.10/dist-packages (from google-api-core!=2.0.*,!=2.1.*,!=2.2.*,!=2.3.*,!=2.4.*,!=2.5.*,!=2.6.*,!=2.7.*,<3.0.0dev,>=1.34.1->google-api-core[grpc]!=2.0.*,!=2.1.*,!=2.2.*,!=2.3.*,!=2.4.*,!=2.5.*,!=2.6.*,!=2.7.*,<3.0.0dev,>=1.34.1->google-cloud-aiplatform) (1.65.0)\n",
            "Requirement already satisfied: grpcio<2.0dev,>=1.33.2 in /usr/local/lib/python3.10/dist-packages (from google-api-core[grpc]!=2.0.*,!=2.1.*,!=2.2.*,!=2.3.*,!=2.4.*,!=2.5.*,!=2.6.*,!=2.7.*,<3.0.0dev,>=1.34.1->google-cloud-aiplatform) (1.67.1)\n",
            "Requirement already satisfied: grpcio-status<2.0.dev0,>=1.33.2 in /usr/local/lib/python3.10/dist-packages (from google-api-core[grpc]!=2.0.*,!=2.1.*,!=2.2.*,!=2.3.*,!=2.4.*,!=2.5.*,!=2.6.*,!=2.7.*,<3.0.0dev,>=1.34.1->google-cloud-aiplatform) (1.62.3)\n",
            "Requirement already satisfied: cachetools<6.0,>=2.0.0 in /usr/local/lib/python3.10/dist-packages (from google-auth<3.0.0dev,>=2.14.1->google-cloud-aiplatform) (5.5.0)\n",
            "Requirement already satisfied: pyasn1-modules>=0.2.1 in /usr/local/lib/python3.10/dist-packages (from google-auth<3.0.0dev,>=2.14.1->google-cloud-aiplatform) (0.4.1)\n",
            "Requirement already satisfied: rsa<5,>=3.1.4 in /usr/local/lib/python3.10/dist-packages (from google-auth<3.0.0dev,>=2.14.1->google-cloud-aiplatform) (4.9)\n",
            "Requirement already satisfied: grpc-google-iam-v1<1.0.0dev,>=0.12.4 in /usr/local/lib/python3.10/dist-packages (from google-cloud-resource-manager<3.0.0dev,>=1.3.3->google-cloud-aiplatform) (0.13.1)\n",
            "Requirement already satisfied: google-crc32c<2.0dev,>=1.0 in /usr/local/lib/python3.10/dist-packages (from google-resumable-media<3.0dev,>=2.0.0->google-cloud-bigquery) (1.6.0)\n",
            "Requirement already satisfied: annotated-types>=0.6.0 in /usr/local/lib/python3.10/dist-packages (from pydantic<3->google-cloud-aiplatform) (0.7.0)\n",
            "Requirement already satisfied: pydantic-core==2.23.4 in /usr/local/lib/python3.10/dist-packages (from pydantic<3->google-cloud-aiplatform) (2.23.4)\n",
            "Requirement already satisfied: typing-extensions>=4.6.1 in /usr/local/lib/python3.10/dist-packages (from pydantic<3->google-cloud-aiplatform) (4.12.2)\n",
            "Requirement already satisfied: six>=1.5 in /usr/local/lib/python3.10/dist-packages (from python-dateutil<3.0dev,>=2.7.3->google-cloud-bigquery) (1.16.0)\n",
            "Requirement already satisfied: charset-normalizer<4,>=2 in /usr/local/lib/python3.10/dist-packages (from requests<3.0.0dev,>=2.21.0->google-cloud-bigquery) (3.4.0)\n",
            "Requirement already satisfied: idna<4,>=2.5 in /usr/local/lib/python3.10/dist-packages (from requests<3.0.0dev,>=2.21.0->google-cloud-bigquery) (3.10)\n",
            "Requirement already satisfied: urllib3<3,>=1.21.1 in /usr/local/lib/python3.10/dist-packages (from requests<3.0.0dev,>=2.21.0->google-cloud-bigquery) (2.2.3)\n",
            "Requirement already satisfied: certifi>=2017.4.17 in /usr/local/lib/python3.10/dist-packages (from requests<3.0.0dev,>=2.21.0->google-cloud-bigquery) (2024.8.30)\n",
            "Requirement already satisfied: numpy<3,>=1.14 in /usr/local/lib/python3.10/dist-packages (from shapely<3.0.0dev->google-cloud-aiplatform) (1.26.4)\n",
            "Requirement already satisfied: pyasn1<0.7.0,>=0.4.6 in /usr/local/lib/python3.10/dist-packages (from pyasn1-modules>=0.2.1->google-auth<3.0.0dev,>=2.14.1->google-cloud-aiplatform) (0.6.1)\n",
            "Downloading google_cloud_aiplatform-1.73.0-py2.py3-none-any.whl (6.3 MB)\n",
            "\u001b[2K   \u001b[90m━━━━━━━━━━━━━━━━━━━━━━━━━━━━━━━━━━━━━━━━\u001b[0m \u001b[32m6.3/6.3 MB\u001b[0m \u001b[31m59.7 MB/s\u001b[0m eta \u001b[36m0:00:00\u001b[0m\n",
            "\u001b[?25hDownloading google_cloud_bigquery-3.27.0-py2.py3-none-any.whl (240 kB)\n",
            "\u001b[2K   \u001b[90m━━━━━━━━━━━━━━━━━━━━━━━━━━━━━━━━━━━━━━━━\u001b[0m \u001b[32m240.1/240.1 kB\u001b[0m \u001b[31m21.6 MB/s\u001b[0m eta \u001b[36m0:00:00\u001b[0m\n",
            "\u001b[?25hInstalling collected packages: google-cloud-bigquery, google-cloud-aiplatform\n",
            "\u001b[33m  WARNING: The script tb-gcp-uploader is installed in '/root/.local/bin' which is not on PATH.\n",
            "  Consider adding this directory to PATH or, if you prefer to suppress this warning, use --no-warn-script-location.\u001b[0m\u001b[33m\n",
            "\u001b[0mSuccessfully installed google-cloud-aiplatform-1.73.0 google-cloud-bigquery-3.27.0\n"
          ]
        },
        {
          "output_type": "display_data",
          "data": {
            "application/vnd.colab-display-data+json": {
              "pip_warning": {
                "packages": [
                  "google"
                ]
              },
              "id": "e8d3e1d9a75a4dc1b5aa990d5720edb5"
            }
          },
          "metadata": {}
        }
      ]
    },
    {
      "cell_type": "code",
      "source": [
        "# Get project ID\n",
        "PROJECT_ID = ! gcloud config get-value project\n",
        "PROJECT_ID = PROJECT_ID[0]\n",
        "LOCATION = \"us-central1\" # @param {type:\"string\"}\n",
        "print(PROJECT_ID)"
      ],
      "metadata": {
        "id": "nEbctLVSYjBz",
        "colab": {
          "base_uri": "https://localhost:8080/"
        },
        "outputId": "228f42df-b75c-48c1-e16a-15d8bbd7b7fc"
      },
      "id": "nEbctLVSYjBz",
      "execution_count": 2,
      "outputs": [
        {
          "output_type": "stream",
          "name": "stdout",
          "text": [
            "qwiklabs-gcp-00-bf16881c8728\n"
          ]
        }
      ]
    },
    {
      "cell_type": "code",
      "source": [
        "from google.cloud import aiplatform\n",
        "aiplatform.init(project=PROJECT_ID, location=LOCATION)\n",
        "\n",
        "print(\"Initialized\")"
      ],
      "metadata": {
        "colab": {
          "base_uri": "https://localhost:8080/"
        },
        "id": "xbB7eJYeaGSy",
        "outputId": "a2913933-64fd-49bb-de55-e5c790089f84"
      },
      "id": "xbB7eJYeaGSy",
      "execution_count": 3,
      "outputs": [
        {
          "output_type": "stream",
          "name": "stdout",
          "text": [
            "Initialized\n"
          ]
        }
      ]
    },
    {
      "cell_type": "code",
      "source": [
        "import vertexai\n",
        "from vertexai.generative_models import GenerativeModel, Part\n",
        "\n",
        "def answer_question_gemini(prompt):\n",
        "  model = GenerativeModel(\"gemini-pro\")\n",
        "  response = model.generate_content(\n",
        "    prompt,\n",
        "    generation_config={\n",
        "        \"max_output_tokens\": 8192,\n",
        "        \"temperature\": 0.5,\n",
        "        \"top_p\": 0.5,\n",
        "        \"top_k\": 10,\n",
        "    },\n",
        "  stream=False,\n",
        "  )\n",
        "  try:\n",
        "    return response.text\n",
        "  except:\n",
        "    print(\"An Error Ocuured Cleaning the Data\")\n",
        "    return \"An Error Ocuured Cleaning the Data\""
      ],
      "metadata": {
        "id": "HcYl2AOLaE2q"
      },
      "id": "HcYl2AOLaE2q",
      "execution_count": 4,
      "outputs": []
    },
    {
      "cell_type": "code",
      "source": [
        "def run_search(question):\n",
        "  from google.cloud import bigquery\n",
        "\n",
        "  client = bigquery.Client()\n",
        "\n",
        "  sql = \"\"\"\n",
        "      SELECT query.query, base.title, base.body\n",
        "      FROM VECTOR_SEARCH(\n",
        "      TABLE `bbc_news.bbc_news_with_embeddings`, 'text_embedding',\n",
        "      (\n",
        "      SELECT text_embedding, content AS query\n",
        "      FROM ML.GENERATE_TEXT_EMBEDDING(MODEL `bbc_news.bq_embedding_model`,\n",
        "          (SELECT @question AS content))),\n",
        "      top_k => 5)\n",
        "      \"\"\"\n",
        "\n",
        "  job_config = bigquery.QueryJobConfig(\n",
        "    query_parameters=[\n",
        "        bigquery.ScalarQueryParameter(\"question\", \"STRING\", question),\n",
        "    ]\n",
        "  )\n",
        "\n",
        "  query_job = client.query(sql, job_config=job_config)\n",
        "\n",
        "  data = \"\"\n",
        "  for row in query_job:\n",
        "    data += row.body + \"\\n\"\n",
        "\n",
        "  return data"
      ],
      "metadata": {
        "id": "tSVVsz1NaM18"
      },
      "id": "tSVVsz1NaM18",
      "execution_count": 5,
      "outputs": []
    },
    {
      "cell_type": "code",
      "source": [
        "def build_prompt(data, question):\n",
        "  prompt = \"\"\"\n",
        "    Instructions: Answer the question using the following Context.\n",
        "\n",
        "    Context: {0}\n",
        "\n",
        "    Question: {1}\n",
        "  \"\"\".format(data, question)\n",
        "  return prompt"
      ],
      "metadata": {
        "id": "E4ta7UEKaPfY"
      },
      "id": "E4ta7UEKaPfY",
      "execution_count": 6,
      "outputs": []
    },
    {
      "cell_type": "code",
      "source": [
        "from IPython.core.display import display, HTML\n",
        "\n",
        "def answer_question(question):\n",
        "\n",
        "  data = run_search(question)\n",
        "  display(\"Retrieved Data:\")\n",
        "  display(data)\n",
        "  display(\" . . . \")\n",
        "  prompt = build_prompt(data, question)\n",
        "  answer_gemini = answer_question_gemini(prompt)\n",
        "\n",
        "  return answer_gemini"
      ],
      "metadata": {
        "id": "sqw4ubIsaRZY"
      },
      "id": "sqw4ubIsaRZY",
      "execution_count": 7,
      "outputs": []
    },
    {
      "cell_type": "code",
      "source": [
        "QUESTION = \"Tell me about the US Economy\"\n",
        "\n",
        "answer_gemini = answer_question(QUESTION)\n",
        "display(\"User Question:\")\n",
        "display(QUESTION)\n",
        "display(\"--------------------------------\")\n",
        "display(\"Gemini Answer:\")\n",
        "display(answer_gemini)"
      ],
      "metadata": {
        "colab": {
          "base_uri": "https://localhost:8080/",
          "height": 372
        },
        "id": "n0safVu6aToH",
        "outputId": "f2811d02-b392-48f9-b218-7727b1f6f805"
      },
      "id": "n0safVu6aToH",
      "execution_count": 8,
      "outputs": [
        {
          "output_type": "display_data",
          "data": {
            "text/plain": [
              "'Retrieved Data:'"
            ],
            "application/vnd.google.colaboratory.intrinsic+json": {
              "type": "string"
            }
          },
          "metadata": {}
        },
        {
          "output_type": "display_data",
          "data": {
            "text/plain": [
              "'More and more Americans are joining the internet\\'s fast lane, according to official figures.\\n\\nThe number of people and business connected to broadband jumped by 38% in a year, said the US Federal Communications Commission (FCC). In a report, it said there were more than 32 million broadband connections by the end of June 2004. But the US is still behind compared to other nations, ranked 13th in the world by a UN telecoms body.\\n\\nDuring his 2004 re-election campaign, President George W Bush pledge to ensure that affordable high-speed net access would be available to all Americans by 2007.\\n\\nAccording to the report by the FCC, broadband is becoming increasingly popular, with people using it for research and shopping, as well as downloading music and watching video. The total number of people and businesses on broadband rose by to 32.5 million in the year ending June 2004, compared to 23.5 million in June 2003. Whereas in the UK, most people hook up to broadband via Asymmetric Digital Subscriber Line (ADSL) technology which lets ordinary copper phone lines support high data speeds. But in the US, cable leads the way, accounting for 18.6 million lines. Broadband over the phone line makes up 11.4 million connections, according to the FCC figures.\\n\\nSaturday 20 November\\n\\nLansdowne Road, Dublin\\n\\n1300 GMT\\n\\nThe Irish coach knows a repeat of the record 83-3 victory over the States in 2000 is not on the agenda and expects a real test at Lansdowne Road. \"Their coach Tom Billups will have them very organised,\" said O\\'Sullivan. \"They ran five tries past the French in the summer, so we will not take them for granted. We have guys coming into the team who are chomping at the bit.\" The Irish line-up shows nine changes from the team which started against South Africa with winger Tommy Bowe and flanker Denis Leamy making their international debuts. The other changes see recalls for backs David Humphreys, Kevin Maggs and Guy Easterby with Eric Miller, Marcus Horan, Donnacha O\\'Callaghan and Frank Sheehan all returning to the pack.\\n\\nO\\'Sullivan said the players coming in had the opportunity to stake claims for inclusion against Argentina on 27 November. Easterby gets a rare start at scrum-half while Humphreys, now effectively Ronan O\\'Gara\\'s deputy at fly-half, wins his 65th cap. \"We have got to get the focus right on the day,\" said Ulster man Humphreys. \"The US may be classed as weaker opposition, but we will treat them with the respect they deserve.\" The States lost 39-31 against France in their last international and are ranked 16th in world rugby. The Americans have made three changes, plus one positional switch from the game in July against the French. Lock Alec Parker, blind-side flanker Brian Surgener and right wing Al Lakomskis return and captain Kort Schubert of the Cardiff Blues shifts to number eight. Schubert is the only Eagles player remaining from the sides\\' meeting four years ago.\\n\\nG Murphy; S Horgan, B O\\'Driscoll (capt), K Maggs, T Bowe; D Humphreys, G Easterby; M Horan. F Sheahan, J Hayes, D O\\'Callaghan, P O\\'Connell, S Easterby, D Leamy, E Miller.\\n\\nS Byrne, S Best, L Cullen, A Foley, P Stringer, R O\\'Gara, G Dempsey.\\n\\nViljoen; Lakomskis, Emerick, Sika, Fee, Hercus, Timoteo; MacDonald, Wyatt, Waasdorp, Parker, Klerck, Surgener, Petruzzella, Schubert (capt).\\n\\nHobson, Osentowski, Gouws, Mo\\'unga, Williams, Sherman, Tuipulotu.\\n\\nAmericans are becoming avid blog readers, with 32 million getting hooked in 2004, according to new research.\\n\\nThe survey, conducted by the Pew Internet and American Life Project, showed that blog readership has shot up by 58% in the last year. Some of this growth is attributable to political blogs written and read during the US presidential campaign. Despite the explosive growth, more than 60% of online Americans have still never heard of blogs, the survey found. Blogs, or web logs, are online spaces in which people can publish their thoughts, opinions or spread news events in their own words. Companies such as Google and Microsoft provide users with the tools to publish their own blogs.\\n\\nThe rise of blogs has spawned a new desire for immediate news and information, with six million Americans now using RSS aggregators. RSS aggregators are downloaded to PCs and are programmed to subscribe to feeds from blogs, news sites and other websites. The aggregators automatically compile the latest information published online from the blogs or news sites. Reading blogs remains far more popular than writing them, the survey found. Only 7% of the 120 million US adults who use the internet had created a blog or web-based diary. Getting involved is becoming more popular though, with 12% saying they had posted material or comments on other people\\'s blogs.\\n\\nJust under one in 10 of the US\\'s internet users read political blogs such as the Daily Kos or Instapundit during the US presidential campaign. Kerry voters were slightly more likely to read them than Bush voters. Blog creators were likely to be young, well-educated, net-savvy males with good incomes and college educations, the survey found. This was also true of the average blog reader, although the survey found there was a greater than average growth in blog readership among women and those in minorities. The survey was conducted during November and involved telephone surveys of 1,324 internet users.\\n\\nThe US has pushed Japan off the top of the supercomputing chart with IBM\\'s prototype Blue Gene/L machine.\\n\\nIt is being assembled for the Lawrence Livermore National Laboratory, under the US Department of Energy. IBM test results show that Blue Gene/L has managed speeds of 70.72 teraflops. The previous top machine, Japan\\'s NEC Earth Simulator, clocked up 35.86. The Top 500 list was announced on Monday and officially charts the fastest computers in the world.\\n\\nIt is announced every six months and is worked out using an officially recognised mathematical speed test called Linpack which measures calculations per second.\\n\\nOnce completed in 2005, Blue Gene/L will be more powerful than its current prototype. \"Next year with the final Blue Gene, four times what it is this year, it is going to be a real step up and will be hard to beat,\" said Erich Strohmaier, one of the co-founders of the Top500 list. It will help scientists work out the safety, security and reliability requirements for the US\\'s nuclear weapons stockpile, without the need for underground nuclear testing. It will also cut down on the amount of heat generated by the massive power, a big problem for supercomputers.\\n\\nIn second place was Silicon Graphics\\' Columbia supercomputer based at the US space agency\\'s (Nasa) Ames Research Center in California. The Linux-based machine was reported to have reached a top speed of 42.7 trillion calculations per second (teraflops) in October. It will be used to model flight missions, climate research, and aerospace engineering. The defeated Japanese contender, the Earth Simulator, which was listed in third place, losing the top spot it had held since June 2002. It is dedicated to climate modelling and simulating seismic activity.\\n\\nSince the first supercomputer, the Cray-1, was installed at Los Alamos National Laboratory, US, in 1976, computational speed has leaped 500,000 times. The Cray-1 was capable of 80 megaflops (80 million operations a second). The Blue Gene/L machine that will be completed next year will be five million times faster. Started in 1993, the Top 500 list is decided by a group of computer science academics from around the world. It is presented at the International Supercomputer Conference in Pittsburgh.\\n\\nTechnology firms and gadget lovers are being urged to think more about the environment when buying and disposing of the latest hi-tech products.\\n\\nAt the Consumer Electronics Show in Las Vegas earlier this month, several hi-tech firms were recognised for their strategies to help the environment. Ebay also announced the Rethink project bringing together Intel, Apple, and IBM among others to promote recycling. The US consumer electronics market is set to grow by over 11% in 2005. But more awareness is needed about how and where old gadgets can be recycled as well as how to be more energy efficient, said the US Environmental Protection Agency (EPA). Of particular growing concern is how much energy it takes to recharge portable devices, one of the fastest growing markets in technology. The Consumer Electronics Association (CEA) has predicted that shipments of consumer technologies in 2005 will reach more than $125.73 billion (nearly £68 billion).\\n\\nEbay\\'s initiative pulls together major technology firms, environment groups, government agencies and eBay users to give information about what to do with old computers and where to send them. The online auction house thinks that its already-established community of loyal users could be influential. \"We really became aware of the e-waste issue and we saw that our 125 million users can be a powerful force for good,\" eBay\\'s David Stern told the BBC News website.\\n\\n\"We saw the opportunity to meet the additional demand we have on the site for used computers and saw the opportunity too to good some good for the environment.\" But it is not just computers that cause a problem for the environment. Teenagers get a new mobile every 11 months, adults every 18 months and a 15 million handsets are replaced in total each year. Yet, only 15% are actually recycled. This year, a predicted two billion people worldwide will own a mobile, according to a Deloitte report. Schemes in the US, like RIPMobile, could help in targeting younger generations with recycling messages. The initiative, which was also launched at CES, rewards 10 to 28-year-olds for returning unused phones. \"This system allows for the transformation of a drawer full of unused mobile phones into anything from music to clothes to electronics or games,\" said Seth Heine from RIPMobile.\\n\\nOne group of students collected 1,000 mobiles for recycling in just three months. Mr Heine told the BBC News website that what was important was to raise awareness amongst the young so that recycling becomes \"learned behaviour\". Europe is undoubtedly more advanced than the US in terms of recycling awareness and robust \"end of life\" programmes, although there is a tide change happening in the rest of the world too. Intel showcased some its motherboards and chips at CES which are entirely lead free.\\n\\n\"There is more and more awareness on the consumer side, but the whole industry is moving towards being lead free,\" Intel\\'s Allen Wilson told the BBC News website. \"There is still low-level awareness right now, but it is on the rise - the highest level of awareness is in Europe.\" A European Union (EU) directive, WEEE (Waste Electronic and Electrical Equipment), comes into effect in August. It puts the responsibility on electrical manufacturers to recycle items that are returned to them. But developments are also being made to design better technologies which are more energy efficient and which do not contain harmful substances. Elements like chromium, lead, and cadmium - common in consumer electronics goods - will be prohibited in all products in the EU by 2006.\\n\\nBut it is not just about recycling either. The predicted huge growth in the gadget market means the amount of energy used to power them up is on the rise too. The biggest culprit, according to the EPA, is the innocuous power adaptor, nicknamed \"energy vampires\". They provide vital juice for billions of mobile phones, PDAs (personal digital assistants), digital cameras, camcorders, and digital music players.\\n\\nAlthough there is a focus on developing efficient and improved circuits in the devices themselves, the technologies inside rechargers are still outdated and so eat up more energy than is needed to power a gadget. On 1 January, new efficiency standards for external power supplies came into effect as part of the European Commission Code of Conduct. But at CES, the EPA also unveiled new guidelines for its latest Energy Star initiative which targets external power adapters. These map out the framework for developing better adaptors that can be labelled with an Energy Star logo, meaning they are about 35% more efficient. The initiative is a global effort and more manufacturers\\' adaptors are being brought on board. Most are made in China. About two billion are shipped global every year, and about three billion are in use in the US alone. The EPA is already working with several companies which make more than 22% of power supplies on the market. \"We are increasingly finding companies that not only want to provide neat, hi-tech devices, but also bundle with it a hi-tech, efficient power supply,\" the EPA\\'s Andrew Fanara said. Initiatives like this are critical; if power adaptors continue to be made and used as they are now, consumer electronics and other small appliances will be responsible for more than 40% of electricity used in US homes, said the EPA.\\n\\n'"
            ],
            "application/vnd.google.colaboratory.intrinsic+json": {
              "type": "string"
            }
          },
          "metadata": {}
        },
        {
          "output_type": "display_data",
          "data": {
            "text/plain": [
              "' . . . '"
            ],
            "application/vnd.google.colaboratory.intrinsic+json": {
              "type": "string"
            }
          },
          "metadata": {}
        },
        {
          "output_type": "display_data",
          "data": {
            "text/plain": [
              "'User Question:'"
            ],
            "application/vnd.google.colaboratory.intrinsic+json": {
              "type": "string"
            }
          },
          "metadata": {}
        },
        {
          "output_type": "display_data",
          "data": {
            "text/plain": [
              "'Tell me about the US Economy'"
            ],
            "application/vnd.google.colaboratory.intrinsic+json": {
              "type": "string"
            }
          },
          "metadata": {}
        },
        {
          "output_type": "display_data",
          "data": {
            "text/plain": [
              "'--------------------------------'"
            ],
            "application/vnd.google.colaboratory.intrinsic+json": {
              "type": "string"
            }
          },
          "metadata": {}
        },
        {
          "output_type": "display_data",
          "data": {
            "text/plain": [
              "'Gemini Answer:'"
            ],
            "application/vnd.google.colaboratory.intrinsic+json": {
              "type": "string"
            }
          },
          "metadata": {}
        },
        {
          "output_type": "display_data",
          "data": {
            "text/plain": [
              "'The US economy is the largest in the world, with a GDP of over $21 trillion in 2023. It is a mixed economy, with a significant private sector and a smaller public sector. The US is a global leader in many industries, including technology, finance, and agriculture. The country has a highly skilled workforce and a strong infrastructure. However, the US economy also faces some challenges, such as income inequality and a large national debt.\\n\\nHere are some specific facts about the US economy:\\n\\n* **GDP:** $21.43 trillion (2023 est.)\\n* **GDP per capita:** $63,413 (2023 est.)\\n* **Unemployment rate:** 3.7% (October 2023)\\n* **Inflation rate:** 7.7% (October 2023)\\n* **Major industries:** technology, finance, agriculture, healthcare, manufacturing\\n* **Major trading partners:** China, Mexico, Canada, Japan, Germany\\n\\nThe US economy is expected to grow by 2.2% in 2023 and 2.0% in 2024. The Federal Reserve is expected to continue raising interest rates in 2023 to combat inflation. The US economy is facing several challenges, including high inflation, rising interest rates, and a possible recession. However, the US economy is still expected to grow in 2023 and 2024.'"
            ],
            "application/vnd.google.colaboratory.intrinsic+json": {
              "type": "string"
            }
          },
          "metadata": {}
        }
      ]
    },
    {
      "cell_type": "code",
      "source": [
        "QUESTION = \"What it a good recipe for bouillabaisse\"\n",
        "\n",
        "answer_gemini = answer_question(QUESTION)\n",
        "display(\"User Question:\")\n",
        "display(QUESTION)\n",
        "display(\"--------------------------------\")\n",
        "display(\"Gemini Answer:\")\n",
        "display(answer_gemini)"
      ],
      "metadata": {
        "colab": {
          "base_uri": "https://localhost:8080/",
          "height": 195
        },
        "id": "xry2oY-gaYzZ",
        "outputId": "577ae5a3-4f64-4f13-dadb-bcaf301ef86b"
      },
      "id": "xry2oY-gaYzZ",
      "execution_count": null,
      "outputs": [
        {
          "output_type": "display_data",
          "data": {
            "text/plain": [
              "'Retrieved Data:'"
            ],
            "application/vnd.google.colaboratory.intrinsic+json": {
              "type": "string"
            }
          },
          "metadata": {}
        },
        {
          "output_type": "display_data",
          "data": {
            "text/plain": [
              "'Voting is under way for the annual Bloggies which recognise the best web blogs - online spaces where people publish their thoughts - of the year.\\n\\nNominations were announced on Sunday, but traffic to the official site was so heavy that the website was temporarily closed because of too many visitors. Weblogs have been nominated in 30 categories, from the top regional blog, to the best-kept-secret blog. Blogs had a huge year, with a top US dictionary naming \"blog\" word of 2004. Technorati, a blog search engine, tracks about six million blogs and says that more than 12,000 are added daily. A blog is created every 5.8 seconds, according to US research think-tank Pew Internet and American Life, but less than 40% of the total are updated at least once every two months.\\n\\nNikolai Nolan, who has run the Bloggies for the past five years, told the BBC News website he was not too surprised by the amount of voters who crowded the site. \"The awards always get a lot of traffic; this was just my first year on a server with a bandwidth limit, so I had to guess how much I\\'d need,\" he said. There were many new finalists this year, he added, and a few that had won Bloggies before. Several entries reflected specific news events. \"There are four nominations for the South-East Asia Earthquake and Tsunami Blog, which is a pretty timely one for 2005,\" said Mr Nolan.\\n\\nThe big Bloggies battle will be for the ultimate prize of blog of the year. The nominated blogs are wide-ranging covering what is in the news to quirky sites of interest. Fighting it out for the coveted award are Gawker, This Fish Needs a Bicycle, Wonkette, Boing Boing, and Gothamist. In a sign that blogs are playing an increasingly key part in spreading news and current affairs, The South-East Asia Earthquake and Tsunami Blog is also nominated in the best overall category. GreenFairyDotcom, Londonist, Hicksdesign, PlasticBag and London Underground Tube Blog are the nominees in the best British or Irish weblog.\\n\\nIncluded in the other categories is best \"meme\". This is for the top \"replicating idea that spread about weblogs\". Nominations include Flickr, a web photo album which lets people upload, tag, share and publish their images to blogs. Podcasting has also made an appearance in the category. It is an increasingly popular idea that makes use of RSS (really simple syndication) and audio technology to let people easily make their own radio shows, and distribute them automatically onto portable devices.\\n\\nMany are done by those who already have text-based blogs, so they are almost like audio blogs. Three new categories have been added to the list this year, including best food, best entertainment, and best writing of a weblog. One of the categories that was scrapped though was best music blog. The winners of the fifth annual Bloggies are chosen by the public. Public voting closes on 3 February and the winners will be announced sometime between 13 and 15 March.\\n\\nThe BBC\\'s online search engine was used a record amount in 2004, helping with enquires both simple and strange.\\n\\nMore than 277 million enquiries were made, asking for informaton of a wide range of subjects. The most requested search terms of 2004 included games, EastEnders, CBBC, John Peel, Harry Potter and Olympics. But there were many strange enquiries, including: what is a dog?, how do you say basketball? and what is the biggest collection of naval fluff? The search engine works by matching key words typed in to different web pages but many people still type in natural language questions. Here are some of the strangest queries of 2004 - spelling and grammar errors left untouched - and their possible solutions:\\n\\n\\n - How to fold a serviette like an elf\\'s boot? \\n \\n\\n\\n - How do I structure a French letter? \\n \\n\\n\\n - What is better one long vacation each year or several short vacations throughout the year? \\n \\n\\n\\n - What is so special about the Swiss? \\n \\n\\n\\n - What are the contemporary issue in nurses? \\n \\n\\n\\n - What is the number 4 in this number 40052308090? \\n \\n\\n\\n - What is up? \\n \\n\\n\\n - What is the name of James Martin\\'s dog? \\n \\n\\nSearch engines are key to the way people use the internet. Companies such as Google have become of paramount importance as they dictate how people travel through websites while online.\\n\\nThe Apple Powerbook 100 has been chosen as the greatest gadget of all time, by US magazine Mobile PC.\\n\\nThe 1991 laptop was chosen because it was one of the first \"lightweight\" portable computers and helped define the layout of all future notebook PCs. The magazine has compiled an all-time top 100 list of gadgets, which includes the Sony Walkman at number three and the 1956 Zenith remote control at two. Gadgets needed moving parts and/or electronics to warrant inclusion. The magazine staff compiled the list and specified that gadgets also needed to be a \"self-contained apparatus that can be used on its own, not a subset of another device\".\\n\\n\"In general we included only items that were potentially mobile,\" said the magazine.\\n\\n\"In the end, we tried to get to the heart of what really makes a gadget a gadget,\" it concluded. The oldest \"gadget\" in the top 100 is the abacus, which the magazine dates at 190 A.D., and put in 60th place. Other pre-electronic gadgets in the top 100 include the sextant from 1731 (59th position), the marine chronometer from 1761 (42nd position) and the Kodak Brownie camera from 1900 (28th position). The Tivo personal video recorder is the newest device to make the top 10, which also includes the first flash mp3 player (Diamond Multimedia), as well as the first \"successful\" digital camera (Casio QV-10) and mobile phone (Motorola Startac). The most popular gadget of the moment, the Apple iPod, is at number 12 in the list while the first Sony transistor radio is at number 13.\\n\\nSony\\'s third entry in the top 20 is the CDP-101 CD player from 1983. \"Who can forget the crystalline, hiss-free blast of Madonna\\'s Like A Virgin emanating from their first CD player?\" asked the magazine. Karl Elsener\\'s knife, the Swiss Army Knife from 1891, is at number 20 in the list. Gadgets which could be said to feature surprisingly low down in the list include the original telephone (23rd), the Nintendo GameBoy (25th), and the Pulsar quartz digital watch (36th). The list also contains plenty of oddities: the Pez sweet dispenser (98th), 1990s toy Tamagotchi (86th) and the bizarre Ronco inside the shell egg scrambler (84th).\\n\\nAlmost everyone has a mobile phone, how many people own a Powerbook? or an iPod? The findings of this magazine are not very convincing.\\n\\nWhat about the magnetic compass? We still use it 1,000 years after it was invented.\\n\\nI am amazed by the obsession with individual gadgets rather than genre. For example the Sony walkman was the first truly portable way of listening to your own music on the move whereas Minidisc, Flash MP3, portable CD players etc. are really just improvements in technology.\\n\\nMy favourite \\'true\\' gadgets are probably my portable MiniDisc player and the little battery powered whizzy thing I use to froth up my coffee!\\n\\nCalm down it\\'s only in their opinion, and any list that includes the Taser in the top 100 gadgets has to be suspect....\\n\\nSwiss army knife and no question about it. How many of the other items are still relatively unchanged from the original idea and still as useful/popular? You don\\'t need a laptop or even a pocket calculator to work that one out!\\n\\nThis list merely illustrates interesting cultural divides between the American authors and the overwhelmingly British responses. Brits see no further than mobile phones and the over thirties Sinclair; whilst the Americans focus on Apple, TV remotes and TiVO (which probably is rather obscure in Europe).\\n\\nWhat about the Soda Stream. This gadget changed my pre-teen life. Lap tops may enable you to \"think different, but you cant use them to \"get busy with the fizzy\"\\n\\nHow about Astro Wars, one of the pioneers for computer games, i remember spending many an hour playing this and it still works today! However tried it the other day and it was rubbish, still a great gadget of its time.\\n\\nWhy worry about mobile phones. Soon they will be subsumed into the PDA\\'s / laptops etc.\\n\\nWhat about the Marine Chronometer? Completely revolutionised navigation for boats and was in use for centuries. For it\\'s time, a technological marvel!\\n\\nSony Net Minidisc! It paved the way for more mp3 player to explode onto the market. I always used my NetMD, and could not go anywhere without it.\\n\\nA laptop computer is not a gadget! It\\'s a working tool!\\n\\nThe Sinclair Executive was the world\\'s first pocket calculator. I think this should be there as well.\\n\\nHow about the clockwork radio? Or GPS? Or a pocket calculator? All these things are useful to real people, not just PC magazine editors.\\n\\nAre the people who created this list insane ? Surely the most important gadget of the modern age is the mobile phone? It has revolutionised communication, which is more than can be said for a niche market laptop. From outside the modern age, the marine chronometer is the single most important gadget, without which modern transportation systems would not have evolved so quickly.\\n\\nHas everyone forgot about the Breville pie maker??\\n\\nAn interesting list. Of the electronic gadgets, thousands of journalists in the early 1980s blessed the original noteboook pc - the Tandy 100. The size of A4 paper and light, three weeks on a set of batteries, an excellent keyboard, a modem. A pity Tandy did not make it DOS compatible.\\n\\nWhat\\'s an Apple Powerbook 100 ? It\\'s out of date - not much of a \"gadget\". Surely it has to be something simple / timeless - the tin opener, Swiss Army Knife, safety razor blade, wristwatch or the thing for taking stones out of horses hooves ?\\n\\nIt has to be the mobile phone. No other single device has had such an effect on our way of living in such a short space of time.\\n\\nThe ball point pen has got to be one of the most used and common gadgets ever. Also many might be grateful for the pocket calculator which was a great improvement over the slide rule.\\n\\nThe Casio pocket calculator that played a simple game and made tinny noises was also a hot gadget in 1980. A true gadget, it could be carried around and shown off.\\n\\nAll top 10 are electronic toys, so the list is probably a better reflection of the current high-tech obsession than anything else. I say this as the Swiss Army Knife only made No 20.\\n\\nSinclair QL a machine far ahead of its time. The first home machine with a true multi-takings OS. Shame the marketing was so bad!!!\\n\\nApple.. a triumph of fashion over... well everything else.\\n\\nUtter rubbish. Yes, the Apple laptop and Sony Walkman are classic gadgets. But to call the sextant and the marine chronometer \\'gadgets\\' and rank them as less important than a TV remote control reveals a quite shocking lack of historical perspective. The former literally helped change the world by vastly improving navigation at see. The latter is the seed around which the couch potato culture has developed. No competition.\\n\\nI\\'d also put Apple\\'s Newton and the first Palm Pilot there as the front runners for portable computing, and possibly the Toshiba Libretto for the same reason. I only wish that Vulcan Inc\\'s Flipstart wasn\\'t just vapourware otherwise it would be at the top.\\n\\nHow did a laptop ever manage to beat off the challenge of the wristwatch or the telephone (mobile or otherwise)? What about radios and TVs?\\n\\nThe swiss army knife. By far the most useful gadget. I got mine 12 years ago. Still wearing and using it a lot! It stood the test of time.\\n\\nPsion Organiser series 3, should be up there. Had a usable qwerty keyboard, removable storage, good set of apps and programmable. Case design was good (batteries in the hinge - a first, I think). Great product innovation.\\n\\nThe first mobile PC was voted best gadget by readers of...err... mobile PC?! Why do you keep putting these obviously biased lists on your site? It\\'s obviously the mobile phone or remote control, and readers of a less partisan publication would tell you that.\\n\\nThe Motorola Startac should be Number One. Why? There will be mobile phones long after notebook computers and other gadgets are either gone or integrated in communications devices.\\n\\nThe Psion series 3c! The first most practical way to carry all your info around...\\n\\nI too would back the Sinclair Spectrum - without this little beauty I would never have moved into the world of IT and earn the living that I do now.\\n\\nI\\'d have put the mobile phone high up the list. Probably a Nokia model.\\n\\nSinclair Spectrum - 16k. It plugged into the tv. Games were rubbish but it gave me a taste for programming and that\\'s what I do for a living now.\\n\\nI wish more modern notebooks -- even Apple\\'s newest offerings -- were more like the PB100. Particularly disheartening is the demise of the trackball, which has given way to the largely useless \"trackpad\" which every notebook on the market today uses. They\\'re invariably inaccurate, uncomfortable, and cumbersome to use.\\n\\nCongratulations to Apple, a deserved win!\\n\\nThe Apple Powerbook 100 has been chosen as the greatest gadget of all time, by US magazine Mobile PC.\\n\\nThe 1991 laptop was chosen because it was one of the first \"lightweight\" portable computers and helped define the layout of all future notebook PCs. The magazine has compiled an all-time top 100 list of gadgets, which includes the Sony Walkman at number three and the 1956 Zenith remote control at two. Gadgets needed moving parts and/or electronics to warrant inclusion. The magazine specified that gadgets also needed to be a \"self-contained apparatus that can be used on its own, not a subset of another device\".\\n\\n\"In general we included only items that were potentially mobile,\" said the magazine.\\n\\n\"In the end, we tried to get to the heart of what really makes a gadget a gadget,\" it concluded. The oldest \"gadget\" in the top 100 is the abacus, which the magazine dates at 190 A.D., and put in 60th place. Other pre-electronic gadgets in the top 100 include the sextant from 1731 (59th position), the marine chronometer from 1761 (42nd position) and the Kodak Brownie camera from 1900 (28th position). The Tivo personal video recorder is the newest device to make the top 10, which also includes the first flash mp3 player (Diamound Multimedia), as well as the first \"successful\" digital camera (Casio QV-10) and mobile phone (Motorola Startac). The most popular gadget of the moment, the Apple iPod, is at number 12 in the list while the first Sony transistor radio is at number 13.\\n\\nSony\\'s third entry in the top 20 is the CDP-101 CD player from 1983. \"Who can forget the crystalline, hiss-free blast of Madonna\\'s Like A Virgin emenating from their first CD player?\" asked the magazine. Karl Elsener\\'s knife, the Swiss Army Knife from 1891, is at number 20 in the list. Gadgets which could be said to feature surprisngly low down in the list include the original telephone (23rd), the Nintendo GameBoy (25th), and the Pulsar quartz digital watch (36th). The list also contains plenty of oddities: the Pez sweet dispenser (98th), 1980s toy Tamagotchi (86th) and the bizarre Ronco inside the shell egg scrambler (84th).\\n\\nWhy worry about mobile phones. Soon they will be subsumed into the PDA\\'s / laptops etc.\\n\\nWhat about the Marine Chronometer? Completely revolutionised navigation for boats and was in use for centuries. For it\\'s time, a technological marvel!\\n\\nSony Net Minidisc! It paved the way for more mp3 player to explode onto the market. I always used my NetMD, and could not go anywhere without it.\\n\\nA laptop computer is not a gadget! It\\'s a working tool!\\n\\nThe Sinclair Executive was the world\\'s first pocket calculator. I think this should be there as well.\\n\\nHow about the clockwork radio? Or GPS? Or a pocket calculator? All these things are useful to real people, not just PC magazine editors.\\n\\nAre the people who created this list insane ? Surely the most important gadget of the modern age is the mobile phone? It has revolutionalised communication, which is more than can be said for a niche market laptop. From outside the modern age, the marine chronometer is the single most important gadget, without which modern transportation systems would not have evolved so quickly.\\n\\nHas everyone forgot about the Breville pie maker??\\n\\nAn interesting list. Of the electronic gadgets, thousands of journalists in the early 1980s blessed the original noteboook pc - the Tandy 100. The size of A4 paper and light, three weeks on a set of batteries, an excellent keyboard, a modem. A pity Tandy did not make it DOS compatible.\\n\\nWhat\\'s an Apple Powerbook 100 ? It\\'s out of date - not much of a \"gadget\". Surely it has to be something simple / timeless - the tin opener, Swiss Army Knife, safety razor blade, wristwatch or the thing for taking stones out of horses hooves ?\\n\\nIt has to be the mobile phone. No other single device has had such an effect on our way of living in such a short space of time.\\n\\nThe ball point pen has got to be one of the most used and common gadgets ever. Also many might be grateful for the pocket calculator which was a great improvement over the slide rule.\\n\\nThe Casio pocket calculator that played a simple game and made tinny noises was also a hot gadget in 1980. A true gadget, it could be carried around and shown off.\\n\\nAll top 10 are electronic toys, so the list is probably a better reflection of the current high-tech obsession than anyhting else. I say this as the Swiss Army Knife only made No 20.\\n\\nSinclair QL a machine far ahead of its time. The first home machine with a true multi-takings OS. Shame the marketing was so bad!!!\\n\\nApple.. a triumph of fashion over... well everything else.\\n\\nUtter rubbish. Yes, the Apple laptop and Sony Walkman are classic gadgets. But to call the sextant and the marine chronometer \\'gadgets\\' and rank them as less important than a TV remote control reveals a quite shocking lack of historical perspective. The former literally helped change the world by vastly improving navigation at see. The latter is the seed around which the couch potato culture has developed. No competition.\\n\\nI\\'d also put Apple\\'s Newton and the first Palm Pilot there as the front runners for portable computing, and possibly the Toshiba Libretto for the same reason. I only wish that Vulcan Inc\\'s Flipstart wasn\\'t just vapourware otherwise it would be at the top.\\n\\nHow did a laptop ever manage to beat off the challenge of the wristwatch or the telephone (mobile or otherwise)? What about radios and TVs?\\n\\nThe swiss army knife. By far the most useful gadget. I got mine 12 years ago. Still wearing and using it a lot! It stood the test of time.\\n\\nPsion Organiser series 3, should be up there. Had a usable qwerty keyboard, removable storage, good set of apps and programmable. Case design was good (batteries in the hinge - a first, I think). Great product innovation.\\n\\nThe first mobile PC was voted best gadget by readers of...err... mobile PC?! Why do you keep putting these obviously biased lists on your site? It\\'s obviously the mobile phone or remote control, and readers of a less partisan publication would tell you that.\\n\\nThe Motorola Startac should be Number One. Why? There will be mobile phones long after notebook computers and other gadgets are either gone or integrated in communications devices.\\n\\nThe Psion series 3c! The first most practical way to carry all your info around...\\n\\nI too would back the Sinclair Spectrum - without this little beauty I would never have moved into the world of IT and earn the living that I do now.\\n\\nI\\'d have put the mobile phone high up the list. Probably a Nokia model.\\n\\nSinclair Spectrum - 16k. It plugged into the tv. Games were rubbish but it gave me a taste for programming and that\\'s what I do for a living now.\\n\\nI wish more modern notebooks -- even Apple\\'s newest offerings -- were more like the PB100. Particularly disheartening is the demise of the trackball, which has given way to the largely useless \"trackpad\" which every notebook on the market today uses. They\\'re invariably inaccurate, uncomfortable, and cumbersome to use.\\n\\nCongratulations to Apple, a deserved win!\\n\\nThe Six Nations has heralded a new order in northern hemisphere rugby this year and Wales and Ireland rather than traditional big guns France and England face a potential Grand Slam play-off in three weeks\\' time.\\n\\nBut before that game in Cardiff, Wales must get past Scotland at Murrayfield, while Ireland face the not insignificant task of a home fixture with the mercurial French. No-one knows what mood France will be in at Lansdowne Road on 12 March - sublime, as in the first half against Wales, or ridiculous, like in the same period against England at Twickenham. But how the mighty have fallen. England sat on rugby\\'s summit 15 months ago as world champions and 2003 Grand Slam winners. But they have lost nine of their 14 matches since that heady night in Sydney. And they face the ignominy of what could amount to a Wooden Spoon play-off against Italy in a fortnight.\\n\\nEngland are enduring their worst run in the championship since captain Richard Hill was dumped in favour of Mike Harrison after three straight losses in 1987. Coach Andy Robinson, who took over from the successful Sir Clive Woodward in September, has lost a phalanx of World Cup stars. And he is enduring the toughest of teething problems in bedding down his own style with a new team. The same year that England ruled the roost, a woeful Wales lost all five matches in the Six Nations. And they won only two games, against Scotland and Italy, in 2004. Wales\\' most recent championship title was in 1994, and their last Grand Slam success came in 1978 in the era of Gareth Edwards, Phil Bennett, JPR Williams et al.\\n\\nBut Welsh rugby fans remain on permanent tenterhooks for the blossoming of a new golden age. After several false dawns, coach Mike Ruddock may have come up with the team and philosophy to match expectations. The fresh verve is inspired by skipper Gareth Thomas, now out with a broken thumb, accurate kicking from either fly-half Stephen Jones or centre Gavin Henson, a rampant Martyn Williams leading the way up front, and exciting runners in the guise of Henson and Shane Williams. Ireland coach Eddie O\\'Sullivan and captain Brian O\\'Driscoll have got their side buzzing too, and they are close to shedding the \"nearly-men\" tag that has dogged them for the past few years. The men from the Emerald Isle have been Six Nations runners-up for the past two years, to France and England.\\n\\nBut they have not won the title since 1985 and last clinched a Grand Slam in 1948. As for Scotland, they have struggled this decade and the 2004 Wooden Spoon \"winners\" have not been in the top two since they lifted the title in 1999. Italy continue the elusive search for their first Six Nations away win, and can still only account for the scalps of Scotland (twice) and Wales since joining the elite in 2000. Coach John Kirwan is a passionate and dedicated believer in the Azzurri, but is lacking in raw materials. And so to France. Brilliant one minute, inept the next. But the reigning champions could quite easily turn on the style in Dublin and end up winning the title through the back door. Ireland, though, have won three times in their last five meetings. Welsh romantics would probably prefer a glorious victory in the Celtic showdown to crown their Grand Slam. But given that Ireland have beaten Wales in four of their last five meetings, the Welsh legions are likely to be behind Les Bleus on 12 March.\\n\\n'"
            ],
            "application/vnd.google.colaboratory.intrinsic+json": {
              "type": "string"
            }
          },
          "metadata": {}
        },
        {
          "output_type": "display_data",
          "data": {
            "text/plain": [
              "' . . . '"
            ],
            "application/vnd.google.colaboratory.intrinsic+json": {
              "type": "string"
            }
          },
          "metadata": {}
        },
        {
          "output_type": "display_data",
          "data": {
            "text/plain": [
              "'User Question:'"
            ],
            "application/vnd.google.colaboratory.intrinsic+json": {
              "type": "string"
            }
          },
          "metadata": {}
        }
      ]
    },
    {
      "cell_type": "code",
      "source": [],
      "metadata": {
        "id": "7uJ_c3lEagLQ"
      },
      "id": "7uJ_c3lEagLQ",
      "execution_count": null,
      "outputs": []
    }
  ],
  "metadata": {
    "kernelspec": {
      "display_name": "Python 3",
      "language": "python",
      "name": "python3"
    },
    "language_info": {
      "codemirror_mode": {
        "name": "ipython",
        "version": 3
      },
      "file_extension": ".py",
      "mimetype": "text/x-python",
      "name": "python",
      "nbconvert_exporter": "python",
      "pygments_lexer": "ipython3",
      "version": "3.10.10"
    },
    "colab": {
      "provenance": [],
      "name": "student-00-655e8d5fdad7 (Nov 26, 2024, 10:52:00 AM)"
    }
  },
  "nbformat": 4,
  "nbformat_minor": 5
}