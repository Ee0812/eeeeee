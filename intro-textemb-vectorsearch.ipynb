{
 "cells": [
  {
   "cell_type": "code",
   "execution_count": null,
   "metadata": {
    "id": "c3_K0GGSTrhd"
   },
   "outputs": [],
   "source": [
    "# Copyright 2023 Google LLC\n",
    "#\n",
    "# Licensed under the Apache License, Version 2.0 (the \"License\");\n",
    "# you may not use this file except in compliance with the License.\n",
    "# You may obtain a copy of the License at\n",
    "#\n",
    "#     https://www.apache.org/licenses/LICENSE-2.0\n",
    "#\n",
    "# Unless required by applicable law or agreed to in writing, software\n",
    "# distributed under the License is distributed on an \"AS IS\" BASIS,\n",
    "# WITHOUT WARRANTIES OR CONDITIONS OF ANY KIND, either express or implied.\n",
    "# See the License for the specific language governing permissions and\n",
    "# limitations under the License."
   ]
  },
  {
   "cell_type": "markdown",
   "metadata": {
    "id": "7VQkf8sFTeDo"
   },
   "source": [
    "# Getting Started with Text Embeddings + Vertex AI Vector Search\n",
    "\n",
    "\n",
    "<table align=\"left\">\n",
    "  <td style=\"text-align: center\">\n",
    "    <a href=\"https://colab.research.google.com/github/GoogleCloudPlatform/generative-ai/blob/main/embeddings/intro-textemb-vectorsearch.ipynb\">\n",
    "      <img width=\"32px\" src=\"https://www.gstatic.com/pantheon/images/bigquery/welcome_page/colab-logo.svg\" alt=\"Google Colaboratory logo\"><br> Open in Colab\n",
    "    </a>\n",
    "  </td>\n",
    "  <td style=\"text-align: center\">\n",
    "    <a href=\"https://console.cloud.google.com/vertex-ai/colab/import/https:%2F%2Fraw.githubusercontent.com%2FGoogleCloudPlatform%2Fgenerative-ai%2Fmain%2Fembeddings%2Fintro-textemb-vectorsearch.ipynb\">\n",
    "      <img width=\"32px\" src=\"https://lh3.googleusercontent.com/JmcxdQi-qOpctIvWKgPtrzZdJJK-J3sWE1RsfjZNwshCFgE_9fULcNpuXYTilIR2hjwN\" alt=\"Google Cloud Colab Enterprise logo\"><br> Open in Colab Enterprise\n",
    "    </a>\n",
    "  </td>\n",
    "  <td style=\"text-align: center\">\n",
    "    <a href=\"https://console.cloud.google.com/vertex-ai/workbench/deploy-notebook?download_url=https://raw.githubusercontent.com/GoogleCloudPlatform/generative-ai/main/embeddings/intro-textemb-vectorsearch.ipynb\">\n",
    "      <img src=\"https://www.gstatic.com/images/branding/gcpiconscolors/vertexai/v1/32px.svg\" alt=\"Vertex AI logo\"><br> Open in Vertex AI Workbench\n",
    "    </a>\n",
    "  </td>\n",
    "  <td style=\"text-align: center\">\n",
    "    <a href=\"https://console.cloud.google.com/bigquery/import?url=https://github.com/GoogleCloudPlatform/generative-ai/blob/main/embeddings/intro-textemb-vectorsearch.ipynb\">\n",
    "      <img src=\"https://www.gstatic.com/images/branding/gcpiconscolors/bigquery/v1/32px.svg\" alt=\"BigQuery Studio logo\"><br> Open in BigQuery Studio\n",
    "    </a>\n",
    "  </td>\n",
    "  <td style=\"text-align: center\">\n",
    "    <a href=\"https://github.com/GoogleCloudPlatform/generative-ai/blob/main/embeddings/intro-textemb-vectorsearch.ipynb\">\n",
    "      <img width=\"32px\" src=\"https://upload.wikimedia.org/wikipedia/commons/9/91/Octicons-mark-github.svg\" alt=\"GitHub logo\"><br> View on GitHub\n",
    "    </a>\n",
    "  </td>\n",
    "</table>\n",
    "\n",
    "<div style=\"clear: both;\"></div>\n",
    "\n",
    "<b>Share to:</b>\n",
    "\n",
    "<a href=\"https://www.linkedin.com/sharing/share-offsite/?url=https%3A//github.com/GoogleCloudPlatform/generative-ai/blob/main/embeddings/intro-textemb-vectorsearch.ipynb\" target=\"_blank\">\n",
    "  <img width=\"20px\" src=\"https://upload.wikimedia.org/wikipedia/commons/8/81/LinkedIn_icon.svg\" alt=\"LinkedIn logo\">\n",
    "</a>\n",
    "\n",
    "<a href=\"https://bsky.app/intent/compose?text=https%3A//github.com/GoogleCloudPlatform/generative-ai/blob/main/embeddings/intro-textemb-vectorsearch.ipynb\" target=\"_blank\">\n",
    "  <img width=\"20px\" src=\"https://upload.wikimedia.org/wikipedia/commons/7/7a/Bluesky_Logo.svg\" alt=\"Bluesky logo\">\n",
    "</a>\n",
    "\n",
    "<a href=\"https://twitter.com/intent/tweet?url=https%3A//github.com/GoogleCloudPlatform/generative-ai/blob/main/embeddings/intro-textemb-vectorsearch.ipynb\" target=\"_blank\">\n",
    "  <img width=\"20px\" src=\"https://upload.wikimedia.org/wikipedia/commons/5/53/X_logo_2023_original.svg\" alt=\"X logo\">\n",
    "</a>\n",
    "\n",
    "<a href=\"https://reddit.com/submit?url=https%3A//github.com/GoogleCloudPlatform/generative-ai/blob/main/embeddings/intro-textemb-vectorsearch.ipynb\" target=\"_blank\">\n",
    "  <img width=\"20px\" src=\"https://redditinc.com/hubfs/Reddit%20Inc/Brand/Reddit_Logo.png\" alt=\"Reddit logo\">\n",
    "</a>\n",
    "\n",
    "<a href=\"https://www.facebook.com/sharer/sharer.php?u=https%3A//github.com/GoogleCloudPlatform/generative-ai/blob/main/embeddings/intro-textemb-vectorsearch.ipynb\" target=\"_blank\">\n",
    "  <img width=\"20px\" src=\"https://upload.wikimedia.org/wikipedia/commons/5/51/Facebook_f_logo_%282019%29.svg\" alt=\"Facebook logo\">\n",
    "</a>            "
   ]
  },
  {
   "cell_type": "markdown",
   "metadata": {
    "id": "4d742715e6de"
   },
   "source": [
    "| | |\n",
    "|-|-|\n",
    "|Author(s) | [Smitha Venkat](https://github.com/smitha-google), [Kaz Sato](https://github.com/kazunori279)|"
   ]
  },
  {
   "cell_type": "markdown",
   "metadata": {
    "id": "25a71983a324"
   },
   "source": [
    "## Introduction\n",
    "\n",
    "In this tutorial, you learn how to use Google Cloud AI tools to quickly bring the power of Large Language Models to enterprise systems.  \n",
    "\n",
    "This tutorial covers the following -\n",
    "\n",
    "*   What are embeddings - what business challenges do they help solve ?\n",
    "*   Understanding Text with Vertex AI Text Embeddings\n",
    "*   Find Embeddings fast with Vertex AI Vector Search\n",
    "*   Grounding LLM outputs with Vector Search\n",
    "\n",
    "This tutorial is based on [the blog post](https://cloud.google.com/blog/products/ai-machine-learning/how-to-use-grounding-for-your-llms-with-text-embeddings), combined with sample code.\n",
    "\n",
    "\n",
    "### Prerequisites\n",
    "\n",
    "This tutorial is designed for developers who has basic knowledge and experience with Python programming and machine learning.\n",
    "\n",
    "If you are not reading this tutorial in Qwiklab, then you need to have a Google Cloud project that is linked to a billing account to run this. Please go through [this document](https://cloud.google.com/vertex-ai/docs/start/cloud-environment) to create a project and setup a billing account for it.\n",
    "\n",
    "### Choose the runtime environment\n",
    "\n",
    "The notebook can be run on either Google Colab or [Vertex AI Workbench](https://cloud.google.com/vertex-ai-workbench).\n",
    "\n",
    "- To use Colab: Click [this link](https://colab.research.google.com/github/GoogleCloudPlatform/generative-ai/blob/main/embeddings/intro-textemb-vectorsearch.ipynb) to open the tutorial in Colab.\n",
    "\n",
    "- To use Workbench: If it is the first time to use Workbench in your Google Cloud project, open [the Workbench console](https://console.cloud.google.com/vertex-ai/workbench) and click ENABLE button to enable Notebooks API. Then click [this link](https://console.cloud.google.com/vertex-ai/workbench/deploy-notebook?download_url=https://raw.githubusercontent.com/GoogleCloudPlatform/generative-ai/main/embeddings/intro-textemb-vectorsearch.ipynb),  and select an existing notebook or create a new notebook.\n"
   ]
  },
  {
   "cell_type": "markdown",
   "metadata": {
    "id": "2pImjuenUIQz"
   },
   "source": [
    "### How much will this cost?\n",
    "\n",
    "In case you are using your own Cloud project, not a temporary project on Qwiklab, you need to spend roughly a few US dollars to finish this tutorial.\n",
    "\n",
    "The pricing of the Cloud services we will use in this tutorial are available in the following pages:\n",
    "\n",
    "- [Vertex AI Embeddings for Text](https://cloud.google.com/vertex-ai/pricing#generative_ai_models)\n",
    "- [Vertex AI Vector Search](https://cloud.google.com/vertex-ai/pricing#matchingengine)\n",
    "- [BigQuery](https://cloud.google.com/bigquery/pricing)\n",
    "- [Cloud Storage](https://cloud.google.com/storage/pricing)\n",
    "- [Vertex AI Workbench](https://cloud.google.com/vertex-ai/pricing#notebooks) if you use one\n",
    "\n",
    "You can use the [Pricing Calculator](https://cloud.google.com/products/calculator) to generate a cost estimate based on your projected usage. The following is an example of rough cost estimation with the calculator, assuming you will go through this tutorial a couple of time.\n",
    "\n",
    "<img src=\"https://storage.googleapis.com/github-repo/img/embeddings/vs-quickstart/pricing.png\" width=\"50%\"/>\n",
    "\n",
    "### **Warning: delete your objects after the tutorial**\n",
    "\n",
    "In case you are using your own Cloud project, please make sure to delete all the Indexes, Index Endpoints and Cloud Storage buckets (and the Workbench instance if you use one) after finishing this tutorial. Otherwise the remaining assets would incur unexpected costs.\n"
   ]
  },
  {
   "cell_type": "markdown",
   "metadata": {
    "id": "6Fu2OoUDTQ6w"
   },
   "source": [
    "# Bringing Gen AI and LLMs to production services\n",
    "\n",
    "Many people are now starting to think about how to bring Gen AI and LLMs to production services, and facing with several challenges.\n",
    "\n",
    "- \"How to integrate LLMs or AI chatbots with existing IT systems, databases and business data?\"\n",
    "- \"We have thousands of products. How can I let LLM memorize them all precisely?\"\n",
    "- \"How to handle the hallucination issues in AI chatbots to build a reliable service?\"\n",
    "\n",
    "Here is a quick solution: **grounding** with **embeddings** and **vector search**.\n",
    "\n",
    "What is grounding? What are embedding and vector search? In this tutorial, we will learn these crucial concepts to build reliable Gen AI services for enterprise use. But before we dive deeper, let's try the demo below."
   ]
  },
  {
   "cell_type": "markdown",
   "metadata": {
    "id": "ORqZYLgTm9pJ"
   },
   "source": [
    "![](https://storage.googleapis.com/gweb-cloudblog-publish/original_images/1._demo_animation.gif)\n",
    "\n",
    "**Exercise: Try the Stack Overflow semantic search demo:**\n",
    "\n",
    "This demo is available as a [public live demo](https://ai-demos.dev/). Select \"STACKOVERFLOW\" and enter any coding question as a query, so it runs a text search on **8 million** questions posted on [Stack Overflow](https://stackoverflow.com/). Try the text semantic search with some queries like 'How to shuffle rows in SQL?' or arbitrary programming questions.\n",
    "\n",
    "In this tutorial, we are going to see how to build a similar search experience - what is involved in building solutions like this using Vertex AI Embeddings API and Vector Search."
   ]
  },
  {
   "cell_type": "markdown",
   "metadata": {
    "id": "H1MAIOkCw35V"
   },
   "source": [
    "# What is Embeddings?\n",
    "\n",
    "With the rise of LLMs, why is it becoming important for IT engineers and ITDMs to understand how they work?\n",
    "\n",
    "In traditional IT systems, most data is organized as structured or tabular data, using simple keywords, labels, and categories in databases and search engines.\n",
    "\n",
    "![](https://storage.googleapis.com/github-repo/img/embeddings/textemb-vs-notebook/1.png)\n",
    "\n",
    "In contrast, AI-powered services arrange data into a simple data structure known as \"embeddings.\"\n",
    "\n",
    "![](https://storage.googleapis.com/github-repo/img/embeddings/textemb-vs-notebook/2.png)"
   ]
  },
  {
   "cell_type": "markdown",
   "metadata": {
    "id": "hJqjBmQsxz2Z"
   },
   "source": [
    "Once trained with specific content like text, images, or any content, AI creates a space called \"embedding space\", which is essentially a map of the content's meaning.\n",
    "\n",
    "![](https://storage.googleapis.com/github-repo/img/embeddings/textemb-vs-notebook/3.png)\n",
    "\n",
    "AI can identify the location of each content on the map, that's what embedding is.\n",
    "\n",
    "![](https://storage.googleapis.com/github-repo/img/embeddings/textemb-vs-notebook/4.png)\n",
    "\n",
    "Let's take an example where a text discusses movies, music, and actors, with a distribution of 10%, 2%, and 30%, respectively. In this case, the AI can create an embedding with three values: 0.1, 0.02, and 0.3, in 3 dimensional space.\n",
    "\n",
    "![](https://storage.googleapis.com/github-repo/img/embeddings/textemb-vs-notebook/5.png)\n",
    "\n",
    "AI can put content with similar meanings closely together in the space."
   ]
  },
  {
   "cell_type": "markdown",
   "metadata": {
    "id": "A5z7vyTyzk_4"
   },
   "source": [
    "This is how Google organizes data across various services like Google Search, YouTube, Play, and many others, to provide search results and recommendations with relevant content.\n",
    "\n",
    "Embeddings can also be used to represent different types of things in businesses, such as products, users, user activities, conversations, music & videos, signals from IoT sensors, and so on."
   ]
  },
  {
   "cell_type": "markdown",
   "metadata": {
    "id": "tpKVmyEe0ab9"
   },
   "source": [
    "AI and Embeddings are now playing a crucial role in creating a new way of human-computer interaction.\n",
    "\n",
    "![](https://storage.googleapis.com/github-repo/img/embeddings/textemb-vs-notebook/6.png)\n",
    "\n",
    "AI organizes data into embeddings, which represent what the user is looking for, the meaning of contents, or many other things you have in your business. This creates a new level of user experience that is becoming the new standard.\n",
    "\n",
    "To learn more about embeddings, [Foundational courses: Embeddings on Google Machine Learning Crush Course](https://developers.google.com/machine-learning/crash-course/embeddings/video-lecture) and [Meet AI's multitool: Vector embeddings by Dale Markowitz](https://cloud.google.com/blog/topics/developers-practitioners/meet-ais-multitool-vector-embeddings) are great materials.\n"
   ]
  },
  {
   "cell_type": "markdown",
   "metadata": {
    "id": "ovQpiL2GUEXa"
   },
   "source": [
    "# Vertex AI Embeddings for Text\n",
    "\n",
    "With the [Vertex AI Embeddings for Text](https://cloud.google.com/vertex-ai/docs/generative-ai/embeddings/get-text-embeddings), you can easily create a text embedding with LLM. The product is also available on [Vertex AI Model Garden](https://cloud.google.com/model-garden)\n",
    "\n",
    "![](https://storage.googleapis.com/github-repo/img/embeddings/textemb-vs-notebook/7.png)\n",
    "\n",
    "This API is designed to extract embeddings from texts. It can take text input up to 2048 input tokens, and outputs 768 dimensional text embeddings."
   ]
  },
  {
   "cell_type": "markdown",
   "metadata": {
    "id": "nwJHDPG7lU52"
   },
   "source": [
    "## LLM text embedding business use cases\n",
    "\n",
    "With the embedding API, you can apply the innovation of embeddings, combined with the LLM capability, to various text processing tasks, such as:\n",
    "\n",
    "**LLM-enabled Semantic Search**: text embeddings can be used to represent both the meaning and intent of a user's query and documents in the embedding space. Documents that have similar meaning to the user's query intent will be found fast with vector search technology. The model is capable of generating text embeddings that capture the subtle nuances of each sentence and paragraphs in the document.\n",
    "\n",
    "**LLM-enabled Text Classification**: LLM text embeddings can be used for text classification with a deep understanding of different contexts without any training or fine-tuning (so-called zero-shot learning). This wasn't possible with the past language models without task-specific training.\n",
    "\n",
    "**LLM-enabled Recommendation**: The text embedding can be used for recommendation systems as a strong feature for training recommendation models such as Two-Tower model. The model learns the relationship between the query and candidate embeddings, resulting in next-gen user experience with semantic product recommendation.\n",
    "\n",
    "LLM-enabled Clustering, Anomaly Detection, Sentiment Analysis, and more, can be also handled with the LLM-level deep semantics understanding.\n"
   ]
  },
  {
   "cell_type": "markdown",
   "metadata": {
    "id": "ga5A7koYlvlZ"
   },
   "source": [
    "## Sorting 8 million texts at \"librarian-level\" precision\n",
    "\n",
    "Vertex AI Embeddings for Text has an embedding space with 768 dimensions. As explained earlier, the space represents a huge map of a wide variety of texts in the world, organized by their meanings. With each input text, the model can find a location (embedding) in the map.\n",
    "\n",
    "By visualizing the embedding space, you can actually observe how the model sorts the texts at the \"librarian-level\" precision.\n",
    "\n",
    "**Exercise: Try the Nomic AI Atlas**\n",
    "\n",
    "[Nomic AI](http://nomic.ai/) provides a platform called Atlas for storing, visualizing and interacting with embedding spaces with high scalability and in a smooth UI, and they worked with Google for visualizing the embedding space of the 8 million Stack Overflow questions. You can try exploring around the space, zooming in and out to each data point on your browser on this page, courtesy of Nomic AI.\n",
    "\n",
    "The embedding space represents a huge map of texts, organized by their meanings\n",
    "With each input text, the model can find a location (embedding) in the map\n",
    "Like a librarian reading through millions of texts, sorting them with millions of nano-categories\n",
    "\n",
    "Try exploring it [here](https://atlas.nomic.ai/map/edaff028-12b5-42a0-8e8b-6430c9b8222b/bcb42818-3581-4fb5-ac30-9883d01f98ec). Zoom into a few categories, point each dots, and see how the LLM is sorting similar questions close together in the space.\n",
    "\n",
    "![](https://storage.googleapis.com/gweb-cloudblog-publish/images/4._Nomic_AI_Atlas.max-2200x2200.png)\n",
    "\n",
    "### The librarian-level semantic understanding\n",
    "\n",
    "Here are the examples of the librarian-level semantic understanding by Embeddings API with Stack Overflow questions.\n",
    "\n",
    "![](https://storage.googleapis.com/gweb-cloudblog-publish/images/5._semantic_understanding.max-2200x2200.png)\n",
    "\n",
    "For example, the model thinks the question \"Does moving the request line to a header frame require an app change?\" is similar to the question \"Does an application developed on HTTP1x require modifications to run on HTTP2?\". That is because The model knows both questions talk about what's the change required to support the HTTP2 header frame.\n",
    "\n",
    "Note that this demo didn't require any training or fine-tuning with computer programming specific datasets. This is the innovative part of the zero-shot learning capability of the LLM. It can be applied to a wide variety of industries, including finance, healthcare, retail, manufacturing, construction, media, and more, for deep semantic search on the industry-focused business documents without spending time and cost for collecting industry specific datasets and training models."
   ]
  },
  {
   "cell_type": "markdown",
   "metadata": {
    "id": "-iOWOKnIvYxf"
   },
   "source": [
    "# Text Embeddings in Action\n",
    "\n",
    "Lets try using Text Embeddings in action with actual sample code."
   ]
  },
  {
   "cell_type": "markdown",
   "metadata": {
    "id": "AtXnXhF8U-8R"
   },
   "source": [
    "## Setup\n",
    "\n",
    "Before get started with the Vertex AI services, we need to setup the following.\n",
    "\n",
    "* Install Python SDK\n",
    "* Environment variables\n",
    "* Authentication (Colab only)\n",
    "* Enable APIs\n",
    "* Set IAM permissions"
   ]
  },
  {
   "cell_type": "markdown",
   "metadata": {
    "id": "UjnvWl6FLUlF"
   },
   "source": [
    "### Install Python SDK\n",
    "\n",
    "Vertex AI, Cloud Storage and BigQuery APIs can be accessed with multiple ways including REST API and Python SDK. In this tutorial we will use the SDK."
   ]
  },
  {
   "cell_type": "code",
   "execution_count": 4,
   "metadata": {
    "id": "FZgLGALt_al7",
    "tags": []
   },
   "outputs": [
    {
     "name": "stdout",
     "output_type": "stream",
     "text": [
      "Requirement already satisfied: google-cloud-aiplatform in ./.local/lib/python3.10/site-packages (1.73.0)\n",
      "Requirement already satisfied: google-cloud-storage in ./.local/lib/python3.10/site-packages (2.18.2)\n",
      "Requirement already satisfied: google-cloud-bigquery[pandas] in ./.local/lib/python3.10/site-packages (3.27.0)\n",
      "Requirement already satisfied: google-api-core!=2.0.*,!=2.1.*,!=2.2.*,!=2.3.*,!=2.4.*,!=2.5.*,!=2.6.*,!=2.7.*,<3.0.0dev,>=1.34.1 in ./.local/lib/python3.10/site-packages (from google-api-core[grpc]!=2.0.*,!=2.1.*,!=2.2.*,!=2.3.*,!=2.4.*,!=2.5.*,!=2.6.*,!=2.7.*,<3.0.0dev,>=1.34.1->google-cloud-aiplatform) (2.23.0)\n",
      "Requirement already satisfied: google-auth<3.0.0dev,>=2.14.1 in /opt/conda/lib/python3.10/site-packages (from google-cloud-aiplatform) (2.36.0)\n",
      "Requirement already satisfied: proto-plus<2.0.0dev,>=1.22.3 in /opt/conda/lib/python3.10/site-packages (from google-cloud-aiplatform) (1.25.0)\n",
      "Requirement already satisfied: protobuf!=4.21.0,!=4.21.1,!=4.21.2,!=4.21.3,!=4.21.4,!=4.21.5,<6.0.0dev,>=3.20.2 in /opt/conda/lib/python3.10/site-packages (from google-cloud-aiplatform) (3.20.3)\n",
      "Requirement already satisfied: packaging>=14.3 in /opt/conda/lib/python3.10/site-packages (from google-cloud-aiplatform) (24.1)\n",
      "Requirement already satisfied: google-cloud-resource-manager<3.0.0dev,>=1.3.3 in /opt/conda/lib/python3.10/site-packages (from google-cloud-aiplatform) (1.13.1)\n",
      "Requirement already satisfied: shapely<3.0.0dev in /opt/conda/lib/python3.10/site-packages (from google-cloud-aiplatform) (2.0.6)\n",
      "Requirement already satisfied: pydantic<3 in /opt/conda/lib/python3.10/site-packages (from google-cloud-aiplatform) (2.9.2)\n",
      "Requirement already satisfied: docstring-parser<1 in /opt/conda/lib/python3.10/site-packages (from google-cloud-aiplatform) (0.16)\n",
      "Requirement already satisfied: google-cloud-core<3.0dev,>=2.3.0 in /opt/conda/lib/python3.10/site-packages (from google-cloud-storage) (2.4.1)\n",
      "Requirement already satisfied: google-resumable-media>=2.7.2 in /opt/conda/lib/python3.10/site-packages (from google-cloud-storage) (2.7.2)\n",
      "Requirement already satisfied: requests<3.0.0dev,>=2.18.0 in /opt/conda/lib/python3.10/site-packages (from google-cloud-storage) (2.32.3)\n",
      "Requirement already satisfied: google-crc32c<2.0dev,>=1.0 in /opt/conda/lib/python3.10/site-packages (from google-cloud-storage) (1.6.0)\n",
      "Requirement already satisfied: python-dateutil<3.0dev,>=2.7.3 in /opt/conda/lib/python3.10/site-packages (from google-cloud-bigquery[pandas]) (2.9.0.post0)\n",
      "Requirement already satisfied: pandas>=1.1.0 in /opt/conda/lib/python3.10/site-packages (from google-cloud-bigquery[pandas]) (2.2.3)\n",
      "Requirement already satisfied: pyarrow>=3.0.0 in /opt/conda/lib/python3.10/site-packages (from google-cloud-bigquery[pandas]) (15.0.2)\n",
      "Requirement already satisfied: db-dtypes<2.0.0dev,>=0.3.0 in /opt/conda/lib/python3.10/site-packages (from google-cloud-bigquery[pandas]) (1.3.1)\n",
      "Requirement already satisfied: numpy>=1.16.6 in /opt/conda/lib/python3.10/site-packages (from db-dtypes<2.0.0dev,>=0.3.0->google-cloud-bigquery[pandas]) (1.26.4)\n",
      "Requirement already satisfied: googleapis-common-protos<2.0.dev0,>=1.56.2 in /opt/conda/lib/python3.10/site-packages (from google-api-core!=2.0.*,!=2.1.*,!=2.2.*,!=2.3.*,!=2.4.*,!=2.5.*,!=2.6.*,!=2.7.*,<3.0.0dev,>=1.34.1->google-api-core[grpc]!=2.0.*,!=2.1.*,!=2.2.*,!=2.3.*,!=2.4.*,!=2.5.*,!=2.6.*,!=2.7.*,<3.0.0dev,>=1.34.1->google-cloud-aiplatform) (1.66.0)\n",
      "Requirement already satisfied: grpcio<2.0dev,>=1.33.2 in /opt/conda/lib/python3.10/site-packages (from google-api-core[grpc]!=2.0.*,!=2.1.*,!=2.2.*,!=2.3.*,!=2.4.*,!=2.5.*,!=2.6.*,!=2.7.*,<3.0.0dev,>=1.34.1->google-cloud-aiplatform) (1.68.0)\n",
      "Requirement already satisfied: grpcio-status<2.0.dev0,>=1.33.2 in /opt/conda/lib/python3.10/site-packages (from google-api-core[grpc]!=2.0.*,!=2.1.*,!=2.2.*,!=2.3.*,!=2.4.*,!=2.5.*,!=2.6.*,!=2.7.*,<3.0.0dev,>=1.34.1->google-cloud-aiplatform) (1.48.2)\n",
      "Requirement already satisfied: cachetools<6.0,>=2.0.0 in /opt/conda/lib/python3.10/site-packages (from google-auth<3.0.0dev,>=2.14.1->google-cloud-aiplatform) (5.5.0)\n",
      "Requirement already satisfied: pyasn1-modules>=0.2.1 in /opt/conda/lib/python3.10/site-packages (from google-auth<3.0.0dev,>=2.14.1->google-cloud-aiplatform) (0.4.1)\n",
      "Requirement already satisfied: rsa<5,>=3.1.4 in /opt/conda/lib/python3.10/site-packages (from google-auth<3.0.0dev,>=2.14.1->google-cloud-aiplatform) (4.9)\n",
      "Requirement already satisfied: grpc-google-iam-v1<1.0.0dev,>=0.12.4 in /opt/conda/lib/python3.10/site-packages (from google-cloud-resource-manager<3.0.0dev,>=1.3.3->google-cloud-aiplatform) (0.13.1)\n",
      "Requirement already satisfied: pytz>=2020.1 in /opt/conda/lib/python3.10/site-packages (from pandas>=1.1.0->google-cloud-bigquery[pandas]) (2024.2)\n",
      "Requirement already satisfied: tzdata>=2022.7 in /opt/conda/lib/python3.10/site-packages (from pandas>=1.1.0->google-cloud-bigquery[pandas]) (2024.2)\n",
      "Requirement already satisfied: annotated-types>=0.6.0 in /opt/conda/lib/python3.10/site-packages (from pydantic<3->google-cloud-aiplatform) (0.7.0)\n",
      "Requirement already satisfied: pydantic-core==2.23.4 in /opt/conda/lib/python3.10/site-packages (from pydantic<3->google-cloud-aiplatform) (2.23.4)\n",
      "Requirement already satisfied: typing-extensions>=4.6.1 in /opt/conda/lib/python3.10/site-packages (from pydantic<3->google-cloud-aiplatform) (4.12.2)\n",
      "Requirement already satisfied: six>=1.5 in /opt/conda/lib/python3.10/site-packages (from python-dateutil<3.0dev,>=2.7.3->google-cloud-bigquery[pandas]) (1.16.0)\n",
      "Requirement already satisfied: charset-normalizer<4,>=2 in /opt/conda/lib/python3.10/site-packages (from requests<3.0.0dev,>=2.18.0->google-cloud-storage) (3.4.0)\n",
      "Requirement already satisfied: idna<4,>=2.5 in /opt/conda/lib/python3.10/site-packages (from requests<3.0.0dev,>=2.18.0->google-cloud-storage) (3.10)\n",
      "Requirement already satisfied: urllib3<3,>=1.21.1 in /opt/conda/lib/python3.10/site-packages (from requests<3.0.0dev,>=2.18.0->google-cloud-storage) (1.26.20)\n",
      "Requirement already satisfied: certifi>=2017.4.17 in /opt/conda/lib/python3.10/site-packages (from requests<3.0.0dev,>=2.18.0->google-cloud-storage) (2024.8.30)\n",
      "Requirement already satisfied: pyasn1<0.7.0,>=0.4.6 in /opt/conda/lib/python3.10/site-packages (from pyasn1-modules>=0.2.1->google-auth<3.0.0dev,>=2.14.1->google-cloud-aiplatform) (0.6.1)\n",
      "Note: you may need to restart the kernel to use updated packages.\n"
     ]
    }
   ],
   "source": [
    "%pip install --upgrade --user google-cloud-aiplatform google-cloud-storage 'google-cloud-bigquery[pandas]' "
   ]
  },
  {
   "cell_type": "markdown",
   "metadata": {
    "id": "R5Xep4W9lq-Z"
   },
   "source": [
    "### Restart current runtime\n",
    "\n",
    "To use the newly installed packages in this Jupyter runtime, you must restart the runtime. You can do this by running the cell below, which will restart the current kernel."
   ]
  },
  {
   "cell_type": "code",
   "execution_count": 5,
   "metadata": {
    "id": "XRvKdaPDTznN",
    "tags": []
   },
   "outputs": [
    {
     "data": {
      "text/plain": [
       "{'status': 'ok', 'restart': True}"
      ]
     },
     "execution_count": 5,
     "metadata": {},
     "output_type": "execute_result"
    }
   ],
   "source": [
    "# Restart kernel after installs so that your environment can access the new packages\n",
    "import IPython\n",
    "\n",
    "app = IPython.Application.instance()\n",
    "app.kernel.do_shutdown(True)"
   ]
  },
  {
   "cell_type": "markdown",
   "metadata": {
    "id": "SbmM4z7FOBpM"
   },
   "source": [
    "<div class=\"alert alert-block alert-warning\">\n",
    "<b>⚠️ The kernel is going to restart. Please wait until it is finished before continuing to the next step. ⚠️</b>\n",
    "</div>\n"
   ]
  },
  {
   "cell_type": "markdown",
   "metadata": {
    "id": "nCoTvkOJoh76"
   },
   "source": [
    "### Environment variables\n",
    "\n",
    "Sets environment variables. If asked, please replace the following `[your-project-id]` with your project ID and run it."
   ]
  },
  {
   "cell_type": "code",
   "execution_count": 1,
   "metadata": {
    "id": "fkmvFRrj3nQI",
    "tags": []
   },
   "outputs": [],
   "source": [
    "# get project ID\n",
    "PROJECT_ID = ! gcloud config get project\n",
    "PROJECT_ID = PROJECT_ID[0]\n",
    "LOCATION = \"us-central1\"\n",
    "if PROJECT_ID == \"(unset)\":\n",
    "    print(f\"Please set the project ID manually below\")"
   ]
  },
  {
   "cell_type": "code",
   "execution_count": 2,
   "metadata": {
    "id": "69XJ95rNoYG9",
    "tags": []
   },
   "outputs": [],
   "source": [
    "# define project information\n",
    "if PROJECT_ID == \"(unset)\":\n",
    "    PROJECT_ID = \"qwiklabs-gcp-02-743d22f62bb0\"  # @param {type:\"string\"}\n",
    "\n",
    "# generate an unique id for this session\n",
    "from datetime import datetime\n",
    "\n",
    "UID = datetime.now().strftime(\"%m%d%H%M\")"
   ]
  },
  {
   "cell_type": "markdown",
   "metadata": {
    "id": "ph7mDSMRVTIZ"
   },
   "source": [
    "### Authentication (Colab only)\n",
    "\n",
    "If you are running this notebook on Colab, you will need to run the following cell authentication. This step is not required if you are using Vertex AI Workbench as it is pre-authenticated."
   ]
  },
  {
   "cell_type": "code",
   "execution_count": 3,
   "metadata": {
    "id": "5jQkFtlimNXR",
    "tags": []
   },
   "outputs": [],
   "source": [
    "import sys\n",
    "\n",
    "# if it's Colab runtime, authenticate the user with Google Cloud\n",
    "if \"google.colab\" in sys.modules:\n",
    "    from google.colab import auth\n",
    "\n",
    "    auth.authenticate_user()"
   ]
  },
  {
   "cell_type": "markdown",
   "metadata": {
    "id": "jUPbl4IFLmC2"
   },
   "source": [
    "### Enable APIs\n",
    "\n",
    "Run the following to enable APIs for Compute Engine, Vertex AI, Cloud Storage and BigQuery with this Google Cloud project."
   ]
  },
  {
   "cell_type": "code",
   "execution_count": 4,
   "metadata": {
    "id": "qGf0qMMQNond",
    "tags": []
   },
   "outputs": [
    {
     "name": "stdout",
     "output_type": "stream",
     "text": [
      "Operation \"operations/acat.p2-725277146552-24eb40e6-d168-4377-bf2c-b732cd012bb8\" finished successfully.\n"
     ]
    }
   ],
   "source": [
    "! gcloud services enable compute.googleapis.com aiplatform.googleapis.com storage.googleapis.com bigquery.googleapis.com --project {PROJECT_ID}"
   ]
  },
  {
   "cell_type": "markdown",
   "metadata": {
    "id": "8cF8rkN3Lnhq"
   },
   "source": [
    "### Set IAM permissions\n",
    "\n",
    "Also, we need to add access permissions to the default service account for using those services.\n",
    "\n",
    "- Go to [the IAM page](https://console.cloud.google.com/iam-admin/) in the Console\n",
    "- Look for the principal for default compute service account. It should look like: `<project-number>-compute@developer.gserviceaccount.com`\n",
    "- Click the edit button at right and click `ADD ANOTHER ROLE` to add `Vertex AI User`, `BigQuery User` and `Storage Admin` to the account.\n",
    "\n",
    "This will look like this:\n",
    "\n",
    "![](https://storage.googleapis.com/github-repo/img/embeddings/vs-quickstart/iam-setting.png)"
   ]
  },
  {
   "cell_type": "markdown",
   "metadata": {
    "id": "mahCxLXHMIls"
   },
   "source": [
    "## Getting Started with Vertex AI Embeddings for Text\n",
    "\n",
    "Now it's ready to get started with embeddings!"
   ]
  },
  {
   "cell_type": "markdown",
   "metadata": {
    "id": "rq07_-o0VoZD"
   },
   "source": [
    "### Data Preparation\n",
    "\n",
    "We will be using [the Stack Overflow public dataset](https://console.cloud.google.com/marketplace/product/stack-exchange/stack-overflow) hosted on BigQuery table `bigquery-public-data.stackoverflow.posts_questions`. This is a very big dataset with 23 million rows that doesn't fit into the memory. We are going to limit it to 1000 rows for this tutorial."
   ]
  },
  {
   "cell_type": "code",
   "execution_count": 5,
   "metadata": {
    "id": "snrzPsEQDH4S",
    "tags": []
   },
   "outputs": [
    {
     "data": {
      "text/html": [
       "<div>\n",
       "<style scoped>\n",
       "    .dataframe tbody tr th:only-of-type {\n",
       "        vertical-align: middle;\n",
       "    }\n",
       "\n",
       "    .dataframe tbody tr th {\n",
       "        vertical-align: top;\n",
       "    }\n",
       "\n",
       "    .dataframe thead th {\n",
       "        text-align: right;\n",
       "    }\n",
       "</style>\n",
       "<table border=\"1\" class=\"dataframe\">\n",
       "  <thead>\n",
       "    <tr style=\"text-align: right;\">\n",
       "      <th></th>\n",
       "      <th>id</th>\n",
       "      <th>title</th>\n",
       "    </tr>\n",
       "  </thead>\n",
       "  <tbody>\n",
       "    <tr>\n",
       "      <th>0</th>\n",
       "      <td>71421877</td>\n",
       "      <td>How to create custom tooltip in React Quill Ed...</td>\n",
       "    </tr>\n",
       "    <tr>\n",
       "      <th>1</th>\n",
       "      <td>71153507</td>\n",
       "      <td>Stripe card details auto fill not wokring</td>\n",
       "    </tr>\n",
       "    <tr>\n",
       "      <th>2</th>\n",
       "      <td>71206139</td>\n",
       "      <td>Spring Cloud Gateway : do not call service and...</td>\n",
       "    </tr>\n",
       "    <tr>\n",
       "      <th>3</th>\n",
       "      <td>71175158</td>\n",
       "      <td>how to wrap React-router with context provider</td>\n",
       "    </tr>\n",
       "    <tr>\n",
       "      <th>4</th>\n",
       "      <td>71151252</td>\n",
       "      <td>Fail to load an image from storage on laravel</td>\n",
       "    </tr>\n",
       "  </tbody>\n",
       "</table>\n",
       "</div>"
      ],
      "text/plain": [
       "         id                                              title\n",
       "0  71421877  How to create custom tooltip in React Quill Ed...\n",
       "1  71153507          Stripe card details auto fill not wokring\n",
       "2  71206139  Spring Cloud Gateway : do not call service and...\n",
       "3  71175158     how to wrap React-router with context provider\n",
       "4  71151252      Fail to load an image from storage on laravel"
      ]
     },
     "execution_count": 5,
     "metadata": {},
     "output_type": "execute_result"
    }
   ],
   "source": [
    "# load the BQ Table into a Pandas DataFrame\n",
    "from google.cloud import bigquery\n",
    "\n",
    "QUESTIONS_SIZE = 1000\n",
    "\n",
    "bq_client = bigquery.Client(project=PROJECT_ID)\n",
    "QUERY_TEMPLATE = \"\"\"\n",
    "        SELECT distinct q.id, q.title\n",
    "        FROM (SELECT * FROM `bigquery-public-data.stackoverflow.posts_questions`\n",
    "        where Score > 0 ORDER BY View_Count desc) AS q\n",
    "        LIMIT {limit} ;\n",
    "        \"\"\"\n",
    "query = QUERY_TEMPLATE.format(limit=QUESTIONS_SIZE)\n",
    "query_job = bq_client.query(query)\n",
    "rows = query_job.result()\n",
    "df = rows.to_dataframe()\n",
    "\n",
    "# examine the data\n",
    "df.head()"
   ]
  },
  {
   "cell_type": "markdown",
   "metadata": {
    "id": "j6022U1FWzpb"
   },
   "source": [
    "### Call the API to generate embeddings\n",
    "\n",
    "With the Stack Overflow dataset, we will use the `title` column (the question title) and generate embedding for it with Embeddings for Text API. The API is available under the [vertexai](https://cloud.google.com/python/docs/reference/aiplatform/latest/vertexai) package of the SDK.\n",
    "\n",
    "You may see some warning messages from the TensorFlow library but you can ignore them."
   ]
  },
  {
   "cell_type": "code",
   "execution_count": 6,
   "metadata": {
    "id": "pY8M4DqO8wGx",
    "tags": []
   },
   "outputs": [],
   "source": [
    "# init the vertexai package\n",
    "import vertexai\n",
    "\n",
    "vertexai.init(project=PROJECT_ID, location=LOCATION)"
   ]
  },
  {
   "cell_type": "markdown",
   "metadata": {
    "id": "jrG82n-y-EC5"
   },
   "source": [
    "From the package, import [TextEmbeddingModel](https://cloud.google.com/python/docs/reference/aiplatform/latest/vertexai.language_models.TextEmbeddingModel) and get a model."
   ]
  },
  {
   "cell_type": "code",
   "execution_count": 7,
   "metadata": {
    "id": "YVLHjSeOGoTu",
    "tags": []
   },
   "outputs": [],
   "source": [
    "# Load the text embeddings model\n",
    "from vertexai.language_models import TextEmbeddingModel\n",
    "\n",
    "model = TextEmbeddingModel.from_pretrained(\"text-embedding-004\")"
   ]
  },
  {
   "cell_type": "markdown",
   "metadata": {
    "id": "FqdVsgZDb_hc"
   },
   "source": [
    "In this tutorial we will use `text-embedding-004` model for getting text embeddings. Please take a look at [Supported models](https://cloud.google.com/vertex-ai/docs/generative-ai/embeddings/get-text-embeddings#supported_models) on the doc to see the list of supported models.\n",
    "\n",
    "Once you get the model, you can call its [get_embeddings](https://cloud.google.com/python/docs/reference/aiplatform/latest/vertexai.language_models.TextEmbeddingModel#vertexai_language_models_TextEmbeddingModel_get_embeddings) function to get embeddings. You can pass up to 5 texts at once in a call. But there is a caveat. By default, the text embeddings API has a \"request per minute\" quota set to 60 for new Cloud projects and 600 for projects with usage history (see [Quotas and limits](https://cloud.google.com/vertex-ai/docs/quotas#request_quotas) to check the latest quota value for `base_model:textembedding-gecko`). So, rather than using the function directly, you may want to define a wrapper like below to limit under 10 calls per second, and pass 5 texts each time."
   ]
  },
  {
   "cell_type": "code",
   "execution_count": 8,
   "metadata": {
    "id": "8HUb9u_P2VWW",
    "tags": []
   },
   "outputs": [],
   "source": [
    "import time\n",
    "\n",
    "import tqdm  # to show a progress bar\n",
    "\n",
    "# get embeddings for a list of texts\n",
    "BATCH_SIZE = 5\n",
    "\n",
    "\n",
    "def get_embeddings_wrapper(texts):\n",
    "    embs = []\n",
    "    for i in tqdm.tqdm(range(0, len(texts), BATCH_SIZE)):\n",
    "        time.sleep(1)  # to avoid the quota error\n",
    "        result = model.get_embeddings(texts[i : i + BATCH_SIZE])\n",
    "        embs = embs + [e.values for e in result]\n",
    "    return embs"
   ]
  },
  {
   "cell_type": "markdown",
   "metadata": {
    "id": "aK4eTSPfcEuh"
   },
   "source": [
    "The following code will get embedding for the question titles and add them as a new column `embedding` to the DataFrame. This will take a few minutes."
   ]
  },
  {
   "cell_type": "code",
   "execution_count": 9,
   "metadata": {
    "id": "FcqPvu4PluN1",
    "tags": []
   },
   "outputs": [
    {
     "name": "stderr",
     "output_type": "stream",
     "text": [
      "100%|██████████| 200/200 [03:37<00:00,  1.09s/it]\n"
     ]
    },
    {
     "data": {
      "text/html": [
       "<div>\n",
       "<style scoped>\n",
       "    .dataframe tbody tr th:only-of-type {\n",
       "        vertical-align: middle;\n",
       "    }\n",
       "\n",
       "    .dataframe tbody tr th {\n",
       "        vertical-align: top;\n",
       "    }\n",
       "\n",
       "    .dataframe thead th {\n",
       "        text-align: right;\n",
       "    }\n",
       "</style>\n",
       "<table border=\"1\" class=\"dataframe\">\n",
       "  <thead>\n",
       "    <tr style=\"text-align: right;\">\n",
       "      <th></th>\n",
       "      <th>id</th>\n",
       "      <th>title</th>\n",
       "      <th>embedding</th>\n",
       "    </tr>\n",
       "  </thead>\n",
       "  <tbody>\n",
       "    <tr>\n",
       "      <th>0</th>\n",
       "      <td>71421877</td>\n",
       "      <td>How to create custom tooltip in React Quill Ed...</td>\n",
       "      <td>[0.013455921784043312, -0.02667485736310482, -...</td>\n",
       "    </tr>\n",
       "    <tr>\n",
       "      <th>1</th>\n",
       "      <td>71153507</td>\n",
       "      <td>Stripe card details auto fill not wokring</td>\n",
       "      <td>[0.028418043628335, -0.05049264803528786, -0.0...</td>\n",
       "    </tr>\n",
       "    <tr>\n",
       "      <th>2</th>\n",
       "      <td>71206139</td>\n",
       "      <td>Spring Cloud Gateway : do not call service and...</td>\n",
       "      <td>[0.026695800945162773, -0.03060329705476761, -...</td>\n",
       "    </tr>\n",
       "    <tr>\n",
       "      <th>3</th>\n",
       "      <td>71175158</td>\n",
       "      <td>how to wrap React-router with context provider</td>\n",
       "      <td>[0.06992929428815842, -0.00024150722310878336,...</td>\n",
       "    </tr>\n",
       "    <tr>\n",
       "      <th>4</th>\n",
       "      <td>71151252</td>\n",
       "      <td>Fail to load an image from storage on laravel</td>\n",
       "      <td>[0.04564710333943367, -0.008549916557967663, -...</td>\n",
       "    </tr>\n",
       "  </tbody>\n",
       "</table>\n",
       "</div>"
      ],
      "text/plain": [
       "         id                                              title  \\\n",
       "0  71421877  How to create custom tooltip in React Quill Ed...   \n",
       "1  71153507          Stripe card details auto fill not wokring   \n",
       "2  71206139  Spring Cloud Gateway : do not call service and...   \n",
       "3  71175158     how to wrap React-router with context provider   \n",
       "4  71151252      Fail to load an image from storage on laravel   \n",
       "\n",
       "                                           embedding  \n",
       "0  [0.013455921784043312, -0.02667485736310482, -...  \n",
       "1  [0.028418043628335, -0.05049264803528786, -0.0...  \n",
       "2  [0.026695800945162773, -0.03060329705476761, -...  \n",
       "3  [0.06992929428815842, -0.00024150722310878336,...  \n",
       "4  [0.04564710333943367, -0.008549916557967663, -...  "
      ]
     },
     "execution_count": 9,
     "metadata": {},
     "output_type": "execute_result"
    }
   ],
   "source": [
    "# get embeddings for the question titles and add them as \"embedding\" column\n",
    "df = df.assign(embedding=get_embeddings_wrapper(list(df.title)))\n",
    "df.head()"
   ]
  },
  {
   "cell_type": "markdown",
   "metadata": {
    "id": "nB53SiJjVN6e"
   },
   "source": [
    "## Look at the embedding similarities\n",
    "\n",
    "Let's see how these embeddings are organized in the embedding space with their meanings by quickly calculating the similarities between them and sorting them.\n",
    "\n",
    "As embeddings are vectors, you can calculate similarity between two embeddings by using one of the popular metrics like the followings:\n",
    "\n",
    "![](https://storage.googleapis.com/github-repo/img/embeddings/textemb-vs-notebook/8.png)\n",
    "\n",
    "Which metric should we use? Usually it depends on how each model is trained. In case of the model `text-embedding-004`, we need to use inner product (dot product).\n",
    "\n",
    "In the following code, it picks up one question randomly and uses the numpy `np.dot` function to calculate the similarities between the question and other questions."
   ]
  },
  {
   "cell_type": "code",
   "execution_count": 10,
   "metadata": {
    "id": "lKs6jSu7NiM6",
    "tags": []
   },
   "outputs": [
    {
     "data": {
      "text/plain": [
       "array([0.30356212, 0.27045763, 0.32884681, 0.31451478, 0.35019326])"
      ]
     },
     "execution_count": 10,
     "metadata": {},
     "output_type": "execute_result"
    }
   ],
   "source": [
    "import random\n",
    "\n",
    "import numpy as np\n",
    "\n",
    "# pick one of them as a key question\n",
    "key = random.randint(0, len(df))\n",
    "\n",
    "# calc dot product between the key and other questions\n",
    "embs = np.array(df.embedding.to_list())\n",
    "similarities = np.dot(embs[key], embs.T)\n",
    "\n",
    "# print similarities for the first 5 questions\n",
    "similarities[:5]"
   ]
  },
  {
   "cell_type": "markdown",
   "metadata": {
    "id": "srM04lJBQp4w"
   },
   "source": [
    "Finally, sort the questions with the similarities and print the list."
   ]
  },
  {
   "cell_type": "code",
   "execution_count": 11,
   "metadata": {
    "id": "lTUVvj9FQlab",
    "tags": []
   },
   "outputs": [
    {
     "name": "stdout",
     "output_type": "stream",
     "text": [
      "Key question: Select the row with the maximum value in each group based on multiple columns in R dplyr\n",
      "\n",
      "1.0000 Select the row with the maximum value in each group based on multiple columns in R dplyr\n",
      "0.7884 Dplyr Summarise Groups as Column Names\n",
      "0.7651 Conditional statements within groups in dplyr\n",
      "0.7254 Subtracting cell in one row from cell in another row when summarizing grouped data with dplyr?\n",
      "0.6897 Subsetting dataframe in grouped data\n",
      "0.6852 Dplyr::last - rows dropped if one variable can't be computed in summarise\n",
      "0.6796 Find a maximum value for multiple entries in a column\n",
      "0.6687 Replace numerical value in two columns with NA based on a single other column NA value in R\n",
      "0.6558 Pandas groupby -> aggregate - function of two columns\n",
      "0.6540 How to get all column's first values of consecutive groups and also max of different bins of the respective group in pandas dataframe?\n",
      "0.6332 Group by data and find rows with similar values in the each group\n",
      "0.6252 Creating multiple lines in plot grouped by selected column of larger dataframe\n",
      "0.6196 Change value in tibble column element in R\n",
      "0.6180 Filter pandas dataframe rows based on multiple conditions\n",
      "0.6099 Remove duplicate rows but with condition\n",
      "0.6065 Can I reshape and fill a number in tibble() with R?\n",
      "0.6040 How to produce a multiple group bar chart based on a specific dataframe column\n",
      "0.5958 Time since last event of grouped data in R\n",
      "0.5886 Unconventional data frame reshaping using dcast\n",
      "0.5872 Drop a part of rows based on condition & insert them into a new rows of pandas data frame\n"
     ]
    }
   ],
   "source": [
    "# print the question\n",
    "print(f\"Key question: {df.title[key]}\\n\")\n",
    "\n",
    "# sort and print the questions by similarities\n",
    "sorted_questions = sorted(\n",
    "    zip(df.title, similarities), key=lambda x: x[1], reverse=True\n",
    ")[:20]\n",
    "for i, (question, similarity) in enumerate(sorted_questions):\n",
    "    print(f\"{similarity:.4f} {question}\")"
   ]
  },
  {
   "cell_type": "markdown",
   "metadata": {
    "id": "S75SQzAg1wHV"
   },
   "source": [
    "# Find embeddings fast with Vertex AI Vector Search\n",
    "\n",
    "As we have explained above, you can find similar embeddings by calculating the distance or similarity between the embeddings.\n",
    "\n",
    "But this isn't easy when you have millions or billions of embeddings. For example, if you have 1 million embeddings with 768 dimensions, you need to repeat the distance calculations for 1 million x 768 times. This would take some seconds - too slow."
   ]
  },
  {
   "cell_type": "markdown",
   "metadata": {
    "id": "0sjhTy-a47YH"
   },
   "source": [
    "So the researchers have been studying a technique called [Approximate Nearest Neighbor (ANN)](https://en.wikipedia.org/wiki/Nearest_neighbor_search) for faster search. ANN uses \"vector quantization\" for separating the space into multiple spaces with a tree structure. This is similar to the index in relational databases for improving the query performance, enabling very fast and scalable search with billions of embeddings.\n",
    "\n",
    "With the rise of LLMs, the ANN is getting popular quite rapidly, known as the Vector Search technology.\n",
    "\n",
    "![](https://storage.googleapis.com/gweb-cloudblog-publish/images/7._ANN.1143068821171228.max-2200x2200.png)\n",
    "\n",
    "In 2020, Google Research published a new ANN algorithm called [ScaNN](https://ai.googleblog.com/2020/07/announcing-scann-efficient-vector.html). It is considered one of the best ANN algorithms in the industry, also the most important foundation for search and recommendation in major Google services such as Google Search, YouTube and many others.\n"
   ]
  },
  {
   "cell_type": "markdown",
   "metadata": {
    "id": "xVOL8BgM2isz"
   },
   "source": [
    "## What is Vertex AI Vector Search?\n",
    "\n",
    "Google Cloud developers can take the full advantage of Google's vector search technology with [Vertex AI Vector Search](https://cloud.google.com/vertex-ai/docs/vector-search/overview) (previously called Matching Engine). With this fully managed service, developers can just add the embeddings to its index and issue a search query with a key embedding for the blazingly fast vector search. In the case of the Stack Overflow demo, Vector Search can find relevant questions from 8 million embeddings in tens of milliseconds.\n",
    "\n",
    "![](https://storage.googleapis.com/github-repo/img/embeddings/textemb-vs-notebook/9.png)\n",
    "\n",
    "With Vector Search, you don't need to spend much time and money building your own vector search service from scratch or using open source tools if your goal is high scalability, availability and maintainability for production systems."
   ]
  },
  {
   "cell_type": "markdown",
   "metadata": {
    "id": "uBt8tjidSzyU"
   },
   "source": [
    "## Get Started with Vector Search\n",
    "\n",
    "When you already have the embeddings, then getting started with Vector Search is pretty easy. In this section, we will follow the steps below.\n",
    "\n",
    "### Setting up Vector Search\n",
    "- Save the embeddings in JSON files on Cloud Storage\n",
    "- Build an Index\n",
    "- Create an Index Endpoint\n",
    "- Deploy the Index to the endpoint\n",
    "\n",
    "### Use Vector Search\n",
    "\n",
    "- Query with the endpoint\n",
    "\n",
    "### **Tip for Colab users**\n",
    "\n",
    "If you use Colab for this tutorial, you may lose your runtime while you are waiting for the Index building and deployment in the later sections as it takes tens of minutes. In that case, run the following sections again with the new instance to recover the runtime: [Install Python SDK, Environment variables and Authentication](https://colab.research.google.com/drive/1xJhLFEyPqW0qvKiERD6aYgeTHa6_U50N?resourcekey=0-2qUkxckCjt6W03AsqvZHhw#scrollTo=AtXnXhF8U-8R&line=9&uniqifier=1).\n",
    "\n",
    "Then, use the [Utilities](https://colab.research.google.com/drive/1xJhLFEyPqW0qvKiERD6aYgeTHa6_U50N?resourcekey=0-2qUkxckCjt6W03AsqvZHhw#scrollTo=BE1tELsH-u8N&line=1&uniqifier=1) to recover the Index and Index Endpoint and continue with the rest."
   ]
  },
  {
   "cell_type": "markdown",
   "metadata": {
    "id": "6pu1a3zjfQ0D"
   },
   "source": [
    "### Save the embeddings in a JSON file\n",
    "To load the embeddings to Vector Search, we need to save them in JSON files with JSONL format. See more information in the docs at [Input data format and structure](https://cloud.google.com/vertex-ai/docs/matching-engine/match-eng-setup/format-structure#data-file-formats).\n",
    "\n",
    "First, export the `id` and `embedding` columns from the DataFrame in JSONL format, and save it."
   ]
  },
  {
   "cell_type": "code",
   "execution_count": 12,
   "metadata": {
    "id": "GzZ30d4j_uLU",
    "tags": []
   },
   "outputs": [
    {
     "name": "stdout",
     "output_type": "stream",
     "text": [
      "{\"id\":71421877,\"embedding\":[0.0134559218,-0.0266748574,-0.0499707237,-0.0020249942,0.0803355351,0.0038709757,-0.0003093258,-0.0302892681,-0.0249604136,0.0063708713,0.0032436375,0.0428635441,0.0339807384,0.0164873041,-0.0354476571,0.0128908409,0.016023213,0.0282158647,-0.1218833104,0.0105732074,0.0474582538,-0.0214480981,-0.0294566136,0.0195852928,-0.013233793,-0.0013394665,0.0037337358,-0.0214823782,-0.0210985355,-0.0553344339,-0.0193552803,0.0308068655,0.0174079724,-0.001035181,0.0008046185,0.0383135155,-0.0537643954,0.018599337,0.0431390703,0.0466340631,-0.0746744722,-0.0208423063,-0.0209668539,0.077490814,0.027888773,0.0046962542,-0.009931623,0.0321231447,-0.003392762,-0.0244393889,-0.0058993339,0.007706075,-0.0015983663,0.0294302087,-0.01773897,0.0258802194,-0.0331973955,-0.0143236872,-0.0011025548,0.0003772911,0.0213256162,0.0344715267,-0.0008681127,-0.0439907499,0.0086910296,0.0001009231,-0.0916097537,0.0154694943,-0.0565158874,0.0606409386,-0.0059459964,0.0053201229,-0.0017880904,-0.0843885764,-0.0151398666,0.0360711999,-0.0286110714,0.0024668232,-0.0175620914,0.016025506,-0.0003097378,0.0512681305,-0.0091294926,0.0369941927,-0.029326072,0.0144726923,0.0035117068,-0.0317871459,-0.0063366122,-0.0410224386,0.0299958065,-0.020070456,-0.0367521457,-0.0296291541,0.1204224303,0.0219036527,-0.0127945608,-0.0692013577,0.0506632626,0.0507297255,-0.0146243526,0.0372645818,-0.0248763096,-0.0362335481,0.0181667805,0.0221201722,-0.052125819,-0.0251228344,-0.060564708,0.0035831253,-0.0035731297,0.010004729,0.0332251526,0.0215027779,-0.0401801579,-0.0173003487,-0.0071966248,-0.0425590053,0.0066060987,0.0219413266,-0.0068154153,0.0405180715,0.0421339124,0.0478309914,0.0492092259,0.0448216647,0.0251600537,-0.0229105391,-0.058431536,-0.0176373795,0.0568671897,-0.0264633,-0.0478441007,0.0198594742,0.0446486399,-0.0665983707,-0.0070427344,-0.0524854846,0.0987251103,0.0507476032,0.0341742486,-0.062359307,-0.0665821582,-0.0344385169,0.0213797931,-0.0284452215,-0.0103200236,0.0089079067,0.0639802292,-0.006591016,-0.0031164493,-0.0049352851,-0.0098176757,0.0610661916,0.0178291574,-0.0334551111,0.0186914019,-0.0854581818,0.0325888954,0.0122461757,-0.0156507064,-0.0523881689,-0.0086736018,0.0425097346,-0.0171539336,0.0174544472,-0.0311305635,0.0071590384,0.0026477806,-0.0103864111,-0.0281841308,-0.0958200321,0.0122826789,0.0269098505,-0.0634049997,0.0748889223,-0.0031853204,-0.0282249618,-0.034688428,-0.0021322693,0.0471928604,0.0727244169,0.0064888909,-0.0864567533,0.0411534421,-0.0280748662,-0.0426226258,-0.0224019196,0.0448076278,0.0119091887,-0.0503534377,-0.0121965762,0.0347120352,-0.0038443329,0.0459936075,-0.0547074601,0.0394437723,-0.0446529016,-0.0597894043,0.0087735243,0.0437096581,0.0234743301,-0.0497330427,-0.0757323131,-0.0205780342,-0.0327801555,0.0029418808,-0.0190180242,0.0108707212,0.01495641,-0.0198351704,0.0122443857,0.0061760545,-0.0082787657,0.0283836201,-0.0061302977,-0.0100366473,0.0140292952,0.0273333341,-0.0181360804,-0.0266433265,-0.0140599255,0.0156305432,-0.0463400558,0.0902288333,0.0346182883,-0.0206910819,-0.0218325444,0.0307886638,-0.0248895623,0.0234561563,0.0285035912,0.0216679741,-0.0106272949,-0.0229639076,0.0110522714,0.0283489954,-0.0502617732,-0.006731146,0.048075866,-0.037543878,0.0302924141,-0.0241698138,-0.0024155555,-0.0176769271,-0.0360152721,-0.0235231537,0.000771055,0.0199114811,-0.0298660696,0.0400663689,0.0252143983,-0.0079367831,0.0081872847,0.0034421091,0.0353519581,0.0193276647,-0.0075605032,-0.0028003075,-0.0197508615,0.0949660093,-0.0402126722,-0.0437303297,0.02622745,0.0082717789,-0.0597642176,0.0231647845,-0.0335776471,0.0227517933,-0.0255000778,-0.0402226634,0.0150800748,-0.0321329981,-0.0051225736,-0.0183966849,0.0156713277,-0.0341154002,0.049618721,-0.0394758917,-0.0488639995,0.0536880195,-0.0262770113,0.0423461869,-0.0190901812,0.058747936,-0.0668909699,-0.0250200238,-0.0004702704,0.0090234606,0.001901943,-0.0286701508,-0.010359237,0.0247968379,-0.0285360068,0.0206408929,-0.0204271823,0.0498586148,0.00681618,0.0110562583,-0.0107465526,0.0464568287,0.0289327353,0.0244811401,0.0808488801,0.0039506126,0.0112302909,-0.0280507971,0.0330769531,0.0007836751,-0.0307853241,0.015877828,-0.0633024275,-0.0313132256,-0.0303148665,0.0224838909,-0.0279419813,-0.0520652458,0.0177042782,-0.0469201393,-0.0272696186,0.0403545573,0.0625921562,-0.0255357865,0.0318229273,-0.0317316391,-0.0470401943,-0.0126716746,-0.0163206626,0.0098724375,0.0219294019,-0.0024423406,0.0084212618,0.0657125711,-0.0033224043,0.0268508326,0.0554953404,-0.021557875,-0.0091148177,0.0010521481,-0.0307639875,-0.0361350141,-0.051916711,0.022618657,0.026782997,0.0005032492,0.0274075698,-0.0674638823,0.005291489,0.0501447655,0.0322165936,0.0727071539,0.0089658163,0.0354993455,-0.0339617021,0.0169740524,-0.0004205101,0.0299134515,-0.0555835813,0.0430537947,0.0176413897,-0.05412779,-0.0229734164,-0.005563871,0.0473218411,0.0324148238,0.0202120263,0.0186564047,0.0440809354,-0.0254919585,-0.0013888986,-0.0063537653,-0.0237976145,0.0169838239,-0.0105422754,0.0112918029,0.0063807447,-0.0535380691,-0.0103479987,0.0141251152,-0.0197452195,-0.0252401363,-0.0020590201,0.0532037802,0.0443805866,-0.0047422848,0.0553370975,-0.0076640397,0.0068649426,-0.0278682727,-0.0425093248,-0.0709694847,0.053428594,0.0466719046,-0.0093679568,-0.0366489962,0.061050646,0.0124546345,0.0039840043,-0.0067851814,-0.0109154675,-0.0444871895,-0.0069704261,-0.0290741418,-0.0615561381,-0.0223111957,0.0044090506,0.0838780105,0.026005296,0.0016901323,0.0123113859,0.0643915981,-0.0353313871,-0.0515640303,0.071055539,0.0233854093,-0.0249457005,-0.009822364,-0.0298752934,0.0024877044,-0.0357419327,-0.0004913555,-0.0138612008,0.0115925418,-0.0003210894,-0.0377649926,-0.0845480561,-0.0090565318,-0.0677565932,0.0319709964,-0.0064009745,0.0262476988,0.0549085774,0.0213773809,0.0467896387,0.0213378593,0.0525305122,0.0098455921,0.0324756578,0.0174704976,0.0145294284,0.0148589807,0.0490120947,0.0656630248,0.0023816009,-0.0147722103,0.0490358658,0.0045317728,0.0571316481,0.0690984055,-0.0092435917,0.0023596208,-0.0104204081,0.0008258464,-0.0700976476,-0.0393280238,-0.0196122993,0.0215243697,0.0408742018,-0.0166025292,-0.0155838607,0.0440269113,-0.0345852301,0.0100823799,-0.0157038718,-0.035778705,-0.0572921149,-0.0496455655,0.0139965303,-0.0412095003,-0.0209005699,0.0426262766,0.0445347652,-0.0562082566,0.0112603744,-0.0119379461,-0.0118387816,0.0337472036,0.0196515936,-0.0124885533,-0.0727251843,-0.0057975384,0.0489090607,-0.0237492006,0.048513677,-0.0107005266,-0.0091465916,-0.0779880434,0.0136856465,0.0182988793,-0.0079260049,0.0097849825,0.0052987421,-0.0282182414,-0.0643937066,-0.0778281018,0.0007785143,0.0136614107,-0.0053200838,0.0138197504,0.0030059607,0.0022674866,0.0365267098,-0.0394212864,-0.0044736359,-0.0284130815,-0.013865144,-0.0332803503,0.0026213101,0.0946727917,0.0316837318,0.0256898049,0.0043094298,-0.0212411024,0.0066107218,-0.0526700914,0.0316657983,-0.0413619354,-0.0394664295,-0.0078496253,-0.034933988,-0.0453843102,0.0031005889,0.006188625,-0.0062392158,0.0299238712,-0.0521779247,-0.070363313,-0.0119487708,0.0213533547,-0.0302847009,-0.0217669643,0.0291169807,0.0084626097,0.0249590259,-0.0150269205,-0.0016167333,0.0084142452,-0.0039617796,-0.0562921986,-0.027243942,-0.0433879606,-0.0076986882,0.0205360278,0.0164796542,0.0651101768,0.0445486456,-0.0104510924,0.0630133376,0.0226015877,-0.0165818129,0.0007407157,-0.0651465431,0.0621561147,-0.0256823488,-0.0324953869,-0.0030974131,-0.0796778351,0.0270805787,0.0490496196,-0.0453870744,0.0750759169,-0.009285423,-0.0375287794,-0.030181637,0.0292359237,-0.0312826447,0.0307354964,0.0423481017,-0.032640826,0.0097249895,-0.0346100815,-0.0294527579,0.0065432834,0.0052457228,-0.0220289417,-0.0051132687,-0.0126616098,0.0052981684,-0.0014387143,-0.0084734289,-0.013131828,0.0048136548,0.0780093595,0.0143339531,-0.0281815454,-0.0361036286,-0.009289884,-0.0593231656,-0.0021145749,0.0384352803,-0.081354253,-0.0360503159,-0.0396883786,-0.0629969239,0.0065981303,-0.0244668629,-0.0298780762,0.0514240526,0.0547546931,-0.0244205911,0.0054108244,0.0143536152,-0.0086272378,-0.0550317317,-0.0346244536,-0.0699721053,-0.0279458612,-0.0011101553,0.0311669186,0.0016450417,-0.0299128257,0.0215950385,0.004585579,0.0354871526,-0.0321502388,0.0459699333,0.0160052702,-0.0520957485,0.0016473164,0.0428319983,-0.0168343913,0.0097079854,0.0542393811,-0.0288516358,-0.0357207395,0.0009788171,0.0409690738,-0.0222405717,0.0796459392,-0.0586029105,-0.0434467047,0.0327136591,-0.0060655288,0.023528222,-0.0250195414,-0.0370990373,-0.0291863382,-0.0029707097,-0.02453571,0.0142501416,-0.0125729768,-0.0228962246,0.0391102806,-0.0028821058,-0.0484989434,0.1088082418,-0.0206652582,0.0100768842,0.0258226153,0.0215320643,0.0012271674,0.0726369619,-0.0001495004,-0.0100471145,-0.0164432954,0.0213033557,-0.0799887851,0.0138095692,0.0583810173,-0.0791272223,-0.0240016505,0.0173381418,-0.0296580363,0.0626127869,-0.0119439969,0.0043217079,-0.0213675443,0.0189106334,0.040246401,-0.0432280824,0.018046584,0.0332777612,0.0172085445,-0.0525202975,0.0133975865,-0.0113282399,0.0329217128,0.0493640155,0.0352823697,0.068555221,-0.0322979316,-0.065113157,0.0456038862,0.036186032,0.0406090319,0.0104262913,0.0923790112,-0.0232401118,0.0410159864,0.0085392827,0.0244493466,-0.0370908417,-0.078678377,0.0192320514,-0.0658570006,0.0141385375,-0.0455521643,0.0148952715,-0.027729556,-0.0135432817,-0.0047057397,0.0260614082,-0.0117012113,-0.04607502,0.0124536026,0.0070677986,0.0366300531,0.0114336507,0.0050971336,0.0037696243,-0.0313115045,0.0067307591,0.0383716784,0.0294514243,0.0144657558,0.0140898414,-0.0402031876,0.0374723114,-0.0434386544,-0.0204513818,0.0270381272,-0.0409871377,0.1005960107,-0.0442513302,0.0380481891,-0.0001785238,-0.0404039063,-0.0299945157,-0.0035220971,0.0702755526,0.0266369265,-0.0087799393,-0.0163594671,0.0118876882,-0.0046060449,0.0055862707,-0.0225687064,0.0118602151,0.000843955,-0.0528349616,0.004649275,-0.0173274726,0.0073436103,-0.054703787,-0.0185088869,0.0393336192,0.0038297933,0.021711234,-0.048838079,-0.0656226352,-0.0228785239,-0.038889356,0.0352206565,0.032793045,0.0692449659,0.0349968225,0.0503339507,0.0193750411,-0.0591038652,0.0117742969,-0.0064028371,-0.022146374,-0.0109825861,0.0244709104,-0.023928728,0.0019385136,0.0291965697,0.0146200564]}\n",
      "{\"id\":71153507,\"embedding\":[0.0284180436,-0.050492648,-0.0258253813,0.0381766446,0.0000406863,-0.0051672566,0.0196940359,0.0070100813,-0.0136508336,0.0786497816,-0.0298823174,0.0476821512,0.0623317584,-0.0090652527,-0.0504126698,0.0583248287,-0.0384821557,0.0119685372,-0.0117366323,0.0267712623,-0.0271094441,-0.0125184674,0.0106720096,0.0175170042,-0.0496283844,-0.0290834401,-0.0413185768,-0.001945852,-0.0496321507,-0.0253470894,0.0414766371,0.0649064779,0.0262131449,-0.0104163261,-0.002944458,-0.0141488807,-0.0510947704,0.0351357348,0.0115595562,-0.0235032383,-0.072371237,-0.0350786522,-0.0068470147,0.0070022717,-0.0096873809,0.0151903313,-0.0512007251,0.0716328174,0.0259568281,0.0122215804,0.0409809723,-0.052328784,0.0254940744,-0.0236114115,-0.0174183641,-0.0254473463,-0.0489028022,0.0017409202,0.0403878726,-0.0027286496,0.0240774471,-0.0277103726,-0.0085842889,0.0209327918,0.0054312972,-0.0341334976,0.0160035565,0.0299173575,-0.0448821001,0.0076574725,0.0126886843,0.0077202199,-0.0498331152,-0.0246418677,-0.0015709957,-0.0101038497,-0.0053238329,-0.0187058952,0.0208625309,0.0222968645,0.0225673635,-0.0337495916,-0.0112636937,-0.0545328595,0.086190477,0.0684176609,-0.0082014268,-0.0239820294,-0.0194554534,-0.0423663706,0.1055375561,-0.0084069027,0.0150893228,0.019158911,0.0431370363,0.0310520362,-0.0537942275,-0.0253594685,0.0094032306,0.0054542725,-0.0243747402,-0.012033564,-0.0102863731,-0.0661002472,-0.0097411089,-0.0707112923,-0.0542413145,-0.0106489379,-0.0231663547,0.0150833288,0.0402860753,0.0239709709,0.0360751823,0.0307827462,-0.0297111981,0.0313458443,0.0391862579,0.0015676894,0.011880883,0.0510351509,0.0091713332,0.0464508645,-0.00135501,0.0394593775,0.1114519015,0.0507311411,0.0390723608,-0.019274205,-0.0509740524,-0.005535861,0.0277134702,0.0071868501,-0.0003463092,0.01815762,-0.0311246086,-0.0090828678,0.0481888987,-0.0121199097,0.0369176194,0.0437771119,-0.0201538466,-0.0862331614,-0.0728640556,-0.0384938382,-0.0182567425,-0.0265186876,-0.0088789808,0.0064421357,-0.0081307897,-0.0112741441,-0.0539879277,0.0253647864,0.0128686428,0.0269926041,0.00838219,-0.0389002599,0.0158838332,-0.0076622199,-0.0318392068,0.0142933326,-0.0133039085,-0.0485620014,-0.0369640514,-0.0497474447,-0.0261539724,-0.0614268258,-0.0256646872,0.011507771,0.0406062007,-0.0280890297,-0.0382361859,-0.0224087052,-0.0336887054,-0.0024281498,-0.0372055396,0.064028956,-0.0226133689,-0.0023310168,0.0267523825,-0.0533074774,0.0444860421,0.0500063337,-0.0063339267,-0.0973415971,0.0140876714,0.0050621866,-0.0775412023,0.0322466902,0.01139687,0.0434752814,-0.0097156055,0.0191341583,-0.0029633504,0.0632888824,-0.0193489436,-0.0480519421,0.0309090149,0.005044281,-0.0605914555,-0.106719166,0.0319946297,0.0181484781,0.0103331264,-0.0151134143,0.0216566902,-0.0533662587,-0.0200467668,-0.0284070875,-0.0318307579,0.0151459146,-0.012796538,0.0385737233,-0.0236424282,-0.0045795776,0.0341101401,0.0328274667,0.0122740809,-0.0225493796,-0.0130047416,0.0351466611,0.0386213139,-0.0239172,0.0404513068,0.0303455107,0.0255528148,0.0033495014,-0.0341535956,-0.0088175228,-0.0399036929,-0.0206374731,0.0162869431,0.0621334165,-0.031119749,-0.0073908209,0.0342510454,0.0458542034,-0.0237360448,-0.0165656209,0.0305633508,0.0797089487,-0.0137198362,0.0151481014,-0.0312815085,0.0572643466,0.0469066054,0.0201481134,0.0112438099,0.0111140683,0.0409028269,-0.0340879001,0.0208006892,-0.0170787424,0.0129180253,0.0038587614,0.0122695779,-0.0397791453,0.0121656694,0.0354119837,0.0087221069,0.0203153919,0.0160944965,-0.0662079677,-0.0373806395,-0.0142801171,-0.0119502079,-0.0455179363,-0.0743064508,-0.0538536981,0.0069931103,-0.008818333,0.0471147634,0.001505442,0.018936893,-0.0487928391,0.0360107683,0.0336367488,0.0100616487,-0.0532645546,0.0190798026,-0.0377029888,-0.0283791181,-0.0399372727,0.09847828,0.0691178516,0.0123377722,-0.0590704419,-0.0345186703,0.0522116385,0.0395814627,0.0018664977,0.034063179,-0.010417535,-0.0215752516,-0.035970632,0.0384497754,0.0066833356,0.0157091599,0.0198303461,0.0684992,-0.0307007432,0.0403940603,0.0345149525,-0.0207178406,0.0787974894,-0.0336503871,0.0394629054,-0.014984346,0.0354518481,0.0301145222,-0.0772705227,-0.0317066014,-0.0412629172,-0.0216397177,-0.0554237366,0.0111627616,-0.0221155956,-0.0993217677,0.0370707437,-0.0121089611,-0.0373161733,0.0304125212,0.032764297,0.013447945,-0.0272320099,0.040558584,-0.0018419988,0.0005789351,0.0114922281,0.0138473064,0.048101522,0.0712124705,0.000937611,0.0362288989,-0.0333455242,-0.0457774214,0.0325581282,-0.0225232374,-0.0083452826,0.0288140178,0.0014363555,0.0803190023,0.0266683009,0.0023507697,0.0287495218,-0.0186600648,-0.0164246522,-0.0258426256,0.0113600316,-0.0426124856,0.0134690413,0.0117092635,0.0605727993,-0.0530346781,0.0282383934,-0.0047292649,0.01508989,0.0131017994,-0.0227029417,0.0465655848,-0.0032057764,-0.0300075207,0.0274270438,-0.0812035501,0.0592494048,0.0481571332,-0.0237492379,0.0292377081,0.052241724,0.0573730543,-0.0269557722,0.0317935832,-0.0278054141,-0.0516288243,0.0492898673,0.0151725458,0.0198272076,-0.0484150238,0.0316184647,-0.0013861774,0.0126694571,0.0285102576,-0.0107772294,-0.0021812061,-0.0501625352,-0.0041400688,0.0522792079,-0.0175408479,0.0201456808,0.0217318889,-0.0438758992,-0.0328774042,0.0577936284,-0.0207230058,0.0099259494,-0.0545036979,0.0184107888,0.0385330468,0.0433870777,-0.0386872217,0.0149377882,0.0262193978,-0.0309635065,0.0274703633,-0.0450305603,-0.0174702667,0.0409860536,0.002721908,-0.0118901478,0.0631456524,0.0449968874,0.0043276935,-0.0398878865,-0.0112250447,-0.001760124,0.0403663442,-0.0050027207,0.0270692725,-0.005420221,0.0154675692,-0.0478075109,-0.0280069523,0.0082395449,0.0085610831,0.0108433561,-0.0038042071,-0.0391569696,-0.030239949,-0.0527212173,0.0091370847,-0.0179404281,0.0115379868,0.0084321843,-0.0679175332,0.0067521199,0.0163974743,0.0391818173,0.0678826496,-0.0750616565,0.0275574438,0.0050518354,0.0801695436,0.0117069045,0.0758476555,0.0061294567,-0.0117249144,0.0478695631,0.019761283,0.0135730645,0.0384606421,-0.0080673108,-0.0038067265,0.0194069482,0.012209801,-0.0602975562,-0.0541687012,0.0012296762,-0.0193457585,0.0518927388,-0.053625457,-0.1297412962,-0.0712847263,-0.0331788175,-0.0283209775,0.003947983,0.0349613167,-0.0176136848,0.0225534011,0.02213067,0.0485864878,-0.0359490179,-0.0750648454,0.0208218712,-0.0198224783,-0.0233724583,0.0164175574,0.0204814635,-0.0146235833,0.0360599682,-0.0228410959,-0.032879591,-0.0265417304,-0.0419928506,0.0105513493,0.0260899104,-0.0048727891,-0.0153872585,-0.0265685748,0.0208157338,0.0117564863,-0.0232768245,0.0015394154,0.0132745029,-0.0774505511,-0.0299580842,0.005753953,-0.0007259419,0.0368219428,0.0171119571,-0.0163206328,0.0280119292,-0.0084793214,-0.019996414,0.0267485846,-0.0477089845,-0.0249192212,-0.0054254015,-0.0570499636,-0.0160965603,-0.0047026966,-0.0208124667,0.0759623051,-0.0444895439,-0.0105541237,0.0153267737,-0.0494766682,0.0271009281,-0.0343152545,-0.0371407121,-0.0219045337,-0.0242523663,-0.0888843536,-0.0230160803,0.0373293757,-0.0698795393,0.0093201138,-0.0726082921,0.0384702943,-0.0037624168,0.0158677977,0.0127204908,-0.0086808456,0.0264356751,0.0331115164,0.0270866882,0.0320651792,0.0519148298,0.0590357929,-0.0198179875,0.0079152742,-0.0046799532,0.0056761797,-0.0735201836,-0.0137739545,0.0020944513,0.0556089282,-0.0008353461,0.0043556336,0.0525310263,0.0546281002,0.0411253236,-0.0234727412,-0.014345984,-0.0101036076,0.0167408939,-0.0092430282,0.0049380665,0.0109004313,0.0106360177,0.0152625423,-0.0256768912,0.0171934348,0.0075183138,-0.0059210993,0.0309046675,0.0162685383,0.0483554788,0.0183604527,0.0229548998,-0.0285607595,-0.0207286328,-0.0478961319,-0.0825570226,0.0294288248,0.0490165353,0.0217702705,0.0309524406,-0.0252567921,0.0346685871,0.0349180363,-0.0472941622,-0.0752872303,0.0312339682,0.0496114194,0.0460677519,-0.0126694813,-0.0163874608,-0.0000382741,0.0359152555,0.0456368215,-0.0191762298,-0.0557341911,-0.0264240466,-0.0225223415,-0.0513674505,-0.0074673961,-0.0036229882,-0.0099617178,0.0468591191,-0.0177658442,0.0197236985,-0.0004262759,0.0130525446,-0.0357329883,0.0095147267,-0.0050968057,-0.0366270356,-0.0227937754,-0.0338570736,-0.1003841013,-0.0402400978,-0.0031512498,0.0417113006,-0.0058984342,-0.0524954423,-0.0440451726,-0.0348349214,-0.0553655885,-0.0437471159,-0.0391329117,0.0352738127,-0.0658508912,0.0703573525,0.0217668843,0.00669365,-0.0107501829,-0.0087314798,0.0033410436,-0.0171636026,0.0476683453,-0.0240512826,0.0183685776,0.068064034,0.0077597834,0.0074680308,-0.0265961476,-0.0491693094,-0.0413175896,0.0136719532,-0.0185558703,0.0020438426,-0.0244958419,0.0243840292,0.0564504378,-0.0208382029,0.0420351438,0.092963554,0.0687396899,0.0000273,0.0437045991,0.0304834638,-0.0059041437,0.021675935,0.0137639502,0.0323967598,-0.0157672688,-0.0173279382,-0.025358649,0.0042007007,-0.0524454303,-0.0387599878,0.0142889712,-0.0047492874,-0.0664165094,-0.0145706991,0.0293562934,-0.0432225764,0.0051771379,0.0058662184,-0.0316284224,0.0077087493,0.0180599391,0.0125909289,0.0136631886,0.0635536313,-0.0204031393,-0.0521133207,0.0379047245,0.0655109808,0.0164644718,0.0497818664,-0.0017018275,0.0079939999,-0.0319837332,0.0667155981,-0.033101391,-0.0090415962,0.0603853539,-0.0341171063,0.001516262,-0.0039314204,-0.0035161667,0.0019583569,-0.0250422489,-0.0029941173,-0.0439202413,0.0450863689,-0.0152131943,0.0089194495,-0.0609308146,-0.0239063483,0.0677976981,-0.0331786498,-0.0271589253,0.0056173531,0.0259756967,0.0026711356,-0.0139257787,0.0848682225,0.0223765541,0.0087600965,0.0002026923,0.0018216919,0.0027514051,0.0040017739,-0.0147591233,0.0173791982,0.0523338132,0.0274627022,-0.0096078217,0.0346781276,-0.0342117064,0.0037793692,0.1035297662,0.0150517663,0.0315804891,-0.0434297621,-0.0107544968,-0.0093671773,-0.0071077626,0.0651681721,-0.0081946552,0.0701012388,-0.003159625,0.0157529078,-0.0011577556,0.0088794278,-0.0424825624,-0.0084150005,-0.022351075,-0.0433864184,0.0428059734,-0.0627429634,-0.0329217426,-0.0535642877,-0.0214315262,0.0473158546,-0.0068044267,-0.015179215,0.0075162491,-0.0282455962,-0.0744938329,-0.0469942465,0.0160979647,-0.01336159,0.030149987,-0.0150023932,0.0097860703,-0.0265458357,-0.0221555065,0.0100002419,-0.0468380153,0.010677292,0.0135881184,0.0263825469,-0.0466159172,-0.0336187407,-0.0129089272,-0.0263018813]}\n",
      "{\"id\":71206139,\"embedding\":[0.0266958009,-0.0306032971,-0.0108978609,0.0086201522,0.0707862452,0.0306831654,0.0343393795,-0.0003102107,0.0165886022,0.0192572065,-0.0287091117,0.0413890854,0.0044867629,-0.0033592482,-0.013939552,-0.0511364937,0.0362607799,-0.0057384549,-0.0074099712,-0.0282834433,-0.0294861551,0.0034818077,-0.0223815721,0.0115255211,-0.0171835404,0.0118903518,-0.0295555834,-0.0411777534,-0.0211966299,-0.0265858397,0.030632494,-0.0331549048,-0.0049634357,-0.0075776353,0.0465793051,0.0408325531,0.0242419466,0.0253906287,0.0230742842,0.0018211942,-0.0352258608,0.0093333917,-0.0075067305,0.006908583,0.0213721301,-0.0625253096,0.0228206106,-0.0104017295,0.0017598137,0.0318151861,0.0187518559,0.0307578947,0.0302671678,0.02810302,0.0188838746,0.0282641873,0.0214696135,0.0138665326,0.024854131,0.0041394699,0.0149479862,-0.0122983204,-0.0072212913,-0.0189168286,0.0255911928,-0.056083817,0.0038054769,0.0164255109,-0.0565840676,-0.001637124,-0.047139883,0.0431284048,-0.0283709168,-0.0181312039,-0.004035586,-0.0235435516,0.011367227,0.0346790887,-0.0022299537,0.0021792741,0.0053216475,0.0059217429,-0.0023418143,-0.0217162929,0.0427914783,-0.0037940477,0.0292455107,-0.0405133665,-0.0125675723,-0.0330144726,0.0132757118,-0.0120466305,-0.0211404897,-0.0433201827,0.0383437797,0.0082631651,-0.0367275849,-0.0783369616,0.0842184126,0.0615101308,0.0212295093,-0.0120731415,0.0326576643,-0.0406354554,0.037923865,0.0042325193,-0.0833104774,-0.0249676332,-0.0419765227,-0.0013917413,0.0240230411,-0.0104252947,0.0175579265,0.0151414946,-0.112635985,-0.008108004,0.0178191774,0.0179133546,0.043926809,-0.0854017362,0.0298056696,0.0313044526,-0.0072814636,0.0776013657,0.057910949,0.0468443558,0.0786262304,-0.011769589,-0.0498444326,-0.017052222,0.088255696,0.0193985738,0.0127611989,0.0101461345,-0.0183381271,-0.0328460336,0.0116769355,-0.0351194069,0.0038825087,0.001144907,0.0369413532,0.0195069592,-0.054328464,-0.0155847752,-0.0623864457,-0.0403065272,-0.0030505774,0.1079536974,-0.0092292419,0.0354818664,-0.0165367071,-0.0759884566,-0.0352601409,-0.0034194307,0.0369266905,-0.0385137945,0.0593513027,-0.0555312373,0.0457170531,-0.0016968754,0.0049011675,-0.0321025364,-0.0084402049,-0.0076614935,0.0123195723,0.02416935,0.0262609757,-0.0015589788,0.0251828749,-0.0043541943,0.0141068315,-0.0232594274,0.0561401099,-0.0367605686,-0.0436194129,0.0972396657,-0.0526076034,-0.0514398739,-0.0074740155,-0.0366676152,0.0587970763,0.0736405998,-0.0205694996,-0.0226760022,0.0419214256,0.0494523905,0.0728899166,0.0426264927,0.0574278608,0.0189519692,0.0126531143,-0.0250087492,0.0093952091,0.0434394218,0.0240421537,-0.025181748,0.0019744767,0.0468000546,0.0050192382,-0.0054316544,0.0041394802,-0.0431317315,-0.0489008836,-0.0784178674,-0.0250744019,0.0218890756,0.0086307423,-0.0357147753,0.0432513431,-0.0322954729,0.0359341539,-0.0109110447,0.0008104748,-0.0951346606,0.0363888182,0.0602685325,0.0298561789,0.023151556,0.0565843172,-0.0232865885,-0.0153911011,0.050533127,0.0600581691,-0.0054197777,0.0463190414,-0.0787960663,-0.0010562505,0.0386473313,-0.0502013378,-0.0487251356,0.0286028367,0.0372895636,-0.0104869651,0.0669102445,0.0421912,-0.0020209469,0.0211361349,-0.0613728389,0.0300087426,0.0274465568,-0.0005571553,-0.0387993976,-0.0290852413,-0.0044335779,0.0040843147,-0.0168724898,0.0061527281,0.0187352598,-0.0178372916,-0.0412878767,-0.0508872755,-0.0446861237,-0.0579871833,-0.0397703163,-0.0644235983,-0.0071048681,0.0365059264,0.0270760152,-0.0316719934,-0.0380938239,-0.0395552777,-0.0479313061,0.0650216937,-0.0188916121,-0.0283369571,-0.0410992913,0.0076132244,-0.0214999039,-0.004734911,-0.0327650569,0.0133019118,0.0032295166,-0.0634245872,-0.0347393006,-0.0143374074,0.0326865278,-0.0802015141,0.042097725,-0.0280938894,-0.0091408305,-0.0440284014,-0.007441293,0.0439549424,0.0409420244,0.0116436146,-0.0725355148,0.009989107,0.0158734042,0.002877197,-0.0217334535,0.0384638384,-0.0039959699,-0.0556063913,-0.0322144851,-0.0329635814,0.0051683555,0.082615532,0.0616144985,0.0493074059,0.0302208941,0.0804192424,0.0129172234,0.0533892885,0.0646614358,-0.0186398122,0.0544204973,-0.0301870871,0.0000838967,0.010371848,-0.0087922625,0.0766819045,-0.0031207544,-0.0048515401,0.0460957997,-0.0299520474,-0.0022721682,-0.0609386265,-0.0222471356,-0.0761497617,-0.0302189477,-0.0058021452,0.0689427853,-0.0026004161,0.0437179841,-0.0230041426,0.0179867502,-0.0177992284,0.002223511,0.0018127644,0.0168179516,0.0443517119,0.0188503321,-0.0186902974,-0.0168378968,0.0301244818,0.0678064078,-0.0664432645,0.021998331,0.032163322,0.0063271686,0.0529872552,0.0282652099,0.0288941544,0.0127368728,0.0046322765,0.0296469089,-0.029964,0.0266822912,0.0143324863,0.0403723754,0.0418210663,0.0177911501,-0.0239446983,0.0455490611,-0.0382293947,0.0415511429,0.012047004,0.0632878169,0.0090952106,-0.0297269411,0.0443252772,0.0410418324,0.0002444975,-0.0084114429,0.0130463894,0.0317804404,0.0462623648,0.0624317229,0.0356269702,-0.0049432022,-0.06303709,-0.0120004946,-0.0088431733,0.0164152607,0.0128165465,-0.0327250063,0.0109392516,-0.0246010348,-0.0158837978,-0.0015051017,-0.0531095006,-0.018610917,-0.0175840706,0.022763323,-0.0344174579,-0.0193368159,0.000702108,-0.0033681772,0.0135799358,0.0029925117,-0.0366394296,0.0835229829,0.0367973782,-0.0072977962,-0.0383465402,-0.0054614982,0.0101203416,0.0255448818,-0.0179099329,-0.0473963991,-0.0226922687,-0.0490751863,-0.0174389929,-0.0600359663,-0.0059418497,0.0235940497,0.0845682397,-0.0251785945,0.0099404147,0.0015559145,-0.0087251049,-0.0313720293,-0.0325596035,0.030409243,0.0144182574,0.0008043848,0.0006171457,-0.0098402957,0.055384066,-0.0461958423,-0.0340647064,-0.0257379804,0.0033601052,-0.0567504093,0.0117369797,-0.0574325137,-0.0012605134,0.0165361129,-0.0090904245,-0.0268124118,0.0532803386,0.0330832414,0.0105330953,0.0070076943,0.005684536,0.0522025451,-0.0022333337,-0.0304265935,-0.0523592792,0.0223779511,0.0182774682,0.0345321186,0.0649911538,-0.0292307343,-0.0553500168,0.0274669379,0.030734824,0.0253329147,0.0338287763,0.0333795287,-0.0340138227,0.0685137063,0.0246735234,0.0114260651,-0.0704532415,0.0320409164,-0.021598516,0.0684138313,0.0076226494,0.0339594521,-0.0467320606,-0.0389494635,-0.0227250159,0.0142159536,-0.0003557467,-0.0226654354,-0.0242120437,0.0611772984,0.0121436547,0.017373804,0.0234354697,0.0118476488,0.0692244023,0.0026583131,-0.012001249,0.0057912832,-0.0243295114,0.016248107,-0.0238884538,-0.0184689779,-0.0150641166,0.0522315465,-0.012614958,0.0058189984,-0.0210840702,-0.0320551321,0.0375748649,0.0141482428,-0.0411907434,-0.0023143231,0.0284268223,0.0377495736,-0.0293457154,-0.0190824252,0.0249064248,0.0144994836,0.0168194994,-0.0464812778,0.0421616659,0.061513301,-0.0055718683,0.0536192022,0.0537308082,-0.0693572015,-0.0301326755,-0.0212104507,-0.0145798912,0.0171551332,-0.0000239064,0.0118778637,0.0606708191,0.0210962687,-0.028622942,0.0207426399,-0.0185700245,0.0214907676,0.0418819599,-0.0183678027,-0.0582040437,0.0113046821,-0.056220483,-0.0447427109,0.048872564,0.002635268,0.0015533221,0.0047618737,-0.0037985563,-0.0165007077,0.0395291895,-0.0207896903,0.0014300196,-0.0122616123,0.0694811493,0.0177372973,0.0245296024,0.0485486574,0.0541461408,0.0327104144,0.0308315158,-0.0016125204,-0.0262794383,0.0148206595,-0.0337176993,-0.0295613483,0.0756200701,0.0398584604,-0.0090555847,-0.0309499763,0.0269258395,0.042761635,0.0147754261,0.0031884604,-0.0564351939,0.0167074893,-0.0251245573,-0.0063560312,-0.0424887203,-0.0587094538,0.0123530887,-0.0437606052,-0.0155445971,-0.044194147,-0.0286516752,0.0033111207,-0.00871443,-0.0067972466,-0.0339548439,-0.0064959899,-0.0336705744,0.0376040712,0.044158902,-0.0710329413,-0.0154956896,0.0348989703,0.0237367526,0.0124037154,-0.0257031377,-0.0619602278,0.0197897367,0.0317001641,0.0245819297,0.0206989832,0.0130272163,0.0723282322,-0.0020261169,-0.0124669392,-0.0224551577,-0.0357337631,0.0179020818,0.011884938,-0.0631586164,-0.0149226394,0.0491499752,-0.0261079669,0.0231303219,-0.0485531315,-0.0333801322,-0.0097068148,0.043991778,-0.0541029908,0.0123431878,0.0068109692,0.0759368762,-0.0080709299,-0.0640799254,-0.0507161543,0.0121836551,-0.0763350949,0.0038976246,0.002832548,-0.0124636274,0.0205484387,-0.0540934205,-0.0463356636,-0.0704544559,0.0829986557,-0.0249608383,0.0167322513,0.0295707937,0.0243501589,-0.0054486399,-0.0165623408,0.0388760157,-0.0594592951,-0.0036315459,0.0336104818,0.009832765,-0.0191979036,0.0192919727,0.0093621314,-0.0596639067,0.0480268337,0.0125117805,0.0169503577,-0.0358819775,-0.035584487,-0.0127019649,-0.0019348054,-0.0553204529,0.0328689553,0.01351027,-0.0351107828,0.0939657465,0.0040050102,-0.0581802651,0.0152514037,0.0104262857,0.0256097037,-0.0120610949,0.0318590924,-0.0304935779,0.1155609936,0.0120330108,0.042885337,-0.0478858165,0.02599914,-0.0156441629,0.0372747146,0.0695354491,-0.0138304401,-0.0210970305,-0.0320108235,-0.0072232871,0.0007799917,0.0259859636,-0.0108603276,-0.0113515919,0.055799067,-0.0026320324,0.0237951186,0.0301779658,0.0133896032,0.0176361278,0.0525351688,-0.0297493208,-0.0270315632,-0.0013285723,0.0785157531,-0.0125499424,0.0691367611,0.0178277381,-0.0053282711,-0.0099205179,-0.0042102598,-0.0366915278,0.0217403639,-0.0035709345,-0.0085147219,-0.0124319298,-0.0081852637,0.0622664541,-0.0341487341,0.0135106444,-0.0166607369,-0.0353800841,0.0299586412,0.0396329165,0.036035493,0.00895721,0.0284010228,-0.0189037267,-0.0189200733,0.0185239408,-0.0330231264,-0.0280611515,-0.0136899529,0.0431360081,0.0143338339,-0.0017329447,-0.0116447862,-0.063988626,0.0009575649,0.0686919242,-0.0325725228,-0.0343549885,-0.0171065554,0.035090182,-0.0055130809,0.0142925028,-0.0004899134,0.0515886359,-0.0067438991,0.0783359408,-0.0090472633,0.0132280448,-0.0155645255,-0.0691109523,-0.0434571616,-0.0477170944,0.0391102098,-0.0380595848,-0.0023003293,-0.0186288618,0.0411768407,-0.0078823594,0.0151510565,-0.0508777946,-0.0429048911,-0.035281118,0.0054286495,0.0055167652,-0.0038461683,-0.0596735291,-0.0573516078,-0.0418410972,-0.0098866494,0.0343751498,0.0020574266,-0.0294404533,-0.0351540335,-0.0695765391,-0.0087562343,-0.0064535677,0.0570815578,0.0396447591,-0.039443858,0.0183294471,0.0229118578,0.0417073853,-0.0168126002,-0.0698440596,0.0725528672,-0.0348488092,0.0573177822,0.0017129291,-0.0160781518,-0.0176048912,-0.0325860381]}\n"
     ]
    }
   ],
   "source": [
    "# save id and embedding as a json file\n",
    "jsonl_string = df[[\"id\", \"embedding\"]].to_json(orient=\"records\", lines=True)\n",
    "with open(\"questions.json\", \"w\") as f:\n",
    "    f.write(jsonl_string)\n",
    "\n",
    "# show the first few lines of the json file\n",
    "! head -n 3 questions.json"
   ]
  },
  {
   "cell_type": "markdown",
   "metadata": {
    "id": "-WTNJ3FAQl_W"
   },
   "source": [
    "Then, create a new Cloud Storage bucket and copy the file to it."
   ]
  },
  {
   "cell_type": "code",
   "execution_count": 13,
   "metadata": {
    "id": "CzwDWJfzAk3n",
    "tags": []
   },
   "outputs": [
    {
     "name": "stdout",
     "output_type": "stream",
     "text": [
      "Creating gs://qwiklabs-gcp-02-743d22f62bb0-embvs-tutorial-11221540/...\n",
      "Copying file://questions.json [Content-Type=application/json]...\n",
      "/ [1 files][  9.8 MiB/  9.8 MiB]                                                \n",
      "Operation completed over 1 objects/9.8 MiB.                                      \n"
     ]
    }
   ],
   "source": [
    "BUCKET_URI = f\"gs://{PROJECT_ID}-embvs-tutorial-{UID}\"\n",
    "! gsutil mb -l $LOCATION -p {PROJECT_ID} {BUCKET_URI}\n",
    "! gsutil cp questions.json {BUCKET_URI}"
   ]
  },
  {
   "cell_type": "markdown",
   "metadata": {
    "id": "xxdbjKw1XDxl"
   },
   "source": [
    "### Create an Index\n",
    "\n",
    "Now it's ready to load the embeddings to Vector Search. Its APIs are available under the [aiplatform](https://cloud.google.com/python/docs/reference/aiplatform/latest/google.cloud.aiplatform) package of the SDK."
   ]
  },
  {
   "cell_type": "code",
   "execution_count": 14,
   "metadata": {
    "id": "8unyr9KagAoI",
    "tags": []
   },
   "outputs": [],
   "source": [
    "# init the aiplatform package\n",
    "from google.cloud import aiplatform\n",
    "\n",
    "aiplatform.init(project=PROJECT_ID, location=LOCATION)"
   ]
  },
  {
   "cell_type": "markdown",
   "metadata": {
    "id": "xpMUXqWQ75uu"
   },
   "source": [
    "Create an [MatchingEngineIndex](https://cloud.google.com/python/docs/reference/aiplatform/latest/google.cloud.aiplatform.MatchingEngineIndex) with its `create_tree_ah_index` function (Matching Engine is the previous name of Vector Search)."
   ]
  },
  {
   "cell_type": "code",
   "execution_count": 15,
   "metadata": {
    "id": "kKDw5VXMkXb3",
    "tags": []
   },
   "outputs": [
    {
     "name": "stdout",
     "output_type": "stream",
     "text": [
      "Creating MatchingEngineIndex\n",
      "Create MatchingEngineIndex backing LRO: projects/725277146552/locations/us-central1/indexes/533425867192270848/operations/7235547819489099776\n",
      "MatchingEngineIndex created. Resource name: projects/725277146552/locations/us-central1/indexes/533425867192270848\n",
      "To use this MatchingEngineIndex in another session:\n",
      "index = aiplatform.MatchingEngineIndex('projects/725277146552/locations/us-central1/indexes/533425867192270848')\n"
     ]
    }
   ],
   "source": [
    "# create index\n",
    "my_index = aiplatform.MatchingEngineIndex.create_tree_ah_index(\n",
    "    display_name=f\"embvs-tutorial-index-{UID}\",\n",
    "    contents_delta_uri=BUCKET_URI,\n",
    "    dimensions=768,\n",
    "    approximate_neighbors_count=20,\n",
    "    distance_measure_type=\"DOT_PRODUCT_DISTANCE\",\n",
    ")"
   ]
  },
  {
   "cell_type": "markdown",
   "metadata": {
    "id": "2rFam_w9U0dI"
   },
   "source": [
    "By calling the `create_tree_ah_index` function, it starts building an Index. This will take under a few minutes if the dataset is small, otherwise about 50 minutes or more depending on the size of the dataset. You can check status of the index creation on [the Vector Search Console > INDEXES tab](https://console.cloud.google.com/vertex-ai/matching-engine/indexes).\n",
    "\n",
    "![](https://storage.googleapis.com/github-repo/img/embeddings/vs-quickstart/creating-index.png)\n",
    "\n",
    "#### The parameters for creating index\n",
    "\n",
    "- `contents_delta_uri`: The URI of Cloud Storage directory where you stored the embedding JSON files\n",
    "- `dimensions`: Dimension size of each embedding. In this case, it is 768 as we are using the embeddings from the Text Embeddings API.\n",
    "- `approximate_neighbors_count`: how many similar items we want to retrieve in typical cases\n",
    "- `distance_measure_type`: what metrics to measure distance/similarity between embeddings. In this case it's `DOT_PRODUCT_DISTANCE`\n",
    "\n",
    "See [the document](https://cloud.google.com/vertex-ai/docs/vector-search/create-manage-index) for more details on creating Index and the parameters.\n",
    "\n",
    "#### Batch Update or Streaming Update?\n",
    "There are two types of index: Index for *Batch Update* (used in this tutorial) and Index for *Streaming Updates*. The Batch Update index can be updated with a batch process whereas the Streaming Update index can be updated in real-time. The latter one is more suited for use cases where you want to add or update each embeddings in the index more often, and crucial to serve with the latest embeddings, such as e-commerce product search.\n"
   ]
  },
  {
   "cell_type": "markdown",
   "metadata": {
    "id": "VLOAMF50XMI8"
   },
   "source": [
    "### Create Index Endpoint and deploy the Index\n",
    "\n",
    "To use the Index, you need to create an [Index Endpoint](https://cloud.google.com/vertex-ai/docs/vector-search/deploy-index-public). It works as a server instance accepting query requests for your Index."
   ]
  },
  {
   "cell_type": "code",
   "execution_count": 17,
   "metadata": {
    "id": "h6IzyufWCjU1",
    "tags": []
   },
   "outputs": [
    {
     "name": "stdout",
     "output_type": "stream",
     "text": [
      "Creating MatchingEngineIndexEndpoint\n",
      "Create MatchingEngineIndexEndpoint backing LRO: projects/725277146552/locations/us-central1/indexEndpoints/7190537764817862656/operations/8280664408015765504\n",
      "MatchingEngineIndexEndpoint created. Resource name: projects/725277146552/locations/us-central1/indexEndpoints/7190537764817862656\n",
      "To use this MatchingEngineIndexEndpoint in another session:\n",
      "index_endpoint = aiplatform.MatchingEngineIndexEndpoint('projects/725277146552/locations/us-central1/indexEndpoints/7190537764817862656')\n"
     ]
    }
   ],
   "source": [
    "# create IndexEndpoint\n",
    "my_index_endpoint = aiplatform.MatchingEngineIndexEndpoint.create(\n",
    "    display_name=f\"embvs-tutorial-index-endpoint-11221519\",\n",
    "    public_endpoint_enabled=True,\n",
    ")"
   ]
  },
  {
   "cell_type": "markdown",
   "metadata": {
    "id": "11e3e1a3a9e9"
   },
   "source": [
    "This tutorial utilizes a [Public Endpoint](https://cloud.google.com/vertex-ai/docs/vector-search/setup/setup#choose-endpoint) and does not support [Virtual Private Cloud (VPC)](https://cloud.google.com/vpc/docs/private-services-access). Unless you have a specific requirement for VPC, we recommend using a Public Endpoint. Despite the term \"public\" in its name, it does not imply open access to the public internet. Rather, it functions like other endpoints in Vertex AI services, which are secured by default through IAM. Without explicit IAM permissions, as we have previously established, no one can access the endpoint."
   ]
  },
  {
   "cell_type": "markdown",
   "metadata": {
    "id": "8n33iO1T5hFO"
   },
   "source": [
    "With the Index Endpoint, deploy the Index by specifying an unique deployed index ID."
   ]
  },
  {
   "cell_type": "code",
   "execution_count": 20,
   "metadata": {
    "id": "FcBHLifGwAWq",
    "tags": []
   },
   "outputs": [],
   "source": [
    "DEPLOYED_INDEX_ID = f\"embvs_tutorial_deployed_7190537764817862656\""
   ]
  },
  {
   "cell_type": "code",
   "execution_count": 21,
   "metadata": {
    "id": "1jUoGhY5TPFP",
    "tags": []
   },
   "outputs": [
    {
     "name": "stdout",
     "output_type": "stream",
     "text": [
      "Deploying index MatchingEngineIndexEndpoint index_endpoint: projects/725277146552/locations/us-central1/indexEndpoints/7190537764817862656\n",
      "Deploy index MatchingEngineIndexEndpoint index_endpoint backing LRO: projects/725277146552/locations/us-central1/indexEndpoints/7190537764817862656/operations/111979108895817728\n",
      "MatchingEngineIndexEndpoint index_endpoint Deployed index. Resource name: projects/725277146552/locations/us-central1/indexEndpoints/7190537764817862656\n"
     ]
    },
    {
     "data": {
      "text/plain": [
       "<google.cloud.aiplatform.matching_engine.matching_engine_index_endpoint.MatchingEngineIndexEndpoint object at 0x7f6948983d30> \n",
       "resource name: projects/725277146552/locations/us-central1/indexEndpoints/7190537764817862656"
      ]
     },
     "execution_count": 21,
     "metadata": {},
     "output_type": "execute_result"
    }
   ],
   "source": [
    "# deploy the Index to the Index Endpoint\n",
    "my_index_endpoint.deploy_index(index=my_index, deployed_index_id=DEPLOYED_INDEX_ID)"
   ]
  },
  {
   "cell_type": "markdown",
   "metadata": {
    "id": "xu9ZmWcpXQ55"
   },
   "source": [
    "If it is the first time to deploy an Index to an Index Endpoint, it will take around 25 minutes to automatically build and initiate the backend for it. After the first deployment, it will finish in seconds. To see the status of the index deployment, open [the Vector Search Console > INDEX ENDPOINTS tab](https://console.cloud.google.com/vertex-ai/matching-engine/index-endpoints) and click the Index Endpoint.\n",
    "\n",
    "<img src=\"https://storage.googleapis.com/github-repo/img/embeddings/vs-quickstart/deploying-index.png\" width=\"70%\">"
   ]
  },
  {
   "cell_type": "markdown",
   "metadata": {
    "id": "oTi4PjjbXV-O"
   },
   "source": [
    "### Run Query\n",
    "\n",
    "Finally it's ready to use Vector Search. In the following code, it creates an embedding for a test question, and find similar question with the Vector Search."
   ]
  },
  {
   "cell_type": "code",
   "execution_count": 22,
   "metadata": {
    "id": "FhNuRQqUWdfe",
    "tags": []
   },
   "outputs": [
    {
     "name": "stderr",
     "output_type": "stream",
     "text": [
      "100%|██████████| 1/1 [00:01<00:00,  1.11s/it]\n"
     ]
    }
   ],
   "source": [
    "test_embeddings = get_embeddings_wrapper([\"How to read JSON with Python?\"])"
   ]
  },
  {
   "cell_type": "code",
   "execution_count": 23,
   "metadata": {
    "id": "Q01DGMBPXAg-",
    "tags": []
   },
   "outputs": [
    {
     "name": "stdout",
     "output_type": "stream",
     "text": [
      "0.6617 python server POST .json 501 Unsupported method ('POST')\n",
      "0.6489 Converting values-oriented JSON in PySpark\n",
      "0.5834 How can I receive a list of dictionaries in djano?\n",
      "0.5567 how to parse twitter API v2 timestamps to python datetime\n",
      "0.5567 Looping through Nested json object with unwanted characters\n",
      "0.5522 Get value of cell using pandas - Python\n",
      "0.5498 Custom unmarshalling from flat json to nested struct\n",
      "0.5478 Is there a way to covert date (with different format) into a standardized format in python?\n",
      "0.5467 Python ignore punctuation and white space\n",
      "0.5340 How to find an element in a dict inside tuple?\n",
      "0.5312 Facing \"attribute error:'dict' object has no attribute 'dtype' \" in google colab\n",
      "0.5304 Creating a Python Log-In system using text files\n",
      "0.5276 How to get the names of the output parameters of a function in Python?\n",
      "0.5272 Extract units from string using regex in python\n",
      "0.5263 splitting a python list into sublists\n",
      "0.5253 Speed difference between custom function and dict.get(value) for python dictionary\n",
      "0.5248 User-given input produces TypeError: list indices must be integers or slices, not str\n",
      "0.5241 extracting text from id in beautifulsoup\n",
      "0.5211 How can I login using python selenium?\n",
      "0.5148 Build JSON Tree from Array using node string\n"
     ]
    }
   ],
   "source": [
    "# Test query\n",
    "response = my_index_endpoint.find_neighbors(\n",
    "    deployed_index_id=DEPLOYED_INDEX_ID,\n",
    "    queries=test_embeddings,\n",
    "    num_neighbors=20,\n",
    ")\n",
    "\n",
    "# show the result\n",
    "import numpy as np\n",
    "\n",
    "for idx, neighbor in enumerate(response[0]):\n",
    "    id = np.int64(neighbor.id)\n",
    "    similar = df.query(\"id == @id\", engine=\"python\")\n",
    "    print(f\"{neighbor.distance:.4f} {similar.title.values[0]}\")"
   ]
  },
  {
   "cell_type": "markdown",
   "metadata": {
    "id": "tPDOL9caoYZ9"
   },
   "source": [
    "The `find_neighbors` function only takes milliseconds to fetch the similar items even when you have billions of items on the Index, thanks to the ScaNN algorithm. Vector Search also supports [autoscaling](https://cloud.google.com/vertex-ai/docs/vector-search/deploy-index-public#autoscaling) which can automatically resize the number of nodes based on the demands of your workloads."
   ]
  },
  {
   "cell_type": "markdown",
   "metadata": {
    "id": "DDt4D6FDyc66"
   },
   "source": [
    "# IMPORTANT: Cleaning Up\n",
    "\n",
    "In case you are using your own Cloud project, not a temporary project on Qwiklab, please make sure to delete all the Indexes, Index Endpoints and Cloud Storage buckets after finishing this tutorial. Otherwise the remaining objects would **incur unexpected costs**.\n",
    "\n",
    "If you used Workbench, you may also need to delete the Notebooks from [the console](https://console.cloud.google.com/vertex-ai/workbench)."
   ]
  },
  {
   "cell_type": "code",
   "execution_count": null,
   "metadata": {
    "id": "MEsKVzguyxNx"
   },
   "outputs": [],
   "source": [
    "# wait for a confirmation\n",
    "input(\"Press Enter to delete Index Endpoint, Index and Cloud Storage bucket:\")\n",
    "\n",
    "# delete Index Endpoint\n",
    "my_index_endpoint.undeploy_all()\n",
    "my_index_endpoint.delete(force=True)\n",
    "\n",
    "# delete Index\n",
    "my_index.delete()\n",
    "\n",
    "# delete Cloud Storage bucket\n",
    "! gsutil rm -r {BUCKET_URI}"
   ]
  },
  {
   "cell_type": "markdown",
   "metadata": {
    "id": "b8k26QOF3Ys7"
   },
   "source": [
    "# Summary\n",
    "\n",
    "## Grounding LLM outputs with Vertex AI Vector Search\n",
    "\n",
    "As we have seen, by combining the Embeddings API and Vector Search, you can use the embeddings to \"ground\" LLM outputs to real business data with low latency.\n",
    "\n",
    "For example, if an user asks a question, Embeddings API can convert it to an embedding, and issue a query on Vector Search to find similar embeddings in its index. Those embeddings represent the actual business data in the databases. As we are just retrieving the business data and not generating any artificial texts, there is no risk of having hallucinations in the result.\n",
    "\n",
    "![](https://storage.googleapis.com/gweb-cloudblog-publish/original_images/10._grounding.png)\n",
    "\n",
    "### The difference between the questions and answers\n",
    "\n",
    "In this tutorial, we have used the Stack Overflow dataset. There is a reason why we had to use it; As the dataset has many pairs of **questions and answers**, so you can just find questions similar to your question to find answers to it.\n",
    "\n",
    "In many business use cases, the semantics (meaning) of questions and answers are different. Also, there could be cases where you would want to add variety of recommended or personalized items to the results, like product search on e-commerce sites.\n",
    "\n",
    "In these cases, the simple semantics search don't work well. It's more like a recommendation system problem where you may want to train a model (e.g. Two-Tower model) to learn the relationship between the question embedding space and answer embedding space. Also, many production systems adds reranking phase after the semantic search to achieve higher search quality. Please see [Scaling deep retrieval with TensorFlow Recommenders and Vertex AI Matching Engine](https://cloud.google.com/blog/products/ai-machine-learning/scaling-deep-retrieval-tensorflow-two-towers-architecture) to learn more.\n",
    "\n",
    "### Hybrid of semantic + keyword search\n",
    "\n",
    "Another typical challenge you will face in production system is to support keyword search combined with the semantic search. For example, for e-commerce product search, you may want to let users find product by entering its product name or model number. As LLM doesn't memorize those product names or model numbers, semantic search can't handle those \"usual\" search functionalities.\n",
    "\n",
    "[Vertex AI Search](https://cloud.google.com/blog/products/ai-machine-learning/vertex-ai-search-and-conversation-is-now-generally-available) is another product you may consider for those requirements. While Vector Search provides a simple semantic search capability only, Search provides a integrated search solution that combines semantic search, keyword search, reranking and filtering, available as an out-of-the-box tool.\n",
    "\n",
    "### What about Retrieval Augmented Generation (RAG)?\n",
    "\n",
    "In this tutorial, we have looked at the simple combination of LLM embeddings and vector search. From this starting point, you may also extend the design to [Retrieval Augmented Generation (RAG)](https://www.google.com/search?q=Retrieval+Augmented+Generation+(RAG)&oq=Retrieval+Augmented+Generation+(RAG)).\n",
    "\n",
    "RAG is a popular architecture pattern of implementing grounding with LLM with text chat UI. The idea is to have the LLM text chat UI as a frontend for the document retrieval with vector search and summarization of the result.\n",
    "\n",
    "![](https://storage.googleapis.com/gweb-cloudblog-publish/images/Figure-7-Ask_Your_Documents_Flow.max-529x434.png)\n",
    "\n",
    "There are some pros and cons between the two solutions.\n",
    "\n",
    "| | Embeddings + vector search | RAG |\n",
    "|---|---|---|\n",
    "| Design | simple | complex |\n",
    "| UI | Text search UI | Text chat UI |\n",
    "| Summarization of result | No | Yes |\n",
    "| Multi-turn (Context aware) | No | Yes |\n",
    "| Latency | milliseconds | seconds |\n",
    "| Cost | lower | higher |\n",
    "| Hallucinations | No risk | Some risk |\n",
    "\n",
    "The Embedding + vector search pattern we have looked at with this tutorial provides simple, fast and low cost semantic search functionality with the LLM intelligence. RAG adds context-aware text chat experience and result summarization to it. While RAG provides the more \"Gen AI-ish\" experience, it also adds a risk of hallucination and higher cost and time for the text generation.\n",
    "\n",
    "To learn more about how to build a RAG solution, you may look at [Building Generative AI applications made easy with Vertex AI PaLM API and LangChain](https://cloud.google.com/blog/products/ai-machine-learning/generative-ai-applications-with-vertex-ai-palm-2-models-and-langchain).\n",
    "\n",
    "## Resources\n",
    "\n",
    "To learn more, please check out the following resources:\n",
    "\n",
    "### Documentations\n",
    "\n",
    "[Vertex AI Embeddings for Text API documentation\n",
    "](https://cloud.google.com/vertex-ai/docs/generative-ai/embeddings/get-text-embeddings)\n",
    "\n",
    "[Vector Search documentation](https://cloud.google.com/vertex-ai/docs/matching-engine/overview)\n",
    "\n",
    "### Vector Search blog posts\n",
    "\n",
    "[Vertex Matching Engine: Blazing fast and massively scalable nearest neighbor search](https://cloud.google.com/blog/products/ai-machine-learning/vertex-matching-engine-blazing-fast-and-massively-scalable-nearest-neighbor-search)\n",
    "\n",
    "[Find anything blazingly fast with Google's vector search technology](https://cloud.google.com/blog/topics/developers-practitioners/find-anything-blazingly-fast-googles-vector-search-technology)\n",
    "\n",
    "[Enabling real-time AI with Streaming Ingestion in Vertex AI](https://cloud.google.com/blog/products/ai-machine-learning/real-time-ai-with-google-cloud-vertex-ai)\n",
    "\n",
    "[Mercari leverages Google's vector search technology to create a new marketplace](https://cloud.google.com/blog/topics/developers-practitioners/mercari-leverages-googles-vector-search-technology-create-new-marketplace)\n",
    "\n",
    "[Recommending news articles using Vertex AI Matching Engine](https://cloud.google.com/blog/products/ai-machine-learning/recommending-articles-using-vertex-ai-matching-engine)\n",
    "\n",
    "[What is Multimodal Search: \"LLMs with vision\" change businesses](https://cloud.google.com/blog/products/ai-machine-learning/multimodal-generative-ai-search)"
   ]
  },
  {
   "cell_type": "markdown",
   "metadata": {
    "id": "BE1tELsH-u8N"
   },
   "source": [
    "# Utilities\n",
    "\n",
    "Sometimes it takes tens of minutes to create or deploy Indexes and you would lose connection with the Colab runtime. In that case, instead of creating or deploying new Index again, you can check [the Vector Search Console](https://console.cloud.google.com/vertex-ai/matching-engine/index-endpoints) and get the existing ones to continue."
   ]
  },
  {
   "cell_type": "markdown",
   "metadata": {
    "id": "wF_pkdpJ-yaq"
   },
   "source": [
    "## Get an existing Index\n",
    "\n",
    "To get an Index object that already exists, replace the following `[your-index-id]` with the index ID and run the cell. You can check the ID on [the Vector Search Console > INDEXES tab](https://console.cloud.google.com/vertex-ai/matching-engine/indexes)."
   ]
  },
  {
   "cell_type": "code",
   "execution_count": 24,
   "metadata": {
    "id": "mEBkZZt_-0jG",
    "tags": []
   },
   "outputs": [],
   "source": [
    "my_index_id = \"533425867192270848\"  # @param {type:\"string\"}\n",
    "my_index = aiplatform.MatchingEngineIndex(my_index_id)"
   ]
  },
  {
   "cell_type": "markdown",
   "metadata": {
    "id": "_vlgzkyw-3CI"
   },
   "source": [
    "## Get an existing Index Endpoint\n",
    "\n",
    "To get an Index Endpoint object that already exists, replace the following `[your-index-endpoint-id]` with the Index Endpoint ID and run the cell. You can check the ID on [the Vector Search Console > INDEX ENDPOINTS tab](https://console.cloud.google.com/vertex-ai/matching-engine/index-endpoints)."
   ]
  },
  {
   "cell_type": "code",
   "execution_count": 25,
   "metadata": {
    "id": "E0OFnirF-6Rk",
    "tags": []
   },
   "outputs": [],
   "source": [
    "my_index_endpoint_id = \"7190537764817862656\"  # @param {type:\"string\"}\n",
    "my_index_endpoint = aiplatform.MatchingEngineIndexEndpoint(my_index_endpoint_id)"
   ]
  }
 ],
 "metadata": {
  "colab": {
   "name": "intro-textemb-vectorsearch.ipynb",
   "toc_visible": true
  },
  "environment": {
   "kernel": "conda-base-py",
   "name": "workbench-notebooks.m126",
   "type": "gcloud",
   "uri": "us-docker.pkg.dev/deeplearning-platform-release/gcr.io/workbench-notebooks:m126"
  },
  "kernelspec": {
   "display_name": "Python 3 (ipykernel) (Local) (Local)",
   "language": "python",
   "name": "conda-base-py"
  },
  "language_info": {
   "codemirror_mode": {
    "name": "ipython",
    "version": 3
   },
   "file_extension": ".py",
   "mimetype": "text/x-python",
   "name": "python",
   "nbconvert_exporter": "python",
   "pygments_lexer": "ipython3",
   "version": "3.10.15"
  }
 },
 "nbformat": 4,
 "nbformat_minor": 4
}
